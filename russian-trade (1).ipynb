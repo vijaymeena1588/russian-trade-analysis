{
 "cells": [
  {
   "cell_type": "markdown",
   "id": "2b5ec206",
   "metadata": {
    "papermill": {
     "duration": 0.012779,
     "end_time": "2023-05-10T10:21:37.155787",
     "exception": false,
     "start_time": "2023-05-10T10:21:37.143008",
     "status": "completed"
    },
    "tags": []
   },
   "source": [
    "# <h1 style=\"font-family: Trebuchet MS; padding: 12px; font-size: 48px; color: #2369ae; text-align: center; line-height: 1.25;\"><b> Russian world export<span style=\"color: #000000\"> </span></b></h1>\n"
   ]
  },
  {
   "cell_type": "code",
   "execution_count": 474,
   "id": "bae2144b",
   "metadata": {
    "papermill": {
     "duration": 12.807501,
     "end_time": "2023-05-10T10:21:37.129402",
     "exception": false,
     "start_time": "2023-05-10T10:21:24.321901",
     "status": "completed"
    },
    "tags": []
   },
   "outputs": [],
   "source": [
    "try :\n",
    "    import circlify\n",
    "except :\n",
    "    !pip install circlify\n",
    "\n",
    "import warnings\n",
    "warnings.filterwarnings(\"ignore\")"
   ]
  },
  {
   "cell_type": "markdown",
   "id": "ec0cc277",
   "metadata": {
    "papermill": {
     "duration": 0.012783,
     "end_time": "2023-05-10T10:21:37.181703",
     "exception": false,
     "start_time": "2023-05-10T10:21:37.168920",
     "status": "completed"
    },
    "tags": []
   },
   "source": [
    "<a id=\"1\"></a>\n",
    "<div style=\"padding:20px;\n",
    "            color:white;\n",
    "            margin:10;\n",
    "            font-size:170%;\n",
    "            text-align:left;\n",
    "            display:fill;\n",
    "            border-radius:5px;\n",
    "            background-color:#294B8E;\n",
    "            overflow:hidden;\n",
    "            font-weight:700\">1 <span style='color:#CDA63A'>|</span> About Dataset</div>"
   ]
  },
  {
   "cell_type": "markdown",
   "id": "45a9d6c0",
   "metadata": {
    "papermill": {
     "duration": 0.01284,
     "end_time": "2023-05-10T10:21:37.207967",
     "exception": false,
     "start_time": "2023-05-10T10:21:37.195127",
     "status": "completed"
    },
    "tags": []
   },
   "source": [
    "+    The data contains Exports made by Russia to the world\n",
    "+    i. 225 Partnering countries\n",
    "+    ii. ~3000 unique commodities Standard International Trade Classification (SITC) Code description"
   ]
  },
  {
   "cell_type": "code",
   "execution_count": 477,
   "id": "66d7339a",
   "metadata": {
    "_cell_guid": "b1076dfc-b9ad-4769-8c92-a6c4dae69d19",
    "_uuid": "8f2839f25d086af736a60e9eeb907d3b93b6e0e5",
    "papermill": {
     "duration": 2.186619,
     "end_time": "2023-05-10T10:21:39.407669",
     "exception": false,
     "start_time": "2023-05-10T10:21:37.221050",
     "status": "completed"
    },
    "tags": []
   },
   "outputs": [],
   "source": [
    "import pandas as pd\n",
    "import numpy as np\n",
    "import plotly.express as px\n",
    "import seaborn as sns\n",
    "import matplotlib.pyplot as plt\n",
    "%matplotlib inline\n",
    "\n",
    "import os\n",
    "for dirname, _, filenames in os.walk('/kaggle/input'):\n",
    "    for filename in filenames:\n",
    "        print(os.path.join(dirname, filename))"
   ]
  },
  {
   "cell_type": "code",
   "execution_count": 478,
   "id": "3bfc81fa",
   "metadata": {
    "papermill": {
     "duration": 7.389902,
     "end_time": "2023-05-10T10:21:46.811255",
     "exception": false,
     "start_time": "2023-05-10T10:21:39.421353",
     "status": "completed"
    },
    "tags": []
   },
   "outputs": [],
   "source": [
    "df = pd.read_csv(\"RUStoWorldTrade.csv\")\n",
    "iso3 = pd.read_csv(\"iso3.csv\")\n",
    "partnerAreas = pd.read_csv(\"partnerAreas.csv\")"
   ]
  },
  {
   "cell_type": "code",
   "execution_count": 479,
   "id": "ad1e78c7",
   "metadata": {
    "papermill": {
     "duration": 1.616093,
     "end_time": "2023-05-10T10:21:48.440835",
     "exception": false,
     "start_time": "2023-05-10T10:21:46.824742",
     "status": "completed"
    },
    "tags": []
   },
   "outputs": [
    {
     "name": "stdout",
     "output_type": "stream",
     "text": [
      "<class 'pandas.core.frame.DataFrame'>\n",
      "RangeIndex: 1384603 entries, 0 to 1384602\n",
      "Data columns (total 18 columns):\n",
      " #   Column             Non-Null Count    Dtype  \n",
      "---  ------             --------------    -----  \n",
      " 0   index              1384603 non-null  int64  \n",
      " 1   Classification     1384603 non-null  object \n",
      " 2   Year               1384603 non-null  int64  \n",
      " 3   Aggregate Level    1384603 non-null  int64  \n",
      " 4   Is Leaf Code       1384603 non-null  int64  \n",
      " 5   Reporter Code      1384603 non-null  int64  \n",
      " 6   Reporter           1384603 non-null  object \n",
      " 7   Reporter ISO       1384603 non-null  object \n",
      " 8   Partner Code       1384603 non-null  int64  \n",
      " 9   Partner            1384603 non-null  object \n",
      " 10  Partner ISO        1375914 non-null  object \n",
      " 11  Commodity Code     1384603 non-null  object \n",
      " 12  Commodity          1384603 non-null  object \n",
      " 13  Qty Unit Code      1384603 non-null  int64  \n",
      " 14  Qty Unit           1384603 non-null  object \n",
      " 15  Qty                1283894 non-null  float64\n",
      " 16  Netweight (kg)     1323567 non-null  float64\n",
      " 17  Trade Value (US$)  1384603 non-null  int64  \n",
      "dtypes: float64(2), int64(8), object(8)\n",
      "memory usage: 190.1+ MB\n"
     ]
    }
   ],
   "source": [
    "df.info()"
   ]
  },
  {
   "cell_type": "code",
   "execution_count": 480,
   "id": "37763189",
   "metadata": {
    "papermill": {
     "duration": 0.054743,
     "end_time": "2023-05-10T10:21:48.508881",
     "exception": false,
     "start_time": "2023-05-10T10:21:48.454138",
     "status": "completed"
    },
    "tags": []
   },
   "outputs": [
    {
     "data": {
      "text/html": [
       "<div>\n",
       "<style scoped>\n",
       "    .dataframe tbody tr th:only-of-type {\n",
       "        vertical-align: middle;\n",
       "    }\n",
       "\n",
       "    .dataframe tbody tr th {\n",
       "        vertical-align: top;\n",
       "    }\n",
       "\n",
       "    .dataframe thead th {\n",
       "        text-align: right;\n",
       "    }\n",
       "</style>\n",
       "<table border=\"1\" class=\"dataframe\">\n",
       "  <thead>\n",
       "    <tr style=\"text-align: right;\">\n",
       "      <th></th>\n",
       "      <th>index</th>\n",
       "      <th>Classification</th>\n",
       "      <th>Year</th>\n",
       "      <th>Aggregate Level</th>\n",
       "      <th>Is Leaf Code</th>\n",
       "      <th>Reporter Code</th>\n",
       "      <th>Reporter</th>\n",
       "      <th>Reporter ISO</th>\n",
       "      <th>Partner Code</th>\n",
       "      <th>Partner</th>\n",
       "      <th>Partner ISO</th>\n",
       "      <th>Commodity Code</th>\n",
       "      <th>Commodity</th>\n",
       "      <th>Qty Unit Code</th>\n",
       "      <th>Qty Unit</th>\n",
       "      <th>Qty</th>\n",
       "      <th>Netweight (kg)</th>\n",
       "      <th>Trade Value (US$)</th>\n",
       "    </tr>\n",
       "  </thead>\n",
       "  <tbody>\n",
       "    <tr>\n",
       "      <th>0</th>\n",
       "      <td>0</td>\n",
       "      <td>S4</td>\n",
       "      <td>2011</td>\n",
       "      <td>1</td>\n",
       "      <td>0</td>\n",
       "      <td>643</td>\n",
       "      <td>Russian Federation</td>\n",
       "      <td>RUS</td>\n",
       "      <td>136</td>\n",
       "      <td>Cayman Isds</td>\n",
       "      <td>CYM</td>\n",
       "      <td>6</td>\n",
       "      <td>Manufactured goods classified chiefly by material</td>\n",
       "      <td>1</td>\n",
       "      <td>No Quantity</td>\n",
       "      <td>NaN</td>\n",
       "      <td>NaN</td>\n",
       "      <td>75591</td>\n",
       "    </tr>\n",
       "    <tr>\n",
       "      <th>1</th>\n",
       "      <td>1</td>\n",
       "      <td>S4</td>\n",
       "      <td>2012</td>\n",
       "      <td>1</td>\n",
       "      <td>0</td>\n",
       "      <td>643</td>\n",
       "      <td>Russian Federation</td>\n",
       "      <td>RUS</td>\n",
       "      <td>136</td>\n",
       "      <td>Cayman Isds</td>\n",
       "      <td>CYM</td>\n",
       "      <td>6</td>\n",
       "      <td>Manufactured goods classified chiefly by material</td>\n",
       "      <td>1</td>\n",
       "      <td>No Quantity</td>\n",
       "      <td>NaN</td>\n",
       "      <td>NaN</td>\n",
       "      <td>27778</td>\n",
       "    </tr>\n",
       "    <tr>\n",
       "      <th>2</th>\n",
       "      <td>2</td>\n",
       "      <td>S4</td>\n",
       "      <td>2015</td>\n",
       "      <td>1</td>\n",
       "      <td>0</td>\n",
       "      <td>643</td>\n",
       "      <td>Russian Federation</td>\n",
       "      <td>RUS</td>\n",
       "      <td>136</td>\n",
       "      <td>Cayman Isds</td>\n",
       "      <td>CYM</td>\n",
       "      <td>6</td>\n",
       "      <td>Manufactured goods classified chiefly by material</td>\n",
       "      <td>1</td>\n",
       "      <td>No Quantity</td>\n",
       "      <td>NaN</td>\n",
       "      <td>NaN</td>\n",
       "      <td>2131579</td>\n",
       "    </tr>\n",
       "    <tr>\n",
       "      <th>3</th>\n",
       "      <td>3</td>\n",
       "      <td>S4</td>\n",
       "      <td>2016</td>\n",
       "      <td>1</td>\n",
       "      <td>0</td>\n",
       "      <td>643</td>\n",
       "      <td>Russian Federation</td>\n",
       "      <td>RUS</td>\n",
       "      <td>136</td>\n",
       "      <td>Cayman Isds</td>\n",
       "      <td>CYM</td>\n",
       "      <td>6</td>\n",
       "      <td>Manufactured goods classified chiefly by material</td>\n",
       "      <td>1</td>\n",
       "      <td>No Quantity</td>\n",
       "      <td>0.0</td>\n",
       "      <td>0.0</td>\n",
       "      <td>9055543</td>\n",
       "    </tr>\n",
       "    <tr>\n",
       "      <th>4</th>\n",
       "      <td>4</td>\n",
       "      <td>S4</td>\n",
       "      <td>2017</td>\n",
       "      <td>1</td>\n",
       "      <td>0</td>\n",
       "      <td>643</td>\n",
       "      <td>Russian Federation</td>\n",
       "      <td>RUS</td>\n",
       "      <td>136</td>\n",
       "      <td>Cayman Isds</td>\n",
       "      <td>CYM</td>\n",
       "      <td>6</td>\n",
       "      <td>Manufactured goods classified chiefly by material</td>\n",
       "      <td>1</td>\n",
       "      <td>No Quantity</td>\n",
       "      <td>0.0</td>\n",
       "      <td>0.0</td>\n",
       "      <td>19952598</td>\n",
       "    </tr>\n",
       "  </tbody>\n",
       "</table>\n",
       "</div>"
      ],
      "text/plain": [
       "   index Classification  Year  Aggregate Level  Is Leaf Code  Reporter Code  \\\n",
       "0      0             S4  2011                1             0            643   \n",
       "1      1             S4  2012                1             0            643   \n",
       "2      2             S4  2015                1             0            643   \n",
       "3      3             S4  2016                1             0            643   \n",
       "4      4             S4  2017                1             0            643   \n",
       "\n",
       "             Reporter Reporter ISO  Partner Code      Partner Partner ISO  \\\n",
       "0  Russian Federation          RUS           136  Cayman Isds         CYM   \n",
       "1  Russian Federation          RUS           136  Cayman Isds         CYM   \n",
       "2  Russian Federation          RUS           136  Cayman Isds         CYM   \n",
       "3  Russian Federation          RUS           136  Cayman Isds         CYM   \n",
       "4  Russian Federation          RUS           136  Cayman Isds         CYM   \n",
       "\n",
       "  Commodity Code                                          Commodity  \\\n",
       "0              6  Manufactured goods classified chiefly by material   \n",
       "1              6  Manufactured goods classified chiefly by material   \n",
       "2              6  Manufactured goods classified chiefly by material   \n",
       "3              6  Manufactured goods classified chiefly by material   \n",
       "4              6  Manufactured goods classified chiefly by material   \n",
       "\n",
       "   Qty Unit Code     Qty Unit  Qty  Netweight (kg)  Trade Value (US$)  \n",
       "0              1  No Quantity  NaN             NaN              75591  \n",
       "1              1  No Quantity  NaN             NaN              27778  \n",
       "2              1  No Quantity  NaN             NaN            2131579  \n",
       "3              1  No Quantity  0.0             0.0            9055543  \n",
       "4              1  No Quantity  0.0             0.0           19952598  "
      ]
     },
     "execution_count": 480,
     "metadata": {},
     "output_type": "execute_result"
    }
   ],
   "source": [
    "df.head()"
   ]
  },
  {
   "cell_type": "code",
   "execution_count": 481,
   "id": "166deb79",
   "metadata": {
    "papermill": {
     "duration": 0.030401,
     "end_time": "2023-05-10T10:21:48.553432",
     "exception": false,
     "start_time": "2023-05-10T10:21:48.523031",
     "status": "completed"
    },
    "tags": []
   },
   "outputs": [
    {
     "name": "stdout",
     "output_type": "stream",
     "text": [
      "<class 'pandas.core.frame.DataFrame'>\n",
      "RangeIndex: 232 entries, 0 to 231\n",
      "Data columns (total 10 columns):\n",
      " #   Column     Non-Null Count  Dtype  \n",
      "---  ------     --------------  -----  \n",
      " 0   Continent  232 non-null    object \n",
      " 1   Region     232 non-null    object \n",
      " 2   Country    232 non-null    object \n",
      " 3   Capital    231 non-null    object \n",
      " 4   FIPS       231 non-null    object \n",
      " 5   ISO (2)    231 non-null    object \n",
      " 6   ISO (3)    232 non-null    object \n",
      " 7   ISO (No)   226 non-null    float64\n",
      " 8   Internet   231 non-null    object \n",
      " 9   Note       9 non-null      object \n",
      "dtypes: float64(1), object(9)\n",
      "memory usage: 18.3+ KB\n"
     ]
    }
   ],
   "source": [
    "iso3.info()"
   ]
  },
  {
   "cell_type": "code",
   "execution_count": 482,
   "id": "96690818",
   "metadata": {
    "papermill": {
     "duration": 0.028815,
     "end_time": "2023-05-10T10:21:48.596116",
     "exception": false,
     "start_time": "2023-05-10T10:21:48.567301",
     "status": "completed"
    },
    "tags": []
   },
   "outputs": [
    {
     "name": "stdout",
     "output_type": "stream",
     "text": [
      "<class 'pandas.core.frame.DataFrame'>\n",
      "RangeIndex: 292 entries, 0 to 291\n",
      "Data columns (total 2 columns):\n",
      " #   Column  Non-Null Count  Dtype \n",
      "---  ------  --------------  ----- \n",
      " 0   id      292 non-null    int64 \n",
      " 1   text    292 non-null    object\n",
      "dtypes: int64(1), object(1)\n",
      "memory usage: 4.7+ KB\n"
     ]
    }
   ],
   "source": [
    "partnerAreas.info()"
   ]
  },
  {
   "cell_type": "code",
   "execution_count": 483,
   "id": "acb73a23",
   "metadata": {
    "papermill": {
     "duration": 1.933932,
     "end_time": "2023-05-10T10:21:50.543884",
     "exception": false,
     "start_time": "2023-05-10T10:21:48.609952",
     "status": "completed"
    },
    "tags": []
   },
   "outputs": [],
   "source": [
    "df = df.convert_dtypes()"
   ]
  },
  {
   "cell_type": "markdown",
   "id": "1bc30582",
   "metadata": {
    "papermill": {
     "duration": 0.013386,
     "end_time": "2023-05-10T10:21:50.571117",
     "exception": false,
     "start_time": "2023-05-10T10:21:50.557731",
     "status": "completed"
    },
    "tags": []
   },
   "source": [
    "<a id=\"1\"></a>\n",
    "<div style=\"padding:20px;\n",
    "            color:white;\n",
    "            margin:10;\n",
    "            font-size:170%;\n",
    "            text-align:left;\n",
    "            display:fill;\n",
    "            border-radius:5px;\n",
    "            background-color:#294B8E;\n",
    "            overflow:hidden;\n",
    "            font-weight:700\">2 <span style='color:#CDA63A'>|</span> Data pre-processing</div>"
   ]
  },
  {
   "cell_type": "markdown",
   "id": "9578e0f6",
   "metadata": {
    "papermill": {
     "duration": 0.013416,
     "end_time": "2023-05-10T10:21:50.598316",
     "exception": false,
     "start_time": "2023-05-10T10:21:50.584900",
     "status": "completed"
    },
    "tags": []
   },
   "source": [
    "Since the data is clean, we use the start code to optimize performance (we will need it with 1.3 million data points). "
   ]
  },
  {
   "cell_type": "markdown",
   "id": "56638213",
   "metadata": {
    "papermill": {
     "duration": 0.014068,
     "end_time": "2023-05-10T10:21:50.626106",
     "exception": false,
     "start_time": "2023-05-10T10:21:50.612038",
     "status": "completed"
    },
    "tags": []
   },
   "source": [
    "| Aggregate Level | Level Name | Code Format | Number of Items |  \n",
    "| --- | --- | --- | --- |  \n",
    "| 1 | Section | 0 | 10 Items |  \n",
    "| 2 | Division | 01 | 67 Items |  \n",
    "| 3 | Group | 012 | 261 Items |  \n",
    "| 4 | Subgroup | 012.1 | 1033 Items |  \n",
    "| 5 | Item | 012.13 | 3121 Items |  \n"
   ]
  },
  {
   "cell_type": "code",
   "execution_count": 487,
   "id": "e4b5ce2c",
   "metadata": {
    "papermill": {
     "duration": 2.005057,
     "end_time": "2023-05-10T10:21:52.645132",
     "exception": false,
     "start_time": "2023-05-10T10:21:50.640075",
     "status": "completed"
    },
    "tags": []
   },
   "outputs": [
    {
     "name": "stdout",
     "output_type": "stream",
     "text": [
      "<class 'pandas.core.frame.DataFrame'>\n",
      "RangeIndex: 1384603 entries, 0 to 1384602\n",
      "Data columns (total 18 columns):\n",
      " #   Column             Non-Null Count    Dtype  \n",
      "---  ------             --------------    -----  \n",
      " 0   index              1384603 non-null  Int64  \n",
      " 1   Classification     1384603 non-null  string \n",
      " 2   Year               1384603 non-null  Int64  \n",
      " 3   Aggregate Level    1384603 non-null  Int64  \n",
      " 4   Is Leaf Code       1384603 non-null  Int64  \n",
      " 5   Reporter Code      1384603 non-null  Int64  \n",
      " 6   Reporter           1384603 non-null  string \n",
      " 7   Reporter ISO       1384603 non-null  string \n",
      " 8   Partner Code       1384603 non-null  Int64  \n",
      " 9   Partner            1384603 non-null  string \n",
      " 10  Partner ISO        1375914 non-null  string \n",
      " 11  Commodity Code     1384603 non-null  object \n",
      " 12  Commodity          1384603 non-null  string \n",
      " 13  Qty Unit Code      1384603 non-null  Int64  \n",
      " 14  Qty Unit           1384603 non-null  string \n",
      " 15  Qty                1283894 non-null  Float64\n",
      " 16  Netweight (kg)     1323567 non-null  Float64\n",
      " 17  Trade Value (US$)  1384603 non-null  Int64  \n",
      "dtypes: Float64(2), Int64(8), object(1), string(7)\n",
      "memory usage: 875.4 MB\n"
     ]
    }
   ],
   "source": [
    "df.info(memory_usage=\"deep\")"
   ]
  },
  {
   "cell_type": "code",
   "execution_count": 488,
   "id": "c1ec3a61",
   "metadata": {
    "papermill": {
     "duration": 0.041202,
     "end_time": "2023-05-10T10:21:52.700360",
     "exception": false,
     "start_time": "2023-05-10T10:21:52.659158",
     "status": "completed"
    },
    "tags": []
   },
   "outputs": [
    {
     "data": {
      "text/html": [
       "<div>\n",
       "<style scoped>\n",
       "    .dataframe tbody tr th:only-of-type {\n",
       "        vertical-align: middle;\n",
       "    }\n",
       "\n",
       "    .dataframe tbody tr th {\n",
       "        vertical-align: top;\n",
       "    }\n",
       "\n",
       "    .dataframe thead th {\n",
       "        text-align: right;\n",
       "    }\n",
       "</style>\n",
       "<table border=\"1\" class=\"dataframe\">\n",
       "  <thead>\n",
       "    <tr style=\"text-align: right;\">\n",
       "      <th></th>\n",
       "      <th>index</th>\n",
       "      <th>Classification</th>\n",
       "      <th>Year</th>\n",
       "      <th>Aggregate Level</th>\n",
       "      <th>Is Leaf Code</th>\n",
       "      <th>Reporter Code</th>\n",
       "      <th>Reporter</th>\n",
       "      <th>Reporter ISO</th>\n",
       "      <th>Partner Code</th>\n",
       "      <th>Partner</th>\n",
       "      <th>Partner ISO</th>\n",
       "      <th>Commodity Code</th>\n",
       "      <th>Commodity</th>\n",
       "      <th>Qty Unit Code</th>\n",
       "      <th>Qty Unit</th>\n",
       "      <th>Qty</th>\n",
       "      <th>Netweight (kg)</th>\n",
       "      <th>Trade Value (US$)</th>\n",
       "    </tr>\n",
       "  </thead>\n",
       "  <tbody>\n",
       "    <tr>\n",
       "      <th>0</th>\n",
       "      <td>0</td>\n",
       "      <td>S4</td>\n",
       "      <td>2011</td>\n",
       "      <td>1</td>\n",
       "      <td>0</td>\n",
       "      <td>643</td>\n",
       "      <td>Russian Federation</td>\n",
       "      <td>RUS</td>\n",
       "      <td>136</td>\n",
       "      <td>Cayman Isds</td>\n",
       "      <td>CYM</td>\n",
       "      <td>6</td>\n",
       "      <td>Manufactured goods classified chiefly by material</td>\n",
       "      <td>1</td>\n",
       "      <td>No Quantity</td>\n",
       "      <td>&lt;NA&gt;</td>\n",
       "      <td>&lt;NA&gt;</td>\n",
       "      <td>75591</td>\n",
       "    </tr>\n",
       "    <tr>\n",
       "      <th>1</th>\n",
       "      <td>1</td>\n",
       "      <td>S4</td>\n",
       "      <td>2012</td>\n",
       "      <td>1</td>\n",
       "      <td>0</td>\n",
       "      <td>643</td>\n",
       "      <td>Russian Federation</td>\n",
       "      <td>RUS</td>\n",
       "      <td>136</td>\n",
       "      <td>Cayman Isds</td>\n",
       "      <td>CYM</td>\n",
       "      <td>6</td>\n",
       "      <td>Manufactured goods classified chiefly by material</td>\n",
       "      <td>1</td>\n",
       "      <td>No Quantity</td>\n",
       "      <td>&lt;NA&gt;</td>\n",
       "      <td>&lt;NA&gt;</td>\n",
       "      <td>27778</td>\n",
       "    </tr>\n",
       "    <tr>\n",
       "      <th>2</th>\n",
       "      <td>2</td>\n",
       "      <td>S4</td>\n",
       "      <td>2015</td>\n",
       "      <td>1</td>\n",
       "      <td>0</td>\n",
       "      <td>643</td>\n",
       "      <td>Russian Federation</td>\n",
       "      <td>RUS</td>\n",
       "      <td>136</td>\n",
       "      <td>Cayman Isds</td>\n",
       "      <td>CYM</td>\n",
       "      <td>6</td>\n",
       "      <td>Manufactured goods classified chiefly by material</td>\n",
       "      <td>1</td>\n",
       "      <td>No Quantity</td>\n",
       "      <td>&lt;NA&gt;</td>\n",
       "      <td>&lt;NA&gt;</td>\n",
       "      <td>2131579</td>\n",
       "    </tr>\n",
       "    <tr>\n",
       "      <th>3</th>\n",
       "      <td>3</td>\n",
       "      <td>S4</td>\n",
       "      <td>2016</td>\n",
       "      <td>1</td>\n",
       "      <td>0</td>\n",
       "      <td>643</td>\n",
       "      <td>Russian Federation</td>\n",
       "      <td>RUS</td>\n",
       "      <td>136</td>\n",
       "      <td>Cayman Isds</td>\n",
       "      <td>CYM</td>\n",
       "      <td>6</td>\n",
       "      <td>Manufactured goods classified chiefly by material</td>\n",
       "      <td>1</td>\n",
       "      <td>No Quantity</td>\n",
       "      <td>0.0</td>\n",
       "      <td>0.0</td>\n",
       "      <td>9055543</td>\n",
       "    </tr>\n",
       "    <tr>\n",
       "      <th>4</th>\n",
       "      <td>4</td>\n",
       "      <td>S4</td>\n",
       "      <td>2017</td>\n",
       "      <td>1</td>\n",
       "      <td>0</td>\n",
       "      <td>643</td>\n",
       "      <td>Russian Federation</td>\n",
       "      <td>RUS</td>\n",
       "      <td>136</td>\n",
       "      <td>Cayman Isds</td>\n",
       "      <td>CYM</td>\n",
       "      <td>6</td>\n",
       "      <td>Manufactured goods classified chiefly by material</td>\n",
       "      <td>1</td>\n",
       "      <td>No Quantity</td>\n",
       "      <td>0.0</td>\n",
       "      <td>0.0</td>\n",
       "      <td>19952598</td>\n",
       "    </tr>\n",
       "  </tbody>\n",
       "</table>\n",
       "</div>"
      ],
      "text/plain": [
       "   index Classification  Year  Aggregate Level  Is Leaf Code  Reporter Code  \\\n",
       "0      0             S4  2011                1             0            643   \n",
       "1      1             S4  2012                1             0            643   \n",
       "2      2             S4  2015                1             0            643   \n",
       "3      3             S4  2016                1             0            643   \n",
       "4      4             S4  2017                1             0            643   \n",
       "\n",
       "             Reporter Reporter ISO  Partner Code      Partner Partner ISO  \\\n",
       "0  Russian Federation          RUS           136  Cayman Isds         CYM   \n",
       "1  Russian Federation          RUS           136  Cayman Isds         CYM   \n",
       "2  Russian Federation          RUS           136  Cayman Isds         CYM   \n",
       "3  Russian Federation          RUS           136  Cayman Isds         CYM   \n",
       "4  Russian Federation          RUS           136  Cayman Isds         CYM   \n",
       "\n",
       "  Commodity Code                                          Commodity  \\\n",
       "0              6  Manufactured goods classified chiefly by material   \n",
       "1              6  Manufactured goods classified chiefly by material   \n",
       "2              6  Manufactured goods classified chiefly by material   \n",
       "3              6  Manufactured goods classified chiefly by material   \n",
       "4              6  Manufactured goods classified chiefly by material   \n",
       "\n",
       "   Qty Unit Code     Qty Unit   Qty  Netweight (kg)  Trade Value (US$)  \n",
       "0              1  No Quantity  <NA>            <NA>              75591  \n",
       "1              1  No Quantity  <NA>            <NA>              27778  \n",
       "2              1  No Quantity  <NA>            <NA>            2131579  \n",
       "3              1  No Quantity   0.0             0.0            9055543  \n",
       "4              1  No Quantity   0.0             0.0           19952598  "
      ]
     },
     "execution_count": 488,
     "metadata": {},
     "output_type": "execute_result"
    }
   ],
   "source": [
    "df.head()"
   ]
  },
  {
   "cell_type": "code",
   "execution_count": 489,
   "id": "174af35e",
   "metadata": {
    "papermill": {
     "duration": 0.02248,
     "end_time": "2023-05-10T10:21:52.737957",
     "exception": false,
     "start_time": "2023-05-10T10:21:52.715477",
     "status": "completed"
    },
    "tags": []
   },
   "outputs": [],
   "source": [
    "#df = df.drop(axis=1, columns=[\"index\", \"Classification\", \"Is Leaf Code\", \"Reporter Code\", \"Reporter\"], inplace=True)"
   ]
  },
  {
   "cell_type": "markdown",
   "id": "c9f28775",
   "metadata": {
    "papermill": {
     "duration": 0.013924,
     "end_time": "2023-05-10T10:21:52.766118",
     "exception": false,
     "start_time": "2023-05-10T10:21:52.752194",
     "status": "completed"
    },
    "tags": []
   },
   "source": [
    "Makes sense to keep ISO instead of full names, drop index, classification, is leaf code, reporter code"
   ]
  },
  {
   "cell_type": "markdown",
   "id": "0855c1e9",
   "metadata": {
    "papermill": {
     "duration": 0.013802,
     "end_time": "2023-05-10T10:21:52.794076",
     "exception": false,
     "start_time": "2023-05-10T10:21:52.780274",
     "status": "completed"
    },
    "tags": []
   },
   "source": [
    "### Now we will convert the data types form int64 to int32, int16, etc (lower ones)\n",
    "+ Obvious candidates would be: Commodity Code, Partner Code and other int variables"
   ]
  },
  {
   "cell_type": "code",
   "execution_count": 492,
   "id": "c3f25c18",
   "metadata": {
    "papermill": {
     "duration": 0.762073,
     "end_time": "2023-05-10T10:21:53.571441",
     "exception": false,
     "start_time": "2023-05-10T10:21:52.809368",
     "status": "completed"
    },
    "tags": []
   },
   "outputs": [],
   "source": [
    "for col in df.columns:\n",
    "    if df[col].dtype == 'Float64':\n",
    "        df[col] = df[col].astype('float16')\n",
    "    try : \n",
    "        if df[col].dtype == 'Int64':\n",
    "            df[col] = df[col].astype('int16')\n",
    "    except :\n",
    "        df[col] = df[col].astype('float16')\n",
    "df.drop(df[df['Commodity Code'] == 'TOTAL'].index, inplace=True)\n",
    "df['Commodity Code'] = df['Commodity Code'].astype('float16')"
   ]
  },
  {
   "cell_type": "code",
   "execution_count": 493,
   "id": "ae30d80d",
   "metadata": {
    "papermill": {
     "duration": 0.049298,
     "end_time": "2023-05-10T10:21:53.634977",
     "exception": false,
     "start_time": "2023-05-10T10:21:53.585679",
     "status": "completed"
    },
    "tags": []
   },
   "outputs": [],
   "source": [
    "df1 = df[df['Aggregate Level']==2]"
   ]
  },
  {
   "cell_type": "markdown",
   "id": "f63052b7",
   "metadata": {
    "papermill": {
     "duration": 0.014016,
     "end_time": "2023-05-10T10:21:53.663476",
     "exception": false,
     "start_time": "2023-05-10T10:21:53.649460",
     "status": "completed"
    },
    "tags": []
   },
   "source": [
    "## ISO"
   ]
  },
  {
   "cell_type": "code",
   "execution_count": 495,
   "id": "1a4f4006",
   "metadata": {
    "papermill": {
     "duration": 0.033415,
     "end_time": "2023-05-10T10:21:53.711233",
     "exception": false,
     "start_time": "2023-05-10T10:21:53.677818",
     "status": "completed"
    },
    "tags": []
   },
   "outputs": [
    {
     "data": {
      "text/html": [
       "<div>\n",
       "<style scoped>\n",
       "    .dataframe tbody tr th:only-of-type {\n",
       "        vertical-align: middle;\n",
       "    }\n",
       "\n",
       "    .dataframe tbody tr th {\n",
       "        vertical-align: top;\n",
       "    }\n",
       "\n",
       "    .dataframe thead th {\n",
       "        text-align: right;\n",
       "    }\n",
       "</style>\n",
       "<table border=\"1\" class=\"dataframe\">\n",
       "  <thead>\n",
       "    <tr style=\"text-align: right;\">\n",
       "      <th></th>\n",
       "      <th>Continent</th>\n",
       "      <th>Region</th>\n",
       "      <th>Country</th>\n",
       "      <th>Capital</th>\n",
       "      <th>FIPS</th>\n",
       "      <th>ISO (2)</th>\n",
       "      <th>ISO (3)</th>\n",
       "      <th>ISO (No)</th>\n",
       "      <th>Internet</th>\n",
       "      <th>Note</th>\n",
       "    </tr>\n",
       "  </thead>\n",
       "  <tbody>\n",
       "    <tr>\n",
       "      <th>0</th>\n",
       "      <td>Asia</td>\n",
       "      <td>South Asia</td>\n",
       "      <td>Afghanistan</td>\n",
       "      <td>Kabul</td>\n",
       "      <td>AF</td>\n",
       "      <td>AF</td>\n",
       "      <td>AFG</td>\n",
       "      <td>4.0</td>\n",
       "      <td>AF</td>\n",
       "      <td>NaN</td>\n",
       "    </tr>\n",
       "    <tr>\n",
       "      <th>1</th>\n",
       "      <td>Europe</td>\n",
       "      <td>South East Europe</td>\n",
       "      <td>Albania</td>\n",
       "      <td>Tirana</td>\n",
       "      <td>AL</td>\n",
       "      <td>AL</td>\n",
       "      <td>ALB</td>\n",
       "      <td>8.0</td>\n",
       "      <td>AL</td>\n",
       "      <td>NaN</td>\n",
       "    </tr>\n",
       "    <tr>\n",
       "      <th>2</th>\n",
       "      <td>Africa</td>\n",
       "      <td>Northern Africa</td>\n",
       "      <td>Algeria</td>\n",
       "      <td>Algiers</td>\n",
       "      <td>AG</td>\n",
       "      <td>DZ</td>\n",
       "      <td>DZA</td>\n",
       "      <td>12.0</td>\n",
       "      <td>DZ</td>\n",
       "      <td>NaN</td>\n",
       "    </tr>\n",
       "    <tr>\n",
       "      <th>3</th>\n",
       "      <td>Oceania</td>\n",
       "      <td>Pacific</td>\n",
       "      <td>American Samoa</td>\n",
       "      <td>Pago Pago</td>\n",
       "      <td>AQ</td>\n",
       "      <td>AS</td>\n",
       "      <td>ASM</td>\n",
       "      <td>16.0</td>\n",
       "      <td>AS</td>\n",
       "      <td>NaN</td>\n",
       "    </tr>\n",
       "    <tr>\n",
       "      <th>4</th>\n",
       "      <td>Europe</td>\n",
       "      <td>South West Europe</td>\n",
       "      <td>Andorra</td>\n",
       "      <td>Andorra la Vella</td>\n",
       "      <td>AN</td>\n",
       "      <td>AD</td>\n",
       "      <td>AND</td>\n",
       "      <td>20.0</td>\n",
       "      <td>AD</td>\n",
       "      <td>NaN</td>\n",
       "    </tr>\n",
       "  </tbody>\n",
       "</table>\n",
       "</div>"
      ],
      "text/plain": [
       "  Continent             Region         Country           Capital FIPS ISO (2)  \\\n",
       "0      Asia         South Asia     Afghanistan             Kabul   AF      AF   \n",
       "1    Europe  South East Europe         Albania            Tirana   AL      AL   \n",
       "2    Africa    Northern Africa         Algeria           Algiers   AG      DZ   \n",
       "3   Oceania            Pacific  American Samoa         Pago Pago   AQ      AS   \n",
       "4    Europe  South West Europe         Andorra  Andorra la Vella   AN      AD   \n",
       "\n",
       "  ISO (3)  ISO (No) Internet Note  \n",
       "0     AFG       4.0       AF  NaN  \n",
       "1     ALB       8.0       AL  NaN  \n",
       "2     DZA      12.0       DZ  NaN  \n",
       "3     ASM      16.0       AS  NaN  \n",
       "4     AND      20.0       AD  NaN  "
      ]
     },
     "execution_count": 495,
     "metadata": {},
     "output_type": "execute_result"
    }
   ],
   "source": [
    "iso3.head(5)"
   ]
  },
  {
   "cell_type": "code",
   "execution_count": 496,
   "id": "897cbbc5",
   "metadata": {
    "papermill": {
     "duration": 0.180474,
     "end_time": "2023-05-10T10:21:53.906362",
     "exception": false,
     "start_time": "2023-05-10T10:21:53.725888",
     "status": "completed"
    },
    "tags": []
   },
   "outputs": [],
   "source": [
    "continents = ['Asia', 'Europe', 'Africa', 'Oceania', 'Americas']\n",
    "\n",
    "#JOIN\n",
    "for x in continents:\n",
    "    y=iso3[iso3[\"Continent\"] == x]\n",
    "    \n",
    "    m = df1[\"Partner ISO\"].isin(y[\"ISO (3)\"])\n",
    "    df1.loc[m, \"Continent\"] = x\n",
    "    \n",
    "Region = ['South Asia', 'South East Europe', 'Northern Africa', 'Pacific',\n",
    "       'South West Europe', 'Southern Africa', 'West Indies',\n",
    "       'South America', 'South West Asia', 'Central Europe',\n",
    "       'Eastern Europe', 'Western Europe', 'Central America',\n",
    "       'Western Africa', 'South East Asia', 'Central Africa',\n",
    "       'North America', 'East Asia', 'Indian Ocean', 'Northern Europe',\n",
    "       'Eastern Africa', 'Southern Europe', 'Central Asia',\n",
    "       'Northern Asia']\n",
    "\n",
    "for x in Region:        \n",
    "    y = iso3[iso3['Region'] == x]\n",
    "    m = df1['Partner ISO'].isin(y['ISO (3)'])\n",
    "    df1.loc[m, 'Region'] = x"
   ]
  },
  {
   "cell_type": "markdown",
   "id": "0afcdba9",
   "metadata": {
    "papermill": {
     "duration": 0.014274,
     "end_time": "2023-05-10T10:21:53.935471",
     "exception": false,
     "start_time": "2023-05-10T10:21:53.921197",
     "status": "completed"
    },
    "tags": []
   },
   "source": [
    "### Here we are adding iso3's continents and Sub-Continents to df1"
   ]
  },
  {
   "cell_type": "code",
   "execution_count": 498,
   "id": "46340d6e",
   "metadata": {
    "papermill": {
     "duration": 0.17019,
     "end_time": "2023-05-10T10:21:54.119965",
     "exception": false,
     "start_time": "2023-05-10T10:21:53.949775",
     "status": "completed"
    },
    "tags": []
   },
   "outputs": [
    {
     "name": "stdout",
     "output_type": "stream",
     "text": [
      "<class 'pandas.core.frame.DataFrame'>\n",
      "Index: 79030 entries, 11 to 1384534\n",
      "Data columns (total 20 columns):\n",
      " #   Column             Non-Null Count  Dtype  \n",
      "---  ------             --------------  -----  \n",
      " 0   index              79030 non-null  int16  \n",
      " 1   Classification     79030 non-null  string \n",
      " 2   Year               79030 non-null  int16  \n",
      " 3   Aggregate Level    79030 non-null  int16  \n",
      " 4   Is Leaf Code       79030 non-null  int16  \n",
      " 5   Reporter Code      79030 non-null  int16  \n",
      " 6   Reporter           79030 non-null  string \n",
      " 7   Reporter ISO       79030 non-null  string \n",
      " 8   Partner Code       79030 non-null  int16  \n",
      " 9   Partner            79030 non-null  string \n",
      " 10  Partner ISO        78318 non-null  string \n",
      " 11  Commodity Code     79030 non-null  float16\n",
      " 12  Commodity          79030 non-null  string \n",
      " 13  Qty Unit Code      79030 non-null  int16  \n",
      " 14  Qty Unit           79030 non-null  string \n",
      " 15  Qty                31621 non-null  float16\n",
      " 16  Netweight (kg)     31556 non-null  float16\n",
      " 17  Trade Value (US$)  79030 non-null  int16  \n",
      " 18  Continent          74838 non-null  object \n",
      " 19  Region             74838 non-null  object \n",
      "dtypes: float16(3), int16(8), object(2), string(7)\n",
      "memory usage: 49.4 MB\n"
     ]
    }
   ],
   "source": [
    "df1.info(memory_usage='deep')"
   ]
  },
  {
   "cell_type": "markdown",
   "id": "c980ec0f",
   "metadata": {
    "papermill": {
     "duration": 0.0142,
     "end_time": "2023-05-10T10:21:54.148894",
     "exception": false,
     "start_time": "2023-05-10T10:21:54.134694",
     "status": "completed"
    },
    "tags": []
   },
   "source": [
    "### Here we went form 190MB to 55MB"
   ]
  },
  {
   "cell_type": "code",
   "execution_count": 500,
   "id": "3a8c9921",
   "metadata": {
    "papermill": {
     "duration": 0.041495,
     "end_time": "2023-05-10T10:21:54.204897",
     "exception": false,
     "start_time": "2023-05-10T10:21:54.163402",
     "status": "completed"
    },
    "tags": []
   },
   "outputs": [
    {
     "data": {
      "text/html": [
       "<div>\n",
       "<style scoped>\n",
       "    .dataframe tbody tr th:only-of-type {\n",
       "        vertical-align: middle;\n",
       "    }\n",
       "\n",
       "    .dataframe tbody tr th {\n",
       "        vertical-align: top;\n",
       "    }\n",
       "\n",
       "    .dataframe thead th {\n",
       "        text-align: right;\n",
       "    }\n",
       "</style>\n",
       "<table border=\"1\" class=\"dataframe\">\n",
       "  <thead>\n",
       "    <tr style=\"text-align: right;\">\n",
       "      <th></th>\n",
       "      <th>index</th>\n",
       "      <th>Classification</th>\n",
       "      <th>Year</th>\n",
       "      <th>Aggregate Level</th>\n",
       "      <th>Is Leaf Code</th>\n",
       "      <th>Reporter Code</th>\n",
       "      <th>Reporter</th>\n",
       "      <th>Reporter ISO</th>\n",
       "      <th>Partner Code</th>\n",
       "      <th>Partner</th>\n",
       "      <th>Partner ISO</th>\n",
       "      <th>Commodity Code</th>\n",
       "      <th>Commodity</th>\n",
       "      <th>Qty Unit Code</th>\n",
       "      <th>Qty Unit</th>\n",
       "      <th>Qty</th>\n",
       "      <th>Netweight (kg)</th>\n",
       "      <th>Trade Value (US$)</th>\n",
       "      <th>Continent</th>\n",
       "      <th>Region</th>\n",
       "    </tr>\n",
       "  </thead>\n",
       "  <tbody>\n",
       "    <tr>\n",
       "      <th>11</th>\n",
       "      <td>12</td>\n",
       "      <td>S4</td>\n",
       "      <td>2011</td>\n",
       "      <td>2</td>\n",
       "      <td>0</td>\n",
       "      <td>643</td>\n",
       "      <td>Russian Federation</td>\n",
       "      <td>RUS</td>\n",
       "      <td>136</td>\n",
       "      <td>Cayman Isds</td>\n",
       "      <td>CYM</td>\n",
       "      <td>65.0</td>\n",
       "      <td>Textile yarn, fabrics, made-up articles, n.e.s...</td>\n",
       "      <td>1</td>\n",
       "      <td>No Quantity</td>\n",
       "      <td>NaN</td>\n",
       "      <td>NaN</td>\n",
       "      <td>10055</td>\n",
       "      <td>Americas</td>\n",
       "      <td>West Indies</td>\n",
       "    </tr>\n",
       "    <tr>\n",
       "      <th>12</th>\n",
       "      <td>13</td>\n",
       "      <td>S4</td>\n",
       "      <td>2012</td>\n",
       "      <td>2</td>\n",
       "      <td>0</td>\n",
       "      <td>643</td>\n",
       "      <td>Russian Federation</td>\n",
       "      <td>RUS</td>\n",
       "      <td>136</td>\n",
       "      <td>Cayman Isds</td>\n",
       "      <td>CYM</td>\n",
       "      <td>65.0</td>\n",
       "      <td>Textile yarn, fabrics, made-up articles, n.e.s...</td>\n",
       "      <td>1</td>\n",
       "      <td>No Quantity</td>\n",
       "      <td>NaN</td>\n",
       "      <td>NaN</td>\n",
       "      <td>27778</td>\n",
       "      <td>Americas</td>\n",
       "      <td>West Indies</td>\n",
       "    </tr>\n",
       "    <tr>\n",
       "      <th>13</th>\n",
       "      <td>14</td>\n",
       "      <td>S4</td>\n",
       "      <td>2014</td>\n",
       "      <td>2</td>\n",
       "      <td>0</td>\n",
       "      <td>643</td>\n",
       "      <td>Russian Federation</td>\n",
       "      <td>RUS</td>\n",
       "      <td>136</td>\n",
       "      <td>Cayman Isds</td>\n",
       "      <td>CYM</td>\n",
       "      <td>89.0</td>\n",
       "      <td>Miscellaneous manufactured articles, n.e.s.</td>\n",
       "      <td>1</td>\n",
       "      <td>No Quantity</td>\n",
       "      <td>NaN</td>\n",
       "      <td>NaN</td>\n",
       "      <td>16098</td>\n",
       "      <td>Americas</td>\n",
       "      <td>West Indies</td>\n",
       "    </tr>\n",
       "    <tr>\n",
       "      <th>14</th>\n",
       "      <td>15</td>\n",
       "      <td>S4</td>\n",
       "      <td>2015</td>\n",
       "      <td>2</td>\n",
       "      <td>0</td>\n",
       "      <td>643</td>\n",
       "      <td>Russian Federation</td>\n",
       "      <td>RUS</td>\n",
       "      <td>136</td>\n",
       "      <td>Cayman Isds</td>\n",
       "      <td>CYM</td>\n",
       "      <td>68.0</td>\n",
       "      <td>Non-ferrous metals</td>\n",
       "      <td>1</td>\n",
       "      <td>No Quantity</td>\n",
       "      <td>NaN</td>\n",
       "      <td>NaN</td>\n",
       "      <td>-31109</td>\n",
       "      <td>Americas</td>\n",
       "      <td>West Indies</td>\n",
       "    </tr>\n",
       "    <tr>\n",
       "      <th>15</th>\n",
       "      <td>16</td>\n",
       "      <td>S4</td>\n",
       "      <td>2016</td>\n",
       "      <td>2</td>\n",
       "      <td>0</td>\n",
       "      <td>643</td>\n",
       "      <td>Russian Federation</td>\n",
       "      <td>RUS</td>\n",
       "      <td>136</td>\n",
       "      <td>Cayman Isds</td>\n",
       "      <td>CYM</td>\n",
       "      <td>68.0</td>\n",
       "      <td>Non-ferrous metals</td>\n",
       "      <td>1</td>\n",
       "      <td>No Quantity</td>\n",
       "      <td>0.0</td>\n",
       "      <td>0.0</td>\n",
       "      <td>11575</td>\n",
       "      <td>Americas</td>\n",
       "      <td>West Indies</td>\n",
       "    </tr>\n",
       "  </tbody>\n",
       "</table>\n",
       "</div>"
      ],
      "text/plain": [
       "    index Classification  Year  Aggregate Level  Is Leaf Code  Reporter Code  \\\n",
       "11     12             S4  2011                2             0            643   \n",
       "12     13             S4  2012                2             0            643   \n",
       "13     14             S4  2014                2             0            643   \n",
       "14     15             S4  2015                2             0            643   \n",
       "15     16             S4  2016                2             0            643   \n",
       "\n",
       "              Reporter Reporter ISO  Partner Code      Partner Partner ISO  \\\n",
       "11  Russian Federation          RUS           136  Cayman Isds         CYM   \n",
       "12  Russian Federation          RUS           136  Cayman Isds         CYM   \n",
       "13  Russian Federation          RUS           136  Cayman Isds         CYM   \n",
       "14  Russian Federation          RUS           136  Cayman Isds         CYM   \n",
       "15  Russian Federation          RUS           136  Cayman Isds         CYM   \n",
       "\n",
       "    Commodity Code                                          Commodity  \\\n",
       "11            65.0  Textile yarn, fabrics, made-up articles, n.e.s...   \n",
       "12            65.0  Textile yarn, fabrics, made-up articles, n.e.s...   \n",
       "13            89.0        Miscellaneous manufactured articles, n.e.s.   \n",
       "14            68.0                                 Non-ferrous metals   \n",
       "15            68.0                                 Non-ferrous metals   \n",
       "\n",
       "    Qty Unit Code     Qty Unit  Qty  Netweight (kg)  Trade Value (US$)  \\\n",
       "11              1  No Quantity  NaN             NaN              10055   \n",
       "12              1  No Quantity  NaN             NaN              27778   \n",
       "13              1  No Quantity  NaN             NaN              16098   \n",
       "14              1  No Quantity  NaN             NaN             -31109   \n",
       "15              1  No Quantity  0.0             0.0              11575   \n",
       "\n",
       "   Continent       Region  \n",
       "11  Americas  West Indies  \n",
       "12  Americas  West Indies  \n",
       "13  Americas  West Indies  \n",
       "14  Americas  West Indies  \n",
       "15  Americas  West Indies  "
      ]
     },
     "execution_count": 500,
     "metadata": {},
     "output_type": "execute_result"
    }
   ],
   "source": [
    "df1.head()"
   ]
  },
  {
   "cell_type": "markdown",
   "id": "f3a34202",
   "metadata": {
    "papermill": {
     "duration": 0.01518,
     "end_time": "2023-05-10T10:21:54.235292",
     "exception": false,
     "start_time": "2023-05-10T10:21:54.220112",
     "status": "completed"
    },
    "tags": []
   },
   "source": [
    "<a id=\"1\"></a>\n",
    "<div style=\"padding:20px;\n",
    "            color:white;\n",
    "            margin:10;\n",
    "            font-size:170%;\n",
    "            text-align:left;\n",
    "            display:fill;\n",
    "            border-radius:5px;\n",
    "            background-color:#294B8E;\n",
    "            overflow:hidden;\n",
    "            font-weight:700\">3 <span style='color:#CDA63A'>|</span> Pandas Profiling</div>"
   ]
  },
  {
   "cell_type": "code",
   "execution_count": 502,
   "id": "67fb996f-54a0-4cac-865e-fc79061b0581",
   "metadata": {},
   "outputs": [
    {
     "name": "stdout",
     "output_type": "stream",
     "text": [
      "Requirement already satisfied: visions==0.7.1 in c:\\users\\vijay\\anaconda3\\lib\\site-packages (0.7.1)\n",
      "Requirement already satisfied: numpy in c:\\users\\vijay\\anaconda3\\lib\\site-packages (from visions==0.7.1) (1.26.4)\n",
      "Requirement already satisfied: pandas>=0.25.3 in c:\\users\\vijay\\anaconda3\\lib\\site-packages (from visions==0.7.1) (2.2.3)\n",
      "Requirement already satisfied: attrs>=19.3.0 in c:\\users\\vijay\\anaconda3\\lib\\site-packages (from visions==0.7.1) (23.1.0)\n",
      "Requirement already satisfied: networkx>=2.4 in c:\\users\\vijay\\anaconda3\\lib\\site-packages (from visions==0.7.1) (3.1)\n",
      "Requirement already satisfied: bottleneck in c:\\users\\vijay\\anaconda3\\lib\\site-packages (from visions==0.7.1) (1.3.7)\n",
      "Requirement already satisfied: tangled-up-in-unicode>=0.0.4 in c:\\users\\vijay\\anaconda3\\lib\\site-packages (from visions==0.7.1) (0.2.0)\n",
      "Requirement already satisfied: multimethod==1.4 in c:\\users\\vijay\\anaconda3\\lib\\site-packages (from visions==0.7.1) (1.4)\n",
      "Requirement already satisfied: python-dateutil>=2.8.2 in c:\\users\\vijay\\anaconda3\\lib\\site-packages (from pandas>=0.25.3->visions==0.7.1) (2.8.2)\n",
      "Requirement already satisfied: pytz>=2020.1 in c:\\users\\vijay\\anaconda3\\lib\\site-packages (from pandas>=0.25.3->visions==0.7.1) (2023.3.post1)\n",
      "Requirement already satisfied: tzdata>=2022.7 in c:\\users\\vijay\\anaconda3\\lib\\site-packages (from pandas>=0.25.3->visions==0.7.1) (2023.3)\n",
      "Requirement already satisfied: six>=1.5 in c:\\users\\vijay\\anaconda3\\lib\\site-packages (from python-dateutil>=2.8.2->pandas>=0.25.3->visions==0.7.1) (1.16.0)\n"
     ]
    }
   ],
   "source": [
    "!pip install visions==0.7.1"
   ]
  },
  {
   "cell_type": "code",
   "execution_count": 503,
   "id": "b4323b03-1d34-4407-a39f-7e9bacd29419",
   "metadata": {},
   "outputs": [
    {
     "name": "stdout",
     "output_type": "stream",
     "text": [
      "Requirement already satisfied: pandas in c:\\users\\vijay\\anaconda3\\lib\\site-packages (2.2.3)\n",
      "Requirement already satisfied: numpy>=1.23.2 in c:\\users\\vijay\\anaconda3\\lib\\site-packages (from pandas) (1.26.4)\n",
      "Requirement already satisfied: python-dateutil>=2.8.2 in c:\\users\\vijay\\anaconda3\\lib\\site-packages (from pandas) (2.8.2)\n",
      "Requirement already satisfied: pytz>=2020.1 in c:\\users\\vijay\\anaconda3\\lib\\site-packages (from pandas) (2023.3.post1)\n",
      "Requirement already satisfied: tzdata>=2022.7 in c:\\users\\vijay\\anaconda3\\lib\\site-packages (from pandas) (2023.3)\n",
      "Requirement already satisfied: six>=1.5 in c:\\users\\vijay\\anaconda3\\lib\\site-packages (from python-dateutil>=2.8.2->pandas) (1.16.0)\n"
     ]
    }
   ],
   "source": [
    "!pip install --upgrade pandas"
   ]
  },
  {
   "cell_type": "code",
   "execution_count": null,
   "id": "aff653ac",
   "metadata": {
    "papermill": {
     "duration": 3.502766,
     "end_time": "2023-05-10T10:21:57.752952",
     "exception": false,
     "start_time": "2023-05-10T10:21:54.250186",
     "status": "completed"
    },
    "tags": []
   },
   "outputs": [],
   "source": []
  },
  {
   "cell_type": "code",
   "execution_count": null,
   "id": "53f0261f",
   "metadata": {
    "papermill": {
     "duration": 0.015273,
     "end_time": "2023-05-10T10:21:57.783280",
     "exception": false,
     "start_time": "2023-05-10T10:21:57.768007",
     "status": "completed"
    },
    "tags": []
   },
   "outputs": [],
   "source": []
  },
  {
   "cell_type": "markdown",
   "id": "702570f7",
   "metadata": {
    "papermill": {
     "duration": 0.014287,
     "end_time": "2023-05-10T10:21:57.812154",
     "exception": false,
     "start_time": "2023-05-10T10:21:57.797867",
     "status": "completed"
    },
    "tags": []
   },
   "source": [
    "<a id=\"1\"></a>\n",
    "<div style=\"padding:20px;\n",
    "            color:white;\n",
    "            margin:10;\n",
    "            font-size:170%;\n",
    "            text-align:left;\n",
    "            display:fill;\n",
    "            border-radius:5px;\n",
    "            background-color:#294B8E;\n",
    "            overflow:hidden;\n",
    "            font-weight:700\">4 <span style='color:#CDA63A'>|</span> Exploratory Data Analysis</div>"
   ]
  },
  {
   "cell_type": "code",
   "execution_count": 505,
   "id": "9c506111",
   "metadata": {
    "papermill": {
     "duration": 0.04065,
     "end_time": "2023-05-10T10:21:57.867918",
     "exception": false,
     "start_time": "2023-05-10T10:21:57.827268",
     "status": "completed"
    },
    "tags": []
   },
   "outputs": [
    {
     "data": {
      "text/html": [
       "<div>\n",
       "<style scoped>\n",
       "    .dataframe tbody tr th:only-of-type {\n",
       "        vertical-align: middle;\n",
       "    }\n",
       "\n",
       "    .dataframe tbody tr th {\n",
       "        vertical-align: top;\n",
       "    }\n",
       "\n",
       "    .dataframe thead th {\n",
       "        text-align: right;\n",
       "    }\n",
       "</style>\n",
       "<table border=\"1\" class=\"dataframe\">\n",
       "  <thead>\n",
       "    <tr style=\"text-align: right;\">\n",
       "      <th></th>\n",
       "      <th>index</th>\n",
       "      <th>Classification</th>\n",
       "      <th>Year</th>\n",
       "      <th>Aggregate Level</th>\n",
       "      <th>Is Leaf Code</th>\n",
       "      <th>Reporter Code</th>\n",
       "      <th>Reporter</th>\n",
       "      <th>Reporter ISO</th>\n",
       "      <th>Partner Code</th>\n",
       "      <th>Partner</th>\n",
       "      <th>Partner ISO</th>\n",
       "      <th>Commodity Code</th>\n",
       "      <th>Commodity</th>\n",
       "      <th>Qty Unit Code</th>\n",
       "      <th>Qty Unit</th>\n",
       "      <th>Qty</th>\n",
       "      <th>Netweight (kg)</th>\n",
       "      <th>Trade Value (US$)</th>\n",
       "      <th>Continent</th>\n",
       "      <th>Region</th>\n",
       "    </tr>\n",
       "  </thead>\n",
       "  <tbody>\n",
       "    <tr>\n",
       "      <th>11</th>\n",
       "      <td>12</td>\n",
       "      <td>S4</td>\n",
       "      <td>2011</td>\n",
       "      <td>2</td>\n",
       "      <td>0</td>\n",
       "      <td>643</td>\n",
       "      <td>Russian Federation</td>\n",
       "      <td>RUS</td>\n",
       "      <td>136</td>\n",
       "      <td>Cayman Isds</td>\n",
       "      <td>CYM</td>\n",
       "      <td>65.0</td>\n",
       "      <td>Textile yarn, fabrics, made-up articles, n.e.s...</td>\n",
       "      <td>1</td>\n",
       "      <td>No Quantity</td>\n",
       "      <td>NaN</td>\n",
       "      <td>NaN</td>\n",
       "      <td>10055</td>\n",
       "      <td>Americas</td>\n",
       "      <td>West Indies</td>\n",
       "    </tr>\n",
       "    <tr>\n",
       "      <th>12</th>\n",
       "      <td>13</td>\n",
       "      <td>S4</td>\n",
       "      <td>2012</td>\n",
       "      <td>2</td>\n",
       "      <td>0</td>\n",
       "      <td>643</td>\n",
       "      <td>Russian Federation</td>\n",
       "      <td>RUS</td>\n",
       "      <td>136</td>\n",
       "      <td>Cayman Isds</td>\n",
       "      <td>CYM</td>\n",
       "      <td>65.0</td>\n",
       "      <td>Textile yarn, fabrics, made-up articles, n.e.s...</td>\n",
       "      <td>1</td>\n",
       "      <td>No Quantity</td>\n",
       "      <td>NaN</td>\n",
       "      <td>NaN</td>\n",
       "      <td>27778</td>\n",
       "      <td>Americas</td>\n",
       "      <td>West Indies</td>\n",
       "    </tr>\n",
       "    <tr>\n",
       "      <th>13</th>\n",
       "      <td>14</td>\n",
       "      <td>S4</td>\n",
       "      <td>2014</td>\n",
       "      <td>2</td>\n",
       "      <td>0</td>\n",
       "      <td>643</td>\n",
       "      <td>Russian Federation</td>\n",
       "      <td>RUS</td>\n",
       "      <td>136</td>\n",
       "      <td>Cayman Isds</td>\n",
       "      <td>CYM</td>\n",
       "      <td>89.0</td>\n",
       "      <td>Miscellaneous manufactured articles, n.e.s.</td>\n",
       "      <td>1</td>\n",
       "      <td>No Quantity</td>\n",
       "      <td>NaN</td>\n",
       "      <td>NaN</td>\n",
       "      <td>16098</td>\n",
       "      <td>Americas</td>\n",
       "      <td>West Indies</td>\n",
       "    </tr>\n",
       "    <tr>\n",
       "      <th>14</th>\n",
       "      <td>15</td>\n",
       "      <td>S4</td>\n",
       "      <td>2015</td>\n",
       "      <td>2</td>\n",
       "      <td>0</td>\n",
       "      <td>643</td>\n",
       "      <td>Russian Federation</td>\n",
       "      <td>RUS</td>\n",
       "      <td>136</td>\n",
       "      <td>Cayman Isds</td>\n",
       "      <td>CYM</td>\n",
       "      <td>68.0</td>\n",
       "      <td>Non-ferrous metals</td>\n",
       "      <td>1</td>\n",
       "      <td>No Quantity</td>\n",
       "      <td>NaN</td>\n",
       "      <td>NaN</td>\n",
       "      <td>-31109</td>\n",
       "      <td>Americas</td>\n",
       "      <td>West Indies</td>\n",
       "    </tr>\n",
       "    <tr>\n",
       "      <th>15</th>\n",
       "      <td>16</td>\n",
       "      <td>S4</td>\n",
       "      <td>2016</td>\n",
       "      <td>2</td>\n",
       "      <td>0</td>\n",
       "      <td>643</td>\n",
       "      <td>Russian Federation</td>\n",
       "      <td>RUS</td>\n",
       "      <td>136</td>\n",
       "      <td>Cayman Isds</td>\n",
       "      <td>CYM</td>\n",
       "      <td>68.0</td>\n",
       "      <td>Non-ferrous metals</td>\n",
       "      <td>1</td>\n",
       "      <td>No Quantity</td>\n",
       "      <td>0.0</td>\n",
       "      <td>0.0</td>\n",
       "      <td>11575</td>\n",
       "      <td>Americas</td>\n",
       "      <td>West Indies</td>\n",
       "    </tr>\n",
       "  </tbody>\n",
       "</table>\n",
       "</div>"
      ],
      "text/plain": [
       "    index Classification  Year  Aggregate Level  Is Leaf Code  Reporter Code  \\\n",
       "11     12             S4  2011                2             0            643   \n",
       "12     13             S4  2012                2             0            643   \n",
       "13     14             S4  2014                2             0            643   \n",
       "14     15             S4  2015                2             0            643   \n",
       "15     16             S4  2016                2             0            643   \n",
       "\n",
       "              Reporter Reporter ISO  Partner Code      Partner Partner ISO  \\\n",
       "11  Russian Federation          RUS           136  Cayman Isds         CYM   \n",
       "12  Russian Federation          RUS           136  Cayman Isds         CYM   \n",
       "13  Russian Federation          RUS           136  Cayman Isds         CYM   \n",
       "14  Russian Federation          RUS           136  Cayman Isds         CYM   \n",
       "15  Russian Federation          RUS           136  Cayman Isds         CYM   \n",
       "\n",
       "    Commodity Code                                          Commodity  \\\n",
       "11            65.0  Textile yarn, fabrics, made-up articles, n.e.s...   \n",
       "12            65.0  Textile yarn, fabrics, made-up articles, n.e.s...   \n",
       "13            89.0        Miscellaneous manufactured articles, n.e.s.   \n",
       "14            68.0                                 Non-ferrous metals   \n",
       "15            68.0                                 Non-ferrous metals   \n",
       "\n",
       "    Qty Unit Code     Qty Unit  Qty  Netweight (kg)  Trade Value (US$)  \\\n",
       "11              1  No Quantity  NaN             NaN              10055   \n",
       "12              1  No Quantity  NaN             NaN              27778   \n",
       "13              1  No Quantity  NaN             NaN              16098   \n",
       "14              1  No Quantity  NaN             NaN             -31109   \n",
       "15              1  No Quantity  0.0             0.0              11575   \n",
       "\n",
       "   Continent       Region  \n",
       "11  Americas  West Indies  \n",
       "12  Americas  West Indies  \n",
       "13  Americas  West Indies  \n",
       "14  Americas  West Indies  \n",
       "15  Americas  West Indies  "
      ]
     },
     "execution_count": 505,
     "metadata": {},
     "output_type": "execute_result"
    }
   ],
   "source": [
    "df1.head()"
   ]
  },
  {
   "cell_type": "markdown",
   "id": "c23bb5d4",
   "metadata": {
    "papermill": {
     "duration": 0.014499,
     "end_time": "2023-05-10T10:21:57.897424",
     "exception": false,
     "start_time": "2023-05-10T10:21:57.882925",
     "status": "completed"
    },
    "tags": []
   },
   "source": [
    "### <div style=\"font-family: Trebuchet MS; background-color: #87beda; color: #FFFFFF; padding: 12px; line-height: 1.5;\"> I. Trade Value of Russian exports over the years 📅</div>   \n",
    "Russia is able to maintain a **stable** trade value overall, The trade volumes have been in a **range** of <span style=\"background-color: #32CD32\">5-8 Million USD</span>. The biggest impacts in recent history being: the housing crisis of 2008 and the Crimean annexation of 2014. The 2014 conflict has resulted in sanctions and economic downturn, with the shift from Europe to China occuring. Having a stable Trade <span style=\"background-color: #32CD32\">ensures financial security</span> and helps the nations citizens choose from a variety of options.\n",
    "___"
   ]
  },
  {
   "cell_type": "code",
   "execution_count": 507,
   "id": "f1e913ff",
   "metadata": {
    "papermill": {
     "duration": 1.809031,
     "end_time": "2023-05-10T10:21:59.721277",
     "exception": false,
     "start_time": "2023-05-10T10:21:57.912246",
     "status": "completed"
    },
    "tags": []
   },
   "outputs": [
    {
     "data": {
      "application/vnd.plotly.v1+json": {
       "config": {
        "plotlyServerURL": "https://plot.ly"
       },
       "data": [
        {
         "fillpattern": {
          "shape": ""
         },
         "hovertemplate": "Year=%{x}<br>Trade Value (US$)=%{y}<extra></extra>",
         "legendgroup": "",
         "line": {
          "color": "#636efa"
         },
         "marker": {
          "symbol": "circle"
         },
         "mode": "lines",
         "name": "",
         "orientation": "v",
         "showlegend": false,
         "stackgroup": "1",
         "type": "scatter",
         "x": [
          2007,
          2008,
          2009,
          2010,
          2011,
          2012,
          2013,
          2014,
          2015,
          2016,
          2017,
          2018,
          2019,
          2020
         ],
         "xaxis": "x",
         "y": [
          7176773,
          3763547,
          6937018,
          6053394,
          5702629,
          6354224,
          6942872,
          7722475,
          7609497,
          8079931,
          7289438,
          6054231,
          7130780,
          6632513
         ],
         "yaxis": "y"
        }
       ],
       "layout": {
        "annotations": [
         {
          "arrowhead": 1,
          "showarrow": true,
          "text": "<b>Housing Crisis",
          "x": "2008",
          "y": 4200000
         },
         {
          "text": "<b>Crimean Crisis",
          "x": "2014",
          "y": 8600000
         },
         {
          "showarrow": false,
          "text": "<b>Germany",
          "x": "2010",
          "y": 6700000
         },
         {
          "showarrow": false,
          "text": "<b>Lithuania",
          "x": "2012",
          "y": 7000000
         },
         {
          "showarrow": false,
          "text": "<b>Mongolia",
          "x": "2014",
          "y": 8200000
         },
         {
          "showarrow": false,
          "text": "<b>Kyrgyzstan",
          "x": "2016",
          "y": 8500000
         },
         {
          "showarrow": false,
          "text": "<b>China",
          "x": "2018",
          "y": 6600000
         },
         {
          "showarrow": false,
          "text": "<b>Top Importers of Goods with respect to Year",
          "x": "2014",
          "y": 11000000
         }
        ],
        "autosize": true,
        "font": {
         "family": "verdana",
         "size": 12
        },
        "legend": {
         "tracegroupgap": 0
        },
        "margin": {
         "t": 60
        },
        "paper_bgcolor": "#e9f1f5",
        "plot_bgcolor": "#e9f1f5",
        "shapes": [
         {
          "line": {
           "color": "salmon",
           "dash": "dot",
           "width": 1
          },
          "opacity": 1,
          "type": "line",
          "x0": 2010,
          "x1": 2010,
          "xref": "x",
          "y0": 0,
          "y1": 6053000,
          "yref": "y"
         },
         {
          "line": {
           "color": "salmon",
           "dash": "dot",
           "width": 1
          },
          "opacity": 1,
          "type": "line",
          "x0": 2012,
          "x1": 2012,
          "xref": "x",
          "y0": 0,
          "y1": 6354000,
          "yref": "y"
         },
         {
          "line": {
           "color": "salmon",
           "dash": "dot",
           "width": 1
          },
          "opacity": 1,
          "type": "line",
          "x0": 2014,
          "x1": 2014,
          "xref": "x",
          "y0": 0,
          "y1": 7722400,
          "yref": "y"
         },
         {
          "line": {
           "color": "salmon",
           "dash": "dot",
           "width": 1
          },
          "opacity": 1,
          "type": "line",
          "x0": 2016,
          "x1": 2016,
          "xref": "x",
          "y0": 0,
          "y1": 8079900,
          "yref": "y"
         },
         {
          "line": {
           "color": "salmon",
           "dash": "dot",
           "width": 1
          },
          "opacity": 1,
          "type": "line",
          "x0": 2018,
          "x1": 2018,
          "xref": "x",
          "y0": 0,
          "y1": 6054000,
          "yref": "y"
         },
         {
          "line": {
           "color": "black",
           "width": 1
          },
          "opacity": 1,
          "type": "line",
          "x0": 2010,
          "x1": 2018,
          "xref": "x",
          "y0": 10000000,
          "y1": 10000000,
          "yref": "y"
         },
         {
          "line": {
           "color": "black",
           "width": 1
          },
          "opacity": 1,
          "type": "line",
          "x0": 2010,
          "x1": 2010,
          "xref": "x",
          "y0": 9000000,
          "y1": 10000000,
          "yref": "y"
         },
         {
          "line": {
           "color": "black",
           "width": 1
          },
          "opacity": 1,
          "type": "line",
          "x0": 2018,
          "x1": 2018,
          "xref": "x",
          "y0": 9000000,
          "y1": 10000000,
          "yref": "y"
         },
         {
          "line": {
           "color": "black",
           "width": 1
          },
          "opacity": 1,
          "type": "line",
          "x0": 2014,
          "x1": 2014,
          "xref": "x",
          "y0": 10000000,
          "y1": 10500000,
          "yref": "y"
         }
        ],
        "template": {
         "data": {
          "bar": [
           {
            "error_x": {
             "color": "#2a3f5f"
            },
            "error_y": {
             "color": "#2a3f5f"
            },
            "marker": {
             "line": {
              "color": "white",
              "width": 0.5
             },
             "pattern": {
              "fillmode": "overlay",
              "size": 10,
              "solidity": 0.2
             }
            },
            "type": "bar"
           }
          ],
          "barpolar": [
           {
            "marker": {
             "line": {
              "color": "white",
              "width": 0.5
             },
             "pattern": {
              "fillmode": "overlay",
              "size": 10,
              "solidity": 0.2
             }
            },
            "type": "barpolar"
           }
          ],
          "carpet": [
           {
            "aaxis": {
             "endlinecolor": "#2a3f5f",
             "gridcolor": "#C8D4E3",
             "linecolor": "#C8D4E3",
             "minorgridcolor": "#C8D4E3",
             "startlinecolor": "#2a3f5f"
            },
            "baxis": {
             "endlinecolor": "#2a3f5f",
             "gridcolor": "#C8D4E3",
             "linecolor": "#C8D4E3",
             "minorgridcolor": "#C8D4E3",
             "startlinecolor": "#2a3f5f"
            },
            "type": "carpet"
           }
          ],
          "choropleth": [
           {
            "colorbar": {
             "outlinewidth": 0,
             "ticks": ""
            },
            "type": "choropleth"
           }
          ],
          "contour": [
           {
            "colorbar": {
             "outlinewidth": 0,
             "ticks": ""
            },
            "colorscale": [
             [
              0,
              "#0d0887"
             ],
             [
              0.1111111111111111,
              "#46039f"
             ],
             [
              0.2222222222222222,
              "#7201a8"
             ],
             [
              0.3333333333333333,
              "#9c179e"
             ],
             [
              0.4444444444444444,
              "#bd3786"
             ],
             [
              0.5555555555555556,
              "#d8576b"
             ],
             [
              0.6666666666666666,
              "#ed7953"
             ],
             [
              0.7777777777777778,
              "#fb9f3a"
             ],
             [
              0.8888888888888888,
              "#fdca26"
             ],
             [
              1,
              "#f0f921"
             ]
            ],
            "type": "contour"
           }
          ],
          "contourcarpet": [
           {
            "colorbar": {
             "outlinewidth": 0,
             "ticks": ""
            },
            "type": "contourcarpet"
           }
          ],
          "heatmap": [
           {
            "colorbar": {
             "outlinewidth": 0,
             "ticks": ""
            },
            "colorscale": [
             [
              0,
              "#0d0887"
             ],
             [
              0.1111111111111111,
              "#46039f"
             ],
             [
              0.2222222222222222,
              "#7201a8"
             ],
             [
              0.3333333333333333,
              "#9c179e"
             ],
             [
              0.4444444444444444,
              "#bd3786"
             ],
             [
              0.5555555555555556,
              "#d8576b"
             ],
             [
              0.6666666666666666,
              "#ed7953"
             ],
             [
              0.7777777777777778,
              "#fb9f3a"
             ],
             [
              0.8888888888888888,
              "#fdca26"
             ],
             [
              1,
              "#f0f921"
             ]
            ],
            "type": "heatmap"
           }
          ],
          "heatmapgl": [
           {
            "colorbar": {
             "outlinewidth": 0,
             "ticks": ""
            },
            "colorscale": [
             [
              0,
              "#0d0887"
             ],
             [
              0.1111111111111111,
              "#46039f"
             ],
             [
              0.2222222222222222,
              "#7201a8"
             ],
             [
              0.3333333333333333,
              "#9c179e"
             ],
             [
              0.4444444444444444,
              "#bd3786"
             ],
             [
              0.5555555555555556,
              "#d8576b"
             ],
             [
              0.6666666666666666,
              "#ed7953"
             ],
             [
              0.7777777777777778,
              "#fb9f3a"
             ],
             [
              0.8888888888888888,
              "#fdca26"
             ],
             [
              1,
              "#f0f921"
             ]
            ],
            "type": "heatmapgl"
           }
          ],
          "histogram": [
           {
            "marker": {
             "pattern": {
              "fillmode": "overlay",
              "size": 10,
              "solidity": 0.2
             }
            },
            "type": "histogram"
           }
          ],
          "histogram2d": [
           {
            "colorbar": {
             "outlinewidth": 0,
             "ticks": ""
            },
            "colorscale": [
             [
              0,
              "#0d0887"
             ],
             [
              0.1111111111111111,
              "#46039f"
             ],
             [
              0.2222222222222222,
              "#7201a8"
             ],
             [
              0.3333333333333333,
              "#9c179e"
             ],
             [
              0.4444444444444444,
              "#bd3786"
             ],
             [
              0.5555555555555556,
              "#d8576b"
             ],
             [
              0.6666666666666666,
              "#ed7953"
             ],
             [
              0.7777777777777778,
              "#fb9f3a"
             ],
             [
              0.8888888888888888,
              "#fdca26"
             ],
             [
              1,
              "#f0f921"
             ]
            ],
            "type": "histogram2d"
           }
          ],
          "histogram2dcontour": [
           {
            "colorbar": {
             "outlinewidth": 0,
             "ticks": ""
            },
            "colorscale": [
             [
              0,
              "#0d0887"
             ],
             [
              0.1111111111111111,
              "#46039f"
             ],
             [
              0.2222222222222222,
              "#7201a8"
             ],
             [
              0.3333333333333333,
              "#9c179e"
             ],
             [
              0.4444444444444444,
              "#bd3786"
             ],
             [
              0.5555555555555556,
              "#d8576b"
             ],
             [
              0.6666666666666666,
              "#ed7953"
             ],
             [
              0.7777777777777778,
              "#fb9f3a"
             ],
             [
              0.8888888888888888,
              "#fdca26"
             ],
             [
              1,
              "#f0f921"
             ]
            ],
            "type": "histogram2dcontour"
           }
          ],
          "mesh3d": [
           {
            "colorbar": {
             "outlinewidth": 0,
             "ticks": ""
            },
            "type": "mesh3d"
           }
          ],
          "parcoords": [
           {
            "line": {
             "colorbar": {
              "outlinewidth": 0,
              "ticks": ""
             }
            },
            "type": "parcoords"
           }
          ],
          "pie": [
           {
            "automargin": true,
            "type": "pie"
           }
          ],
          "scatter": [
           {
            "fillpattern": {
             "fillmode": "overlay",
             "size": 10,
             "solidity": 0.2
            },
            "type": "scatter"
           }
          ],
          "scatter3d": [
           {
            "line": {
             "colorbar": {
              "outlinewidth": 0,
              "ticks": ""
             }
            },
            "marker": {
             "colorbar": {
              "outlinewidth": 0,
              "ticks": ""
             }
            },
            "type": "scatter3d"
           }
          ],
          "scattercarpet": [
           {
            "marker": {
             "colorbar": {
              "outlinewidth": 0,
              "ticks": ""
             }
            },
            "type": "scattercarpet"
           }
          ],
          "scattergeo": [
           {
            "marker": {
             "colorbar": {
              "outlinewidth": 0,
              "ticks": ""
             }
            },
            "type": "scattergeo"
           }
          ],
          "scattergl": [
           {
            "marker": {
             "colorbar": {
              "outlinewidth": 0,
              "ticks": ""
             }
            },
            "type": "scattergl"
           }
          ],
          "scattermapbox": [
           {
            "marker": {
             "colorbar": {
              "outlinewidth": 0,
              "ticks": ""
             }
            },
            "type": "scattermapbox"
           }
          ],
          "scatterpolar": [
           {
            "marker": {
             "colorbar": {
              "outlinewidth": 0,
              "ticks": ""
             }
            },
            "type": "scatterpolar"
           }
          ],
          "scatterpolargl": [
           {
            "marker": {
             "colorbar": {
              "outlinewidth": 0,
              "ticks": ""
             }
            },
            "type": "scatterpolargl"
           }
          ],
          "scatterternary": [
           {
            "marker": {
             "colorbar": {
              "outlinewidth": 0,
              "ticks": ""
             }
            },
            "type": "scatterternary"
           }
          ],
          "surface": [
           {
            "colorbar": {
             "outlinewidth": 0,
             "ticks": ""
            },
            "colorscale": [
             [
              0,
              "#0d0887"
             ],
             [
              0.1111111111111111,
              "#46039f"
             ],
             [
              0.2222222222222222,
              "#7201a8"
             ],
             [
              0.3333333333333333,
              "#9c179e"
             ],
             [
              0.4444444444444444,
              "#bd3786"
             ],
             [
              0.5555555555555556,
              "#d8576b"
             ],
             [
              0.6666666666666666,
              "#ed7953"
             ],
             [
              0.7777777777777778,
              "#fb9f3a"
             ],
             [
              0.8888888888888888,
              "#fdca26"
             ],
             [
              1,
              "#f0f921"
             ]
            ],
            "type": "surface"
           }
          ],
          "table": [
           {
            "cells": {
             "fill": {
              "color": "#EBF0F8"
             },
             "line": {
              "color": "white"
             }
            },
            "header": {
             "fill": {
              "color": "#C8D4E3"
             },
             "line": {
              "color": "white"
             }
            },
            "type": "table"
           }
          ]
         },
         "layout": {
          "annotationdefaults": {
           "arrowcolor": "#2a3f5f",
           "arrowhead": 0,
           "arrowwidth": 1
          },
          "autotypenumbers": "strict",
          "coloraxis": {
           "colorbar": {
            "outlinewidth": 0,
            "ticks": ""
           }
          },
          "colorscale": {
           "diverging": [
            [
             0,
             "#8e0152"
            ],
            [
             0.1,
             "#c51b7d"
            ],
            [
             0.2,
             "#de77ae"
            ],
            [
             0.3,
             "#f1b6da"
            ],
            [
             0.4,
             "#fde0ef"
            ],
            [
             0.5,
             "#f7f7f7"
            ],
            [
             0.6,
             "#e6f5d0"
            ],
            [
             0.7,
             "#b8e186"
            ],
            [
             0.8,
             "#7fbc41"
            ],
            [
             0.9,
             "#4d9221"
            ],
            [
             1,
             "#276419"
            ]
           ],
           "sequential": [
            [
             0,
             "#0d0887"
            ],
            [
             0.1111111111111111,
             "#46039f"
            ],
            [
             0.2222222222222222,
             "#7201a8"
            ],
            [
             0.3333333333333333,
             "#9c179e"
            ],
            [
             0.4444444444444444,
             "#bd3786"
            ],
            [
             0.5555555555555556,
             "#d8576b"
            ],
            [
             0.6666666666666666,
             "#ed7953"
            ],
            [
             0.7777777777777778,
             "#fb9f3a"
            ],
            [
             0.8888888888888888,
             "#fdca26"
            ],
            [
             1,
             "#f0f921"
            ]
           ],
           "sequentialminus": [
            [
             0,
             "#0d0887"
            ],
            [
             0.1111111111111111,
             "#46039f"
            ],
            [
             0.2222222222222222,
             "#7201a8"
            ],
            [
             0.3333333333333333,
             "#9c179e"
            ],
            [
             0.4444444444444444,
             "#bd3786"
            ],
            [
             0.5555555555555556,
             "#d8576b"
            ],
            [
             0.6666666666666666,
             "#ed7953"
            ],
            [
             0.7777777777777778,
             "#fb9f3a"
            ],
            [
             0.8888888888888888,
             "#fdca26"
            ],
            [
             1,
             "#f0f921"
            ]
           ]
          },
          "colorway": [
           "#636efa",
           "#EF553B",
           "#00cc96",
           "#ab63fa",
           "#FFA15A",
           "#19d3f3",
           "#FF6692",
           "#B6E880",
           "#FF97FF",
           "#FECB52"
          ],
          "font": {
           "color": "#2a3f5f"
          },
          "geo": {
           "bgcolor": "white",
           "lakecolor": "white",
           "landcolor": "white",
           "showlakes": true,
           "showland": true,
           "subunitcolor": "#C8D4E3"
          },
          "hoverlabel": {
           "align": "left"
          },
          "hovermode": "closest",
          "mapbox": {
           "style": "light"
          },
          "paper_bgcolor": "white",
          "plot_bgcolor": "white",
          "polar": {
           "angularaxis": {
            "gridcolor": "#EBF0F8",
            "linecolor": "#EBF0F8",
            "ticks": ""
           },
           "bgcolor": "white",
           "radialaxis": {
            "gridcolor": "#EBF0F8",
            "linecolor": "#EBF0F8",
            "ticks": ""
           }
          },
          "scene": {
           "xaxis": {
            "backgroundcolor": "white",
            "gridcolor": "#DFE8F3",
            "gridwidth": 2,
            "linecolor": "#EBF0F8",
            "showbackground": true,
            "ticks": "",
            "zerolinecolor": "#EBF0F8"
           },
           "yaxis": {
            "backgroundcolor": "white",
            "gridcolor": "#DFE8F3",
            "gridwidth": 2,
            "linecolor": "#EBF0F8",
            "showbackground": true,
            "ticks": "",
            "zerolinecolor": "#EBF0F8"
           },
           "zaxis": {
            "backgroundcolor": "white",
            "gridcolor": "#DFE8F3",
            "gridwidth": 2,
            "linecolor": "#EBF0F8",
            "showbackground": true,
            "ticks": "",
            "zerolinecolor": "#EBF0F8"
           }
          },
          "shapedefaults": {
           "line": {
            "color": "#2a3f5f"
           }
          },
          "ternary": {
           "aaxis": {
            "gridcolor": "#DFE8F3",
            "linecolor": "#A2B1C6",
            "ticks": ""
           },
           "baxis": {
            "gridcolor": "#DFE8F3",
            "linecolor": "#A2B1C6",
            "ticks": ""
           },
           "bgcolor": "white",
           "caxis": {
            "gridcolor": "#DFE8F3",
            "linecolor": "#A2B1C6",
            "ticks": ""
           }
          },
          "title": {
           "x": 0.05
          },
          "xaxis": {
           "automargin": true,
           "gridcolor": "#EBF0F8",
           "linecolor": "#EBF0F8",
           "ticks": "",
           "title": {
            "standoff": 15
           },
           "zerolinecolor": "#EBF0F8",
           "zerolinewidth": 2
          },
          "yaxis": {
           "automargin": true,
           "gridcolor": "#EBF0F8",
           "linecolor": "#EBF0F8",
           "ticks": "",
           "title": {
            "standoff": 15
           },
           "zerolinecolor": "#EBF0F8",
           "zerolinewidth": 2
          }
         }
        },
        "title": {
         "text": "Volume of Trade over Years<br><sup>Exports by Russia have been in a 'range' for the past years</sup>"
        },
        "xaxis": {
         "anchor": "y",
         "autorange": true,
         "domain": [
          0,
          1
         ],
         "range": [
          2007,
          2020
         ],
         "title": {
          "text": "Year"
         },
         "type": "linear"
        },
        "yaxis": {
         "anchor": "x",
         "domain": [
          0,
          1
         ],
         "range": [
          0,
          12500000
         ],
         "showgrid": false,
         "tickprefix": "$",
         "title": {
          "text": "Trade Value (US$)"
         },
         "type": "linear"
        }
       }
      },
      "image/png": "[encoded data removed]",
      "text/html": [
       "<div>                            <div id=\"ef183576-0cfb-470f-baff-50c026319f48\" class=\"plotly-graph-div\" style=\"height:525px; width:100%;\"></div>            <script type=\"text/javascript\">                require([\"plotly\"], function(Plotly) {                    window.PLOTLYENV=window.PLOTLYENV || {};                                    if (document.getElementById(\"ef183576-0cfb-470f-baff-50c026319f48\")) {                    Plotly.newPlot(                        \"ef183576-0cfb-470f-baff-50c026319f48\",                        [{\"fillpattern\":{\"shape\":\"\"},\"hovertemplate\":\"Year=%{x}<br>Trade Value (US$)=%{y}<extra></extra>\",\"legendgroup\":\"\",\"line\":{\"color\":\"#636efa\"},\"marker\":{\"symbol\":\"circle\"},\"mode\":\"lines\",\"name\":\"\",\"orientation\":\"v\",\"showlegend\":false,\"stackgroup\":\"1\",\"x\":[2007,2008,2009,2010,2011,2012,2013,2014,2015,2016,2017,2018,2019,2020],\"xaxis\":\"x\",\"y\":[7176773,3763547,6937018,6053394,5702629,6354224,6942872,7722475,7609497,8079931,7289438,6054231,7130780,6632513],\"yaxis\":\"y\",\"type\":\"scatter\"}],                        {\"template\":{\"data\":{\"barpolar\":[{\"marker\":{\"line\":{\"color\":\"white\",\"width\":0.5},\"pattern\":{\"fillmode\":\"overlay\",\"size\":10,\"solidity\":0.2}},\"type\":\"barpolar\"}],\"bar\":[{\"error_x\":{\"color\":\"#2a3f5f\"},\"error_y\":{\"color\":\"#2a3f5f\"},\"marker\":{\"line\":{\"color\":\"white\",\"width\":0.5},\"pattern\":{\"fillmode\":\"overlay\",\"size\":10,\"solidity\":0.2}},\"type\":\"bar\"}],\"carpet\":[{\"aaxis\":{\"endlinecolor\":\"#2a3f5f\",\"gridcolor\":\"#C8D4E3\",\"linecolor\":\"#C8D4E3\",\"minorgridcolor\":\"#C8D4E3\",\"startlinecolor\":\"#2a3f5f\"},\"baxis\":{\"endlinecolor\":\"#2a3f5f\",\"gridcolor\":\"#C8D4E3\",\"linecolor\":\"#C8D4E3\",\"minorgridcolor\":\"#C8D4E3\",\"startlinecolor\":\"#2a3f5f\"},\"type\":\"carpet\"}],\"choropleth\":[{\"colorbar\":{\"outlinewidth\":0,\"ticks\":\"\"},\"type\":\"choropleth\"}],\"contourcarpet\":[{\"colorbar\":{\"outlinewidth\":0,\"ticks\":\"\"},\"type\":\"contourcarpet\"}],\"contour\":[{\"colorbar\":{\"outlinewidth\":0,\"ticks\":\"\"},\"colorscale\":[[0.0,\"#0d0887\"],[0.1111111111111111,\"#46039f\"],[0.2222222222222222,\"#7201a8\"],[0.3333333333333333,\"#9c179e\"],[0.4444444444444444,\"#bd3786\"],[0.5555555555555556,\"#d8576b\"],[0.6666666666666666,\"#ed7953\"],[0.7777777777777778,\"#fb9f3a\"],[0.8888888888888888,\"#fdca26\"],[1.0,\"#f0f921\"]],\"type\":\"contour\"}],\"heatmapgl\":[{\"colorbar\":{\"outlinewidth\":0,\"ticks\":\"\"},\"colorscale\":[[0.0,\"#0d0887\"],[0.1111111111111111,\"#46039f\"],[0.2222222222222222,\"#7201a8\"],[0.3333333333333333,\"#9c179e\"],[0.4444444444444444,\"#bd3786\"],[0.5555555555555556,\"#d8576b\"],[0.6666666666666666,\"#ed7953\"],[0.7777777777777778,\"#fb9f3a\"],[0.8888888888888888,\"#fdca26\"],[1.0,\"#f0f921\"]],\"type\":\"heatmapgl\"}],\"heatmap\":[{\"colorbar\":{\"outlinewidth\":0,\"ticks\":\"\"},\"colorscale\":[[0.0,\"#0d0887\"],[0.1111111111111111,\"#46039f\"],[0.2222222222222222,\"#7201a8\"],[0.3333333333333333,\"#9c179e\"],[0.4444444444444444,\"#bd3786\"],[0.5555555555555556,\"#d8576b\"],[0.6666666666666666,\"#ed7953\"],[0.7777777777777778,\"#fb9f3a\"],[0.8888888888888888,\"#fdca26\"],[1.0,\"#f0f921\"]],\"type\":\"heatmap\"}],\"histogram2dcontour\":[{\"colorbar\":{\"outlinewidth\":0,\"ticks\":\"\"},\"colorscale\":[[0.0,\"#0d0887\"],[0.1111111111111111,\"#46039f\"],[0.2222222222222222,\"#7201a8\"],[0.3333333333333333,\"#9c179e\"],[0.4444444444444444,\"#bd3786\"],[0.5555555555555556,\"#d8576b\"],[0.6666666666666666,\"#ed7953\"],[0.7777777777777778,\"#fb9f3a\"],[0.8888888888888888,\"#fdca26\"],[1.0,\"#f0f921\"]],\"type\":\"histogram2dcontour\"}],\"histogram2d\":[{\"colorbar\":{\"outlinewidth\":0,\"ticks\":\"\"},\"colorscale\":[[0.0,\"#0d0887\"],[0.1111111111111111,\"#46039f\"],[0.2222222222222222,\"#7201a8\"],[0.3333333333333333,\"#9c179e\"],[0.4444444444444444,\"#bd3786\"],[0.5555555555555556,\"#d8576b\"],[0.6666666666666666,\"#ed7953\"],[0.7777777777777778,\"#fb9f3a\"],[0.8888888888888888,\"#fdca26\"],[1.0,\"#f0f921\"]],\"type\":\"histogram2d\"}],\"histogram\":[{\"marker\":{\"pattern\":{\"fillmode\":\"overlay\",\"size\":10,\"solidity\":0.2}},\"type\":\"histogram\"}],\"mesh3d\":[{\"colorbar\":{\"outlinewidth\":0,\"ticks\":\"\"},\"type\":\"mesh3d\"}],\"parcoords\":[{\"line\":{\"colorbar\":{\"outlinewidth\":0,\"ticks\":\"\"}},\"type\":\"parcoords\"}],\"pie\":[{\"automargin\":true,\"type\":\"pie\"}],\"scatter3d\":[{\"line\":{\"colorbar\":{\"outlinewidth\":0,\"ticks\":\"\"}},\"marker\":{\"colorbar\":{\"outlinewidth\":0,\"ticks\":\"\"}},\"type\":\"scatter3d\"}],\"scattercarpet\":[{\"marker\":{\"colorbar\":{\"outlinewidth\":0,\"ticks\":\"\"}},\"type\":\"scattercarpet\"}],\"scattergeo\":[{\"marker\":{\"colorbar\":{\"outlinewidth\":0,\"ticks\":\"\"}},\"type\":\"scattergeo\"}],\"scattergl\":[{\"marker\":{\"colorbar\":{\"outlinewidth\":0,\"ticks\":\"\"}},\"type\":\"scattergl\"}],\"scattermapbox\":[{\"marker\":{\"colorbar\":{\"outlinewidth\":0,\"ticks\":\"\"}},\"type\":\"scattermapbox\"}],\"scatterpolargl\":[{\"marker\":{\"colorbar\":{\"outlinewidth\":0,\"ticks\":\"\"}},\"type\":\"scatterpolargl\"}],\"scatterpolar\":[{\"marker\":{\"colorbar\":{\"outlinewidth\":0,\"ticks\":\"\"}},\"type\":\"scatterpolar\"}],\"scatter\":[{\"fillpattern\":{\"fillmode\":\"overlay\",\"size\":10,\"solidity\":0.2},\"type\":\"scatter\"}],\"scatterternary\":[{\"marker\":{\"colorbar\":{\"outlinewidth\":0,\"ticks\":\"\"}},\"type\":\"scatterternary\"}],\"surface\":[{\"colorbar\":{\"outlinewidth\":0,\"ticks\":\"\"},\"colorscale\":[[0.0,\"#0d0887\"],[0.1111111111111111,\"#46039f\"],[0.2222222222222222,\"#7201a8\"],[0.3333333333333333,\"#9c179e\"],[0.4444444444444444,\"#bd3786\"],[0.5555555555555556,\"#d8576b\"],[0.6666666666666666,\"#ed7953\"],[0.7777777777777778,\"#fb9f3a\"],[0.8888888888888888,\"#fdca26\"],[1.0,\"#f0f921\"]],\"type\":\"surface\"}],\"table\":[{\"cells\":{\"fill\":{\"color\":\"#EBF0F8\"},\"line\":{\"color\":\"white\"}},\"header\":{\"fill\":{\"color\":\"#C8D4E3\"},\"line\":{\"color\":\"white\"}},\"type\":\"table\"}]},\"layout\":{\"annotationdefaults\":{\"arrowcolor\":\"#2a3f5f\",\"arrowhead\":0,\"arrowwidth\":1},\"autotypenumbers\":\"strict\",\"coloraxis\":{\"colorbar\":{\"outlinewidth\":0,\"ticks\":\"\"}},\"colorscale\":{\"diverging\":[[0,\"#8e0152\"],[0.1,\"#c51b7d\"],[0.2,\"#de77ae\"],[0.3,\"#f1b6da\"],[0.4,\"#fde0ef\"],[0.5,\"#f7f7f7\"],[0.6,\"#e6f5d0\"],[0.7,\"#b8e186\"],[0.8,\"#7fbc41\"],[0.9,\"#4d9221\"],[1,\"#276419\"]],\"sequential\":[[0.0,\"#0d0887\"],[0.1111111111111111,\"#46039f\"],[0.2222222222222222,\"#7201a8\"],[0.3333333333333333,\"#9c179e\"],[0.4444444444444444,\"#bd3786\"],[0.5555555555555556,\"#d8576b\"],[0.6666666666666666,\"#ed7953\"],[0.7777777777777778,\"#fb9f3a\"],[0.8888888888888888,\"#fdca26\"],[1.0,\"#f0f921\"]],\"sequentialminus\":[[0.0,\"#0d0887\"],[0.1111111111111111,\"#46039f\"],[0.2222222222222222,\"#7201a8\"],[0.3333333333333333,\"#9c179e\"],[0.4444444444444444,\"#bd3786\"],[0.5555555555555556,\"#d8576b\"],[0.6666666666666666,\"#ed7953\"],[0.7777777777777778,\"#fb9f3a\"],[0.8888888888888888,\"#fdca26\"],[1.0,\"#f0f921\"]]},\"colorway\":[\"#636efa\",\"#EF553B\",\"#00cc96\",\"#ab63fa\",\"#FFA15A\",\"#19d3f3\",\"#FF6692\",\"#B6E880\",\"#FF97FF\",\"#FECB52\"],\"font\":{\"color\":\"#2a3f5f\"},\"geo\":{\"bgcolor\":\"white\",\"lakecolor\":\"white\",\"landcolor\":\"white\",\"showlakes\":true,\"showland\":true,\"subunitcolor\":\"#C8D4E3\"},\"hoverlabel\":{\"align\":\"left\"},\"hovermode\":\"closest\",\"mapbox\":{\"style\":\"light\"},\"paper_bgcolor\":\"white\",\"plot_bgcolor\":\"white\",\"polar\":{\"angularaxis\":{\"gridcolor\":\"#EBF0F8\",\"linecolor\":\"#EBF0F8\",\"ticks\":\"\"},\"bgcolor\":\"white\",\"radialaxis\":{\"gridcolor\":\"#EBF0F8\",\"linecolor\":\"#EBF0F8\",\"ticks\":\"\"}},\"scene\":{\"xaxis\":{\"backgroundcolor\":\"white\",\"gridcolor\":\"#DFE8F3\",\"gridwidth\":2,\"linecolor\":\"#EBF0F8\",\"showbackground\":true,\"ticks\":\"\",\"zerolinecolor\":\"#EBF0F8\"},\"yaxis\":{\"backgroundcolor\":\"white\",\"gridcolor\":\"#DFE8F3\",\"gridwidth\":2,\"linecolor\":\"#EBF0F8\",\"showbackground\":true,\"ticks\":\"\",\"zerolinecolor\":\"#EBF0F8\"},\"zaxis\":{\"backgroundcolor\":\"white\",\"gridcolor\":\"#DFE8F3\",\"gridwidth\":2,\"linecolor\":\"#EBF0F8\",\"showbackground\":true,\"ticks\":\"\",\"zerolinecolor\":\"#EBF0F8\"}},\"shapedefaults\":{\"line\":{\"color\":\"#2a3f5f\"}},\"ternary\":{\"aaxis\":{\"gridcolor\":\"#DFE8F3\",\"linecolor\":\"#A2B1C6\",\"ticks\":\"\"},\"baxis\":{\"gridcolor\":\"#DFE8F3\",\"linecolor\":\"#A2B1C6\",\"ticks\":\"\"},\"bgcolor\":\"white\",\"caxis\":{\"gridcolor\":\"#DFE8F3\",\"linecolor\":\"#A2B1C6\",\"ticks\":\"\"}},\"title\":{\"x\":0.05},\"xaxis\":{\"automargin\":true,\"gridcolor\":\"#EBF0F8\",\"linecolor\":\"#EBF0F8\",\"ticks\":\"\",\"title\":{\"standoff\":15},\"zerolinecolor\":\"#EBF0F8\",\"zerolinewidth\":2},\"yaxis\":{\"automargin\":true,\"gridcolor\":\"#EBF0F8\",\"linecolor\":\"#EBF0F8\",\"ticks\":\"\",\"title\":{\"standoff\":15},\"zerolinecolor\":\"#EBF0F8\",\"zerolinewidth\":2}}},\"xaxis\":{\"anchor\":\"y\",\"domain\":[0.0,1.0],\"title\":{\"text\":\"Year\"}},\"yaxis\":{\"anchor\":\"x\",\"domain\":[0.0,1.0],\"title\":{\"text\":\"Trade Value (US$)\"},\"tickprefix\":\"$\",\"showgrid\":false,\"range\":[0,12500000]},\"legend\":{\"tracegroupgap\":0},\"margin\":{\"t\":60},\"font\":{\"family\":\"verdana\",\"size\":12},\"paper_bgcolor\":\"#e9f1f5\",\"plot_bgcolor\":\"#e9f1f5\",\"title\":{\"text\":\"Volume of Trade over Years<br><sup>Exports by Russia have been in a 'range' for the past years</sup>\"},\"annotations\":[{\"arrowhead\":1,\"showarrow\":true,\"text\":\"<b>Housing Crisis\",\"x\":\"2008\",\"y\":4200000},{\"text\":\"<b>Crimean Crisis\",\"x\":\"2014\",\"y\":8600000},{\"showarrow\":false,\"text\":\"<b>Germany\",\"x\":\"2010\",\"y\":6700000},{\"showarrow\":false,\"text\":\"<b>Lithuania\",\"x\":\"2012\",\"y\":7000000},{\"showarrow\":false,\"text\":\"<b>Mongolia\",\"x\":\"2014\",\"y\":8200000},{\"showarrow\":false,\"text\":\"<b>Kyrgyzstan\",\"x\":\"2016\",\"y\":8500000},{\"showarrow\":false,\"text\":\"<b>China\",\"x\":\"2018\",\"y\":6600000},{\"showarrow\":false,\"text\":\"<b>Top Importers of Goods with respect to Year\",\"x\":\"2014\",\"y\":11000000}],\"shapes\":[{\"line\":{\"color\":\"salmon\",\"dash\":\"dot\",\"width\":1},\"opacity\":1,\"type\":\"line\",\"x0\":2010,\"x1\":2010,\"xref\":\"x\",\"y0\":0,\"y1\":6053000,\"yref\":\"y\"},{\"line\":{\"color\":\"salmon\",\"dash\":\"dot\",\"width\":1},\"opacity\":1,\"type\":\"line\",\"x0\":2012,\"x1\":2012,\"xref\":\"x\",\"y0\":0,\"y1\":6354000,\"yref\":\"y\"},{\"line\":{\"color\":\"salmon\",\"dash\":\"dot\",\"width\":1},\"opacity\":1,\"type\":\"line\",\"x0\":2014,\"x1\":2014,\"xref\":\"x\",\"y0\":0,\"y1\":7722400,\"yref\":\"y\"},{\"line\":{\"color\":\"salmon\",\"dash\":\"dot\",\"width\":1},\"opacity\":1,\"type\":\"line\",\"x0\":2016,\"x1\":2016,\"xref\":\"x\",\"y0\":0,\"y1\":8079900,\"yref\":\"y\"},{\"line\":{\"color\":\"salmon\",\"dash\":\"dot\",\"width\":1},\"opacity\":1,\"type\":\"line\",\"x0\":2018,\"x1\":2018,\"xref\":\"x\",\"y0\":0,\"y1\":6054000,\"yref\":\"y\"},{\"line\":{\"color\":\"black\",\"width\":1},\"opacity\":1,\"type\":\"line\",\"x0\":2010,\"x1\":2018,\"xref\":\"x\",\"y0\":10000000,\"y1\":10000000,\"yref\":\"y\"},{\"line\":{\"color\":\"black\",\"width\":1},\"opacity\":1,\"type\":\"line\",\"x0\":2010,\"x1\":2010,\"xref\":\"x\",\"y0\":9000000,\"y1\":10000000,\"yref\":\"y\"},{\"line\":{\"color\":\"black\",\"width\":1},\"opacity\":1,\"type\":\"line\",\"x0\":2018,\"x1\":2018,\"xref\":\"x\",\"y0\":9000000,\"y1\":10000000,\"yref\":\"y\"},{\"line\":{\"color\":\"black\",\"width\":1},\"opacity\":1,\"type\":\"line\",\"x0\":2014,\"x1\":2014,\"xref\":\"x\",\"y0\":10000000,\"y1\":10500000,\"yref\":\"y\"}]},                        {\"responsive\": true}                    ).then(function(){\n",
       "                            \n",
       "var gd = document.getElementById('ef183576-0cfb-470f-baff-50c026319f48');\n",
       "var x = new MutationObserver(function (mutations, observer) {{\n",
       "        var display = window.getComputedStyle(gd).display;\n",
       "        if (!display || display === 'none') {{\n",
       "            console.log([gd, 'removed!']);\n",
       "            Plotly.purge(gd);\n",
       "            observer.disconnect();\n",
       "        }}\n",
       "}});\n",
       "\n",
       "// Listen for the removal of the full notebook cells\n",
       "var notebookContainer = gd.closest('#notebook-container');\n",
       "if (notebookContainer) {{\n",
       "    x.observe(notebookContainer, {childList: true});\n",
       "}}\n",
       "\n",
       "// Listen for the clearing of the current output cell\n",
       "var outputEl = gd.closest('.output');\n",
       "if (outputEl) {{\n",
       "    x.observe(outputEl, {childList: true});\n",
       "}}\n",
       "\n",
       "                        })                };                });            </script>        </div>"
      ]
     },
     "metadata": {},
     "output_type": "display_data"
    }
   ],
   "source": [
    "ts = df1.groupby(['Year']).agg({'Trade Value (US$)':'sum'}) ; ts.reset_index(inplace=True)\n",
    "fig = px.area(ts, x='Year', y='Trade Value (US$)', template='plotly_white')\n",
    "fig.update_layout(font_family=\"verdana\",font_size=12, paper_bgcolor=\"#e9f1f5\",plot_bgcolor=\"#e9f1f5\",title=\"Volume of Trade over Years<br><sup>Exports by Russia have been in a 'range' for the past years</sup>\")\n",
    "fig.update_yaxes(tickprefix=\"$\", showgrid=False, range = [0,12500000])\n",
    "\n",
    "\n",
    "fig.add_annotation(text='<b>Housing Crisis', x='2008', y=4200000, arrowhead=1, showarrow=True)\n",
    "fig.add_annotation(text='<b>Crimean Crisis', x='2014', y=8600000)\n",
    "fig.add_shape(\n",
    "    type='line', line_color='salmon', line_width=1, opacity=1, line_dash='dot',\n",
    "    x0=2010, y0=0, x1=2010, y1=6053000, xref='x', yref='y') ; fig.add_annotation(text='<b>Germany', x='2010', y=6700000, showarrow=False)\n",
    "fig.add_shape(\n",
    "    type='line', line_color='salmon', line_width=1, opacity=1, line_dash='dot',\n",
    "    x0=2012, y0=0, x1=2012, y1=6354000, xref='x', yref='y') ; fig.add_annotation(text='<b>Lithuania', x='2012', y=7000000, showarrow=False)\n",
    "fig.add_shape(\n",
    "    type='line', line_color='salmon', line_width=1, opacity=1, line_dash='dot',\n",
    "    x0=2014, y0=0, x1=2014, y1=7722400, xref='x', yref='y') ; fig.add_annotation(text='<b>Mongolia', x='2014', y=8200000, showarrow=False)\n",
    "fig.add_shape(\n",
    "    type='line', line_color='salmon', line_width=1, opacity=1, line_dash='dot',\n",
    "    x0=2016, y0=0, x1=2016, y1=8079900, xref='x', yref='y') ; fig.add_annotation(text='<b>Kyrgyzstan', x='2016', y=8500000, showarrow=False)\n",
    "fig.add_shape(\n",
    "    type='line', line_color='salmon', line_width=1, opacity=1, line_dash='dot',\n",
    "    x0=2018, y0=0, x1=2018, y1=6054000, xref='x', yref='y') ; fig.add_annotation(text='<b>China', x='2018', y=6600000, showarrow=False)\n",
    "\n",
    "fig.add_shape(\n",
    "    type='line', line_color='black', line_width=1, opacity=1,\n",
    "    x0=2010, y0=10000000, x1=2018, y1=10000000, xref='x', yref='y') ; fig.add_annotation(text='<b>Top Importers of Goods with respect to Year', x='2014', y=11000000, showarrow=False)\n",
    "fig.add_shape(type='line', line_color='black', line_width=1, opacity=1,x0=2010, y0=9000000, x1=2010, y1=10000000, xref='x', yref='y')\n",
    "fig.add_shape(type='line', line_color='black', line_width=1, opacity=1,x0=2018, y0=9000000, x1=2018, y1=10000000, xref='x', yref='y')\n",
    "fig.add_shape(type='line', line_color='black', line_width=1, opacity=1,x0=2014, y0=10000000, x1=2014, y1=10500000, xref='x', yref='y')\n",
    "\n",
    "fig.show()"
   ]
  },
  {
   "cell_type": "code",
   "execution_count": 508,
   "id": "68579df8",
   "metadata": {
    "papermill": {
     "duration": 0.025655,
     "end_time": "2023-05-10T10:21:59.763017",
     "exception": false,
     "start_time": "2023-05-10T10:21:59.737362",
     "status": "completed"
    },
    "tags": []
   },
   "outputs": [],
   "source": [
    "cmap_chem = ['rgb(214,96,77)','#cde3ef','rgb(67,147,195)']\n",
    "cmap_ec = ['rgb(178,24,43)','#cde3ef','rgb(33,102,172)']\n",
    "circle_color = ['#67001f','#d6604d', '#9fcce2', '#4393c3','#053061']\n",
    "# re-import\n",
    "import seaborn as sns\n",
    "import matplotlib.pyplot as plt\n",
    "%matplotlib inline"
   ]
  },
  {
   "cell_type": "markdown",
   "id": "a934a352",
   "metadata": {
    "papermill": {
     "duration": 0.015215,
     "end_time": "2023-05-10T10:21:59.793942",
     "exception": false,
     "start_time": "2023-05-10T10:21:59.778727",
     "status": "completed"
    },
    "tags": []
   },
   "source": [
    "### <div style=\"font-family: Trebuchet MS; background-color: #87beda; color: #FFFFFF; padding: 12px; line-height: 1.5;\">II. Breakdown of Trade Exports by Continents 🗺️</div>\n",
    "We can conclude that majority of exports are with neighbouring nations or nations within land reach ( transport methods not requiring Sea / Air methods ). A study by worldbank suggests 90% of the worlds cargo is being transported by ocean.  \n",
    "**.: Scale :.**  \n",
    "<span style=\"background-color: #87beda\">High t</span><span style=\"background-color: #f09b7a\">o Low</span>  \n",
    "🟦   >  🟥\n",
    "___"
   ]
  },
  {
   "cell_type": "code",
   "execution_count": 510,
   "id": "a2d37df2",
   "metadata": {
    "papermill": {
     "duration": 0.026077,
     "end_time": "2023-05-10T10:21:59.835573",
     "exception": false,
     "start_time": "2023-05-10T10:21:59.809496",
     "status": "completed"
    },
    "tags": []
   },
   "outputs": [],
   "source": [
    "import math\n",
    "millnames = ['',' K',' M',' B',' Tr']\n",
    "import circlify\n",
    "import matplotlib as plt\n",
    "def millify(n):\n",
    "    n = float(n)\n",
    "    millidx = max(0,min(len(millnames)-1,\n",
    "                        int(math.floor(0 if n == 0 else math.log10(abs(n))/3))))\n",
    "    return '{:.0f}{}'.format(n / 10**(3 * millidx), millnames[millidx])"
   ]
  },
  {
   "cell_type": "code",
   "execution_count": null,
   "id": "430344d1",
   "metadata": {
    "papermill": {
     "duration": 0.015259,
     "end_time": "2023-05-10T10:21:59.866413",
     "exception": false,
     "start_time": "2023-05-10T10:21:59.851154",
     "status": "completed"
    },
    "tags": []
   },
   "outputs": [],
   "source": []
  },
  {
   "cell_type": "markdown",
   "id": "26de13a9",
   "metadata": {
    "papermill": {
     "duration": 0.015382,
     "end_time": "2023-05-10T10:21:59.898495",
     "exception": false,
     "start_time": "2023-05-10T10:21:59.883113",
     "status": "completed"
    },
    "tags": []
   },
   "source": [
    "## My idea here is to separate pre 2014 and post 2014 trade an compare whether there is a difference in the proprtions of trade destinations"
   ]
  },
  {
   "cell_type": "code",
   "execution_count": 512,
   "id": "e9cefe77",
   "metadata": {
    "papermill": {
     "duration": 0.073204,
     "end_time": "2023-05-10T10:21:59.987254",
     "exception": false,
     "start_time": "2023-05-10T10:21:59.914050",
     "status": "completed"
    },
    "tags": []
   },
   "outputs": [],
   "source": [
    "cc = df1.copy()\n",
    "pre_2014 = [2008, 2009, 2010, 2011, 2012, 2013, 2014]\n",
    "post_2014 = [2014, 2015, 2016, 2017, 2018, 2019, 2020]\n",
    "p_2014 = [2014]\n",
    "p_2018 = [2018]\n",
    "cc_pre = cc[cc[\"Year\"].isin(pre_2014)]\n",
    "cc_post = cc[cc[\"Year\"].isin(post_2014)]\n",
    "cc_2014= cc[cc[\"Year\"].isin(p_2014)]\n",
    "cc_2018 = cc[cc[\"Year\"].isin(p_2018)]"
   ]
  },
  {
   "cell_type": "code",
   "execution_count": 513,
   "id": "1f2119e3",
   "metadata": {
    "papermill": {
     "duration": 0.022873,
     "end_time": "2023-05-10T10:22:00.025706",
     "exception": false,
     "start_time": "2023-05-10T10:22:00.002833",
     "status": "completed"
    },
    "tags": []
   },
   "outputs": [],
   "source": [
    "import matplotlib.pyplot as plt"
   ]
  },
  {
   "cell_type": "markdown",
   "id": "2f6f68e4",
   "metadata": {
    "papermill": {
     "duration": 0.015079,
     "end_time": "2023-05-10T10:22:00.056233",
     "exception": false,
     "start_time": "2023-05-10T10:22:00.041154",
     "status": "completed"
    },
    "tags": []
   },
   "source": [
    "## Pre- 2014 Imports"
   ]
  },
  {
   "cell_type": "code",
   "execution_count": 515,
   "id": "712758af",
   "metadata": {
    "jupyter": {
     "source_hidden": true
    },
    "papermill": {
     "duration": 1.008256,
     "end_time": "2023-05-10T10:22:01.080039",
     "exception": false,
     "start_time": "2023-05-10T10:22:00.071783",
     "status": "completed"
    },
    "tags": []
   },
   "outputs": [
    {
     "data": {
      "image/png": "[encoded data removed]",
      "text/plain": [
       "<Figure size 1400x1400 with 1 Axes>"
      ]
     },
     "metadata": {},
     "output_type": "display_data"
    }
   ],
   "source": [
    "fig, ax = plt.subplots(figsize=(14,14))\n",
    "ax.set_facecolor('#e9f1f5')\n",
    "cc_pre = cc_pre.groupby('Continent').agg({'Trade Value (US$)':'sum'}) ; cc_pre.reset_index(inplace=True)\n",
    "cc_pre = cc_pre[cc_pre['Trade Value (US$)'] >= 0]\n",
    "cc_pre.sort_values(by='Trade Value (US$)', inplace=True)\n",
    "\n",
    "labels = cc_pre['Continent']\n",
    "circles = circlify.circlify(\n",
    "    cc_pre['Trade Value (US$)'].tolist(), \n",
    "    show_enclosure=False, \n",
    "    target_enclosure=circlify.Circle(x=0, y=0, r=1))\n",
    "\n",
    "lim = max(\n",
    "    max(\n",
    "        abs(circle.x) + circle.r,\n",
    "        abs(circle.y) + circle.r,)\n",
    "    for circle in circles)\n",
    "plt.xlim(-lim-0.15, lim+0.15)\n",
    "plt.ylim(-lim-0.15, lim+0.15)\n",
    "ax.set(xticklabels=[],yticklabels=[])\n",
    "# print circles\n",
    "for circle, label, color, val in zip(circles, labels, circle_color,cc_pre['Trade Value (US$)']) :\n",
    "    x, y, r = circle\n",
    "    ax.add_patch(plt.Circle((x, y),  r,alpha=0.9, linewidth=1, facecolor=color, edgecolor='black',))\n",
    "    plt.annotate(label, (x,y ) ,va='center', ha='center',color='white', fontsize=12)# bbox=dict(facecolor='white', edgecolor='black', boxstyle='round', pad=.5))\n",
    "    plt.annotate(millify(val), (x,y-0.04 ) ,va='center', ha='center',color='white', fontsize=10)\n",
    "    plt.annotate('Minimum Imports', xy=(0.7,0.55), xytext=(0.85, 0.8),arrowprops=dict(arrowstyle=\"-[\", connectionstyle=\"angle3,angleA=90,angleB=0\"))\n",
    "    plt.annotate('Maximum Imports', xy=(0.55,-0.54), xytext=(0.75, -0.75),arrowprops=dict(arrowstyle=\"-[\",connectionstyle=\"angle3,angleA=180,angleB=90\"))\n",
    "    plt.annotate('Average Imports', xy=(-0.40,0.65), xytext=(-0.70, 0.85),arrowprops=dict(arrowstyle=\"-[\",connectionstyle=\"angle3,angleA=90,angleB=180\"))"
   ]
  },
  {
   "cell_type": "markdown",
   "id": "40c78779",
   "metadata": {
    "papermill": {
     "duration": 0.017121,
     "end_time": "2023-05-10T10:22:01.114902",
     "exception": false,
     "start_time": "2023-05-10T10:22:01.097781",
     "status": "completed"
    },
    "tags": []
   },
   "source": [
    "## Post 2014 Exports"
   ]
  },
  {
   "cell_type": "code",
   "execution_count": 517,
   "id": "12bc7b28",
   "metadata": {
    "jupyter": {
     "source_hidden": true
    },
    "papermill": {
     "duration": 0.961308,
     "end_time": "2023-05-10T10:22:02.093413",
     "exception": false,
     "start_time": "2023-05-10T10:22:01.132105",
     "status": "completed"
    },
    "tags": []
   },
   "outputs": [
    {
     "data": {
      "image/png": "[encoded data removed]",
      "text/plain": [
       "<Figure size 1400x1400 with 1 Axes>"
      ]
     },
     "metadata": {},
     "output_type": "display_data"
    }
   ],
   "source": [
    "fig, ax = plt.subplots(figsize=(14,14))\n",
    "ax.set_facecolor('#e9f1f5')\n",
    "cc_post = cc_post.groupby('Continent').agg({'Trade Value (US$)':'sum'}) ; cc_post.reset_index(inplace=True)\n",
    "cc_post = cc_post[cc_post['Trade Value (US$)'] >= 0]\n",
    "cc_post.sort_values(by='Trade Value (US$)', inplace=True)\n",
    "\n",
    "labels = cc_post['Continent']\n",
    "circles = circlify.circlify(\n",
    "    cc_post['Trade Value (US$)'].tolist(), \n",
    "    show_enclosure=False, \n",
    "    target_enclosure=circlify.Circle(x=0, y=0, r=1))\n",
    "\n",
    "lim = max(\n",
    "    max(\n",
    "        abs(circle.x) + circle.r,\n",
    "        abs(circle.y) + circle.r,)\n",
    "    for circle in circles)\n",
    "plt.xlim(-lim-0.15, lim+0.15)\n",
    "plt.ylim(-lim-0.15, lim+0.15)\n",
    "ax.set(xticklabels=[],yticklabels=[])\n",
    "# print circles\n",
    "for circle, label, color, val in zip(circles, labels, circle_color,cc_post['Trade Value (US$)']) :\n",
    "    x, y, r = circle\n",
    "    ax.add_patch(plt.Circle((x, y),  r,alpha=0.9, linewidth=1, facecolor=color, edgecolor='black',))\n",
    "    plt.annotate(label, (x,y ) ,va='center', ha='center',color='white', fontsize=12)# bbox=dict(facecolor='white', edgecolor='black', boxstyle='round', pad=.5))\n",
    "    plt.annotate(millify(val), (x,y-0.04 ) ,va='center', ha='center',color='white', fontsize=10)\n",
    "    plt.annotate('Minimum Imports', xy=(0.55,0.63), xytext=(0.8, 0.93),arrowprops=dict(arrowstyle=\"-[\", connectionstyle=\"angle3,angleA=90,angleB=0\"))\n",
    "    plt.annotate('Maximum Imports', xy=(0.55,-0.54), xytext=(0.75, -0.75),arrowprops=dict(arrowstyle=\"-[\",connectionstyle=\"angle3,angleA=180,angleB=90\"))\n",
    "    plt.annotate('Average Imports', xy=(-0.40,0.65), xytext=(-0.70, 0.85),arrowprops=dict(arrowstyle=\"-[\",connectionstyle=\"angle3,angleA=90,angleB=180\"))"
   ]
  },
  {
   "cell_type": "markdown",
   "id": "6eb1cf03",
   "metadata": {
    "papermill": {
     "duration": 0.01868,
     "end_time": "2023-05-10T10:22:02.131173",
     "exception": false,
     "start_time": "2023-05-10T10:22:02.112493",
     "status": "completed"
    },
    "tags": []
   },
   "source": []
  },
  {
   "cell_type": "code",
   "execution_count": 519,
   "id": "4ee32688",
   "metadata": {
    "papermill": {
     "duration": 0.073794,
     "end_time": "2023-05-10T10:22:02.224006",
     "exception": false,
     "start_time": "2023-05-10T10:22:02.150212",
     "status": "completed"
    },
    "tags": []
   },
   "outputs": [],
   "source": [
    "total = df1.copy()\n",
    "total = total.groupby(['Continent','Partner ISO']).agg({'Trade Value (US$)':'sum'}) ; total.reset_index(inplace=True)\n",
    "total = total.sort_values(by='Trade Value (US$)', ascending=False) ; total = total[total['Trade Value (US$)'] >= 0]\n",
    "top5 = total.head(6)\n",
    "top5 = top5['Partner ISO']"
   ]
  },
  {
   "cell_type": "markdown",
   "id": "f4f8fa95",
   "metadata": {
    "papermill": {
     "duration": 0.018402,
     "end_time": "2023-05-10T10:22:02.261510",
     "exception": false,
     "start_time": "2023-05-10T10:22:02.243108",
     "status": "completed"
    },
    "tags": []
   },
   "source": [
    "### <div style=\"font-family: Trebuchet MS; background-color: #87beda; color: #FFFFFF; padding: 12px; line-height: 1.5;\">III. Break down of Trade by Continent & Country 🌎</div>\n",
    "The following map showcases the overall export so far to each country, for every continent.  \n",
    "**.: Scale :.**  \n",
    "<span style=\"background-color: #87beda\">High t</span><span style=\"background-color: #f09b7a\">o Low</span>  \n",
    "🟦   >  🟥\n",
    "___"
   ]
  },
  {
   "cell_type": "code",
   "execution_count": 521,
   "id": "ffab9ec7",
   "metadata": {
    "papermill": {
     "duration": 0.33266,
     "end_time": "2023-05-10T10:22:02.612751",
     "exception": false,
     "start_time": "2023-05-10T10:22:02.280091",
     "status": "completed"
    },
    "tags": []
   },
   "outputs": [
    {
     "data": {
      "application/vnd.plotly.v1+json": {
       "config": {
        "plotlyServerURL": "https://plot.ly"
       },
       "data": [
        {
         "branchvalues": "total",
         "customdata": [
          [
           "ABW",
           78747
          ],
          [
           "AFG",
           912222
          ],
          [
           "AGO",
           925124
          ],
          [
           "AIA",
           97214
          ],
          [
           "ALB",
           918524
          ],
          [
           "AND",
           43638
          ],
          [
           "ANT",
           47683
          ],
          [
           "ARE",
           659789
          ],
          [
           "ARG",
           312296
          ],
          [
           "AUS",
           219422
          ],
          [
           "AUT",
           974767
          ],
          [
           "AZE",
           147985
          ],
          [
           "BDI",
           328756
          ],
          [
           "BEL",
           193410
          ],
          [
           "BFA",
           575221
          ],
          [
           "BGD",
           1237684
          ],
          [
           "BGR",
           800635
          ],
          [
           "BHS",
           4382
          ],
          [
           "BIH",
           124701
          ],
          [
           "BLZ",
           790386
          ],
          [
           "BMU",
           75221
          ],
          [
           "BOL",
           170619
          ],
          [
           "BRB",
           149264
          ],
          [
           "BRN",
           315133
          ],
          [
           "BTN",
           18042
          ],
          [
           "BWA",
           106262
          ],
          [
           "CAF",
           422877
          ],
          [
           "CAN",
           573110
          ],
          [
           "CHE",
           424665
          ],
          [
           "CHL",
           398816
          ],
          [
           "CHN",
           543417
          ],
          [
           "CIV",
           154509
          ],
          [
           "CMR",
           476531
          ],
          [
           "COG",
           915343
          ],
          [
           "COK",
           31638
          ],
          [
           "COL",
           255209
          ],
          [
           "COM",
           22459
          ],
          [
           "CPV",
           195979
          ],
          [
           "CRI",
           206895
          ],
          [
           "CUB",
           1508276
          ],
          [
           "CYM",
           41275
          ],
          [
           "CYP",
           840575
          ],
          [
           "DEU",
           84835
          ],
          [
           "DJI",
           211314
          ],
          [
           "DNK",
           635227
          ],
          [
           "DOM",
           928229
          ],
          [
           "DZA",
           1005746
          ],
          [
           "ECU",
           54254
          ],
          [
           "ERI",
           149877
          ],
          [
           "ESH",
           138440
          ],
          [
           "ESP",
           1084046
          ],
          [
           "EST",
           164978
          ],
          [
           "ETH",
           249563
          ],
          [
           "FJI",
           51722
          ],
          [
           "FRA",
           202120
          ],
          [
           "FRO",
           513769
          ],
          [
           "FSM",
           29955
          ],
          [
           "GAB",
           411484
          ],
          [
           "GEO",
           101814
          ],
          [
           "GHA",
           343507
          ],
          [
           "GIN",
           1455157
          ],
          [
           "GMB",
           102569
          ],
          [
           "GNQ",
           716828
          ],
          [
           "GRC",
           1276485
          ],
          [
           "GRL",
           48238
          ],
          [
           "GTM",
           579975
          ],
          [
           "GUM",
           24407
          ],
          [
           "GUY",
           303873
          ],
          [
           "HND",
           213110
          ],
          [
           "HRV",
           779969
          ],
          [
           "HTI",
           513203
          ],
          [
           "HUN",
           347592
          ],
          [
           "IDN",
           1498493
          ],
          [
           "IRL",
           1184843
          ],
          [
           "IRN",
           514910
          ],
          [
           "IRQ",
           310568
          ],
          [
           "ISL",
           1116882
          ],
          [
           "ISR",
           749063
          ],
          [
           "ITA",
           373387
          ],
          [
           "JAM",
           22408
          ],
          [
           "JOR",
           1139353
          ],
          [
           "KAZ",
           478687
          ],
          [
           "KEN",
           1527079
          ],
          [
           "KGZ",
           1372690
          ],
          [
           "KHM",
           939114
          ],
          [
           "KIR",
           660
          ],
          [
           "KNA",
           104159
          ],
          [
           "KOR",
           496200
          ],
          [
           "KWT",
           665135
          ],
          [
           "LAO",
           935532
          ],
          [
           "LBN",
           985270
          ],
          [
           "LBR",
           753849
          ],
          [
           "LBY",
           453106
          ],
          [
           "LCA",
           5362
          ],
          [
           "LKA",
           1259619
          ],
          [
           "LTU",
           150745
          ],
          [
           "LUX",
           1013609
          ],
          [
           "MAR",
           525581
          ],
          [
           "MDG",
           328265
          ],
          [
           "MDV",
           296340
          ],
          [
           "MEX",
           1236756
          ],
          [
           "MHL",
           221420
          ],
          [
           "MKD",
           1346692
          ],
          [
           "MLI",
           81663
          ],
          [
           "MLT",
           692485
          ],
          [
           "MMR",
           463389
          ],
          [
           "MNG",
           977978
          ],
          [
           "MNP",
           11940
          ],
          [
           "MOZ",
           542319
          ],
          [
           "MRT",
           578350
          ],
          [
           "MUS",
           232721
          ],
          [
           "MWI",
           160871
          ],
          [
           "MYS",
           1177911
          ],
          [
           "MYT",
           44359
          ],
          [
           "NCL",
           217940
          ],
          [
           "NER",
           123975
          ],
          [
           "NFK",
           21104
          ],
          [
           "NGA",
           708845
          ],
          [
           "NIC",
           741630
          ],
          [
           "NLD",
           843939
          ],
          [
           "NOR",
           345171
          ],
          [
           "NPL",
           259288
          ],
          [
           "NRU",
           39728
          ],
          [
           "NZL",
           1656687
          ],
          [
           "PAK",
           596432
          ],
          [
           "PAN",
           1180585
          ],
          [
           "PER",
           724607
          ],
          [
           "PHL",
           697995
          ],
          [
           "PNG",
           504546
          ],
          [
           "POL",
           774770
          ],
          [
           "PRK",
           2134517
          ],
          [
           "PRT",
           1059431
          ],
          [
           "PRY",
           272863
          ],
          [
           "PYF",
           42134
          ],
          [
           "QAT",
           872786
          ],
          [
           "RWA",
           602157
          ],
          [
           "SAU",
           493728
          ],
          [
           "SDN",
           1121290
          ],
          [
           "SEN",
           830997
          ],
          [
           "SGP",
           701747
          ],
          [
           "SLE",
           425380
          ],
          [
           "SLV",
           505820
          ],
          [
           "SMR",
           303333
          ],
          [
           "SOM",
           331853
          ],
          [
           "STP",
           56040
          ],
          [
           "SUR",
           187434
          ],
          [
           "SVK",
           923154
          ],
          [
           "SVN",
           766154
          ],
          [
           "SWE",
           353067
          ],
          [
           "SWZ",
           45683
          ],
          [
           "SYC",
           903878
          ],
          [
           "SYR",
           78578
          ],
          [
           "TCD",
           215579
          ],
          [
           "THA",
           690794
          ],
          [
           "TJK",
           857995
          ],
          [
           "TKM",
           415053
          ],
          [
           "TON",
           29271
          ],
          [
           "TTO",
           175892
          ],
          [
           "TUN",
           303138
          ],
          [
           "TUV",
           3349
          ],
          [
           "TZA",
           563718
          ],
          [
           "UGA",
           409176
          ],
          [
           "UKR",
           695425
          ],
          [
           "URY",
           456371
          ],
          [
           "UZB",
           759039
          ],
          [
           "VAT",
           64
          ],
          [
           "VCT",
           156021
          ],
          [
           "VEN",
           610513
          ],
          [
           "VGB",
           793231
          ],
          [
           "VNM",
           551888
          ],
          [
           "VUT",
           36329
          ],
          [
           "WSM",
           14846
          ],
          [
           "YEM",
           925297
          ],
          [
           "ZAF",
           1309316
          ],
          [
           "ZWE",
           226012
          ],
          [
           "(?)",
           772619.3615021657
          ],
          [
           "(?)",
           751476.7879482595
          ],
          [
           "(?)",
           971910.22974988
          ],
          [
           "(?)",
           866496.5969119725
          ],
          [
           "(?)",
           999452.1745368689
          ],
          [
           "(?)",
           863361.3072089319
          ]
         ],
         "domain": {
          "x": [
           0,
           1
          ],
          "y": [
           0,
           1
          ]
         },
         "hovertemplate": "labels=%{label}<br>Trade Value (US$)_sum=%{value}<br>parent=%{parent}<br>id=%{id}<br>Partner ISO=%{customdata[0]}<br>Trade Value (US$)=%{color}<extra></extra>",
         "ids": [
          "World/Americas/ABW",
          "World/Asia/AFG",
          "World/Africa/AGO",
          "World/Americas/AIA",
          "World/Europe/ALB",
          "World/Europe/AND",
          "World/Americas/ANT",
          "World/Asia/ARE",
          "World/Americas/ARG",
          "World/Oceania/AUS",
          "World/Europe/AUT",
          "World/Asia/AZE",
          "World/Africa/BDI",
          "World/Europe/BEL",
          "World/Africa/BFA",
          "World/Asia/BGD",
          "World/Europe/BGR",
          "World/Americas/BHS",
          "World/Europe/BIH",
          "World/Americas/BLZ",
          "World/Americas/BMU",
          "World/Americas/BOL",
          "World/Americas/BRB",
          "World/Asia/BRN",
          "World/Asia/BTN",
          "World/Africa/BWA",
          "World/Africa/CAF",
          "World/Americas/CAN",
          "World/Europe/CHE",
          "World/Americas/CHL",
          "World/Asia/CHN",
          "World/Africa/CIV",
          "World/Africa/CMR",
          "World/Africa/COG",
          "World/Oceania/COK",
          "World/Americas/COL",
          "World/Africa/COM",
          "World/Africa/CPV",
          "World/Americas/CRI",
          "World/Americas/CUB",
          "World/Americas/CYM",
          "World/Asia/CYP",
          "World/Europe/DEU",
          "World/Africa/DJI",
          "World/Europe/DNK",
          "World/Americas/DOM",
          "World/Africa/DZA",
          "World/Americas/ECU",
          "World/Africa/ERI",
          "World/Africa/ESH",
          "World/Europe/ESP",
          "World/Europe/EST",
          "World/Africa/ETH",
          "World/Oceania/FJI",
          "World/Europe/FRA",
          "World/Europe/FRO",
          "World/Oceania/FSM",
          "World/Africa/GAB",
          "World/Asia/GEO",
          "World/Africa/GHA",
          "World/Africa/GIN",
          "World/Africa/GMB",
          "World/Africa/GNQ",
          "World/Europe/GRC",
          "World/Americas/GRL",
          "World/Americas/GTM",
          "World/Oceania/GUM",
          "World/Americas/GUY",
          "World/Americas/HND",
          "World/Europe/HRV",
          "World/Americas/HTI",
          "World/Europe/HUN",
          "World/Asia/IDN",
          "World/Europe/IRL",
          "World/Asia/IRN",
          "World/Asia/IRQ",
          "World/Europe/ISL",
          "World/Asia/ISR",
          "World/Europe/ITA",
          "World/Americas/JAM",
          "World/Asia/JOR",
          "World/Asia/KAZ",
          "World/Africa/KEN",
          "World/Asia/KGZ",
          "World/Asia/KHM",
          "World/Oceania/KIR",
          "World/Americas/KNA",
          "World/Asia/KOR",
          "World/Asia/KWT",
          "World/Asia/LAO",
          "World/Asia/LBN",
          "World/Africa/LBR",
          "World/Africa/LBY",
          "World/Americas/LCA",
          "World/Asia/LKA",
          "World/Europe/LTU",
          "World/Europe/LUX",
          "World/Africa/MAR",
          "World/Africa/MDG",
          "World/Asia/MDV",
          "World/Americas/MEX",
          "World/Oceania/MHL",
          "World/Europe/MKD",
          "World/Africa/MLI",
          "World/Europe/MLT",
          "World/Asia/MMR",
          "World/Asia/MNG",
          "World/Oceania/MNP",
          "World/Africa/MOZ",
          "World/Africa/MRT",
          "World/Africa/MUS",
          "World/Africa/MWI",
          "World/Asia/MYS",
          "World/Africa/MYT",
          "World/Oceania/NCL",
          "World/Africa/NER",
          "World/Oceania/NFK",
          "World/Africa/NGA",
          "World/Americas/NIC",
          "World/Europe/NLD",
          "World/Europe/NOR",
          "World/Asia/NPL",
          "World/Oceania/NRU",
          "World/Oceania/NZL",
          "World/Asia/PAK",
          "World/Americas/PAN",
          "World/Americas/PER",
          "World/Asia/PHL",
          "World/Oceania/PNG",
          "World/Europe/POL",
          "World/Asia/PRK",
          "World/Europe/PRT",
          "World/Americas/PRY",
          "World/Oceania/PYF",
          "World/Asia/QAT",
          "World/Africa/RWA",
          "World/Asia/SAU",
          "World/Africa/SDN",
          "World/Africa/SEN",
          "World/Asia/SGP",
          "World/Africa/SLE",
          "World/Americas/SLV",
          "World/Europe/SMR",
          "World/Africa/SOM",
          "World/Africa/STP",
          "World/Americas/SUR",
          "World/Europe/SVK",
          "World/Europe/SVN",
          "World/Europe/SWE",
          "World/Africa/SWZ",
          "World/Africa/SYC",
          "World/Asia/SYR",
          "World/Africa/TCD",
          "World/Asia/THA",
          "World/Asia/TJK",
          "World/Asia/TKM",
          "World/Oceania/TON",
          "World/Americas/TTO",
          "World/Africa/TUN",
          "World/Oceania/TUV",
          "World/Africa/TZA",
          "World/Africa/UGA",
          "World/Europe/UKR",
          "World/Americas/URY",
          "World/Asia/UZB",
          "World/Europe/VAT",
          "World/Americas/VCT",
          "World/Americas/VEN",
          "World/Americas/VGB",
          "World/Asia/VNM",
          "World/Oceania/VUT",
          "World/Oceania/WSM",
          "World/Asia/YEM",
          "World/Africa/ZAF",
          "World/Africa/ZWE",
          "World/Africa",
          "World/Americas",
          "World/Asia",
          "World/Europe",
          "World/Oceania",
          "World"
         ],
         "labels": [
          "ABW",
          "AFG",
          "AGO",
          "AIA",
          "ALB",
          "AND",
          "ANT",
          "ARE",
          "ARG",
          "AUS",
          "AUT",
          "AZE",
          "BDI",
          "BEL",
          "BFA",
          "BGD",
          "BGR",
          "BHS",
          "BIH",
          "BLZ",
          "BMU",
          "BOL",
          "BRB",
          "BRN",
          "BTN",
          "BWA",
          "CAF",
          "CAN",
          "CHE",
          "CHL",
          "CHN",
          "CIV",
          "CMR",
          "COG",
          "COK",
          "COL",
          "COM",
          "CPV",
          "CRI",
          "CUB",
          "CYM",
          "CYP",
          "DEU",
          "DJI",
          "DNK",
          "DOM",
          "DZA",
          "ECU",
          "ERI",
          "ESH",
          "ESP",
          "EST",
          "ETH",
          "FJI",
          "FRA",
          "FRO",
          "FSM",
          "GAB",
          "GEO",
          "GHA",
          "GIN",
          "GMB",
          "GNQ",
          "GRC",
          "GRL",
          "GTM",
          "GUM",
          "GUY",
          "HND",
          "HRV",
          "HTI",
          "HUN",
          "IDN",
          "IRL",
          "IRN",
          "IRQ",
          "ISL",
          "ISR",
          "ITA",
          "JAM",
          "JOR",
          "KAZ",
          "KEN",
          "KGZ",
          "KHM",
          "KIR",
          "KNA",
          "KOR",
          "KWT",
          "LAO",
          "LBN",
          "LBR",
          "LBY",
          "LCA",
          "LKA",
          "LTU",
          "LUX",
          "MAR",
          "MDG",
          "MDV",
          "MEX",
          "MHL",
          "MKD",
          "MLI",
          "MLT",
          "MMR",
          "MNG",
          "MNP",
          "MOZ",
          "MRT",
          "MUS",
          "MWI",
          "MYS",
          "MYT",
          "NCL",
          "NER",
          "NFK",
          "NGA",
          "NIC",
          "NLD",
          "NOR",
          "NPL",
          "NRU",
          "NZL",
          "PAK",
          "PAN",
          "PER",
          "PHL",
          "PNG",
          "POL",
          "PRK",
          "PRT",
          "PRY",
          "PYF",
          "QAT",
          "RWA",
          "SAU",
          "SDN",
          "SEN",
          "SGP",
          "SLE",
          "SLV",
          "SMR",
          "SOM",
          "STP",
          "SUR",
          "SVK",
          "SVN",
          "SWE",
          "SWZ",
          "SYC",
          "SYR",
          "TCD",
          "THA",
          "TJK",
          "TKM",
          "TON",
          "TTO",
          "TUN",
          "TUV",
          "TZA",
          "UGA",
          "UKR",
          "URY",
          "UZB",
          "VAT",
          "VCT",
          "VEN",
          "VGB",
          "VNM",
          "VUT",
          "WSM",
          "YEM",
          "ZAF",
          "ZWE",
          "Africa",
          "Americas",
          "Asia",
          "Europe",
          "Oceania",
          "World"
         ],
         "marker": {
          "coloraxis": "coloraxis",
          "colors": [
           78747,
           912222,
           925124,
           97214,
           918524,
           43638,
           47683,
           659789,
           312296,
           219422,
           974767,
           147985,
           328756,
           193410,
           575221,
           1237684,
           800635,
           4382,
           124701,
           790386,
           75221,
           170619,
           149264,
           315133,
           18042,
           106262,
           422877,
           573110,
           424665,
           398816,
           543417,
           154509,
           476531,
           915343,
           31638,
           255209,
           22459,
           195979,
           206895,
           1508276,
           41275,
           840575,
           84835,
           211314,
           635227,
           928229,
           1005746,
           54254,
           149877,
           138440,
           1084046,
           164978,
           249563,
           51722,
           202120,
           513769,
           29955,
           411484,
           101814,
           343507,
           1455157,
           102569,
           716828,
           1276485,
           48238,
           579975,
           24407,
           303873,
           213110,
           779969,
           513203,
           347592,
           1498493,
           1184843,
           514910,
           310568,
           1116882,
           749063,
           373387,
           22408,
           1139353,
           478687,
           1527079,
           1372690,
           939114,
           660,
           104159,
           496200,
           665135,
           935532,
           985270,
           753849,
           453106,
           5362,
           1259619,
           150745,
           1013609,
           525581,
           328265,
           296340,
           1236756,
           221420,
           1346692,
           81663,
           692485,
           463389,
           977978,
           11940,
           542319,
           578350,
           232721,
           160871,
           1177911,
           44359,
           217940,
           123975,
           21104,
           708845,
           741630,
           843939,
           345171,
           259288,
           39728,
           1656687,
           596432,
           1180585,
           724607,
           697995,
           504546,
           774770,
           2134517,
           1059431,
           272863,
           42134,
           872786,
           602157,
           493728,
           1121290,
           830997,
           701747,
           425380,
           505820,
           303333,
           331853,
           56040,
           187434,
           923154,
           766154,
           353067,
           45683,
           903878,
           78578,
           215579,
           690794,
           857995,
           415053,
           29271,
           175892,
           303138,
           3349,
           563718,
           409176,
           695425,
           456371,
           759039,
           64,
           156021,
           610513,
           793231,
           551888,
           36329,
           14846,
           925297,
           1309316,
           226012,
           772619.3615021657,
           751476.7879482595,
           971910.22974988,
           866496.5969119725,
           999452.1745368689,
           863361.3072089319
          ]
         },
         "name": "",
         "parents": [
          "World/Americas",
          "World/Asia",
          "World/Africa",
          "World/Americas",
          "World/Europe",
          "World/Europe",
          "World/Americas",
          "World/Asia",
          "World/Americas",
          "World/Oceania",
          "World/Europe",
          "World/Asia",
          "World/Africa",
          "World/Europe",
          "World/Africa",
          "World/Asia",
          "World/Europe",
          "World/Americas",
          "World/Europe",
          "World/Americas",
          "World/Americas",
          "World/Americas",
          "World/Americas",
          "World/Asia",
          "World/Asia",
          "World/Africa",
          "World/Africa",
          "World/Americas",
          "World/Europe",
          "World/Americas",
          "World/Asia",
          "World/Africa",
          "World/Africa",
          "World/Africa",
          "World/Oceania",
          "World/Americas",
          "World/Africa",
          "World/Africa",
          "World/Americas",
          "World/Americas",
          "World/Americas",
          "World/Asia",
          "World/Europe",
          "World/Africa",
          "World/Europe",
          "World/Americas",
          "World/Africa",
          "World/Americas",
          "World/Africa",
          "World/Africa",
          "World/Europe",
          "World/Europe",
          "World/Africa",
          "World/Oceania",
          "World/Europe",
          "World/Europe",
          "World/Oceania",
          "World/Africa",
          "World/Asia",
          "World/Africa",
          "World/Africa",
          "World/Africa",
          "World/Africa",
          "World/Europe",
          "World/Americas",
          "World/Americas",
          "World/Oceania",
          "World/Americas",
          "World/Americas",
          "World/Europe",
          "World/Americas",
          "World/Europe",
          "World/Asia",
          "World/Europe",
          "World/Asia",
          "World/Asia",
          "World/Europe",
          "World/Asia",
          "World/Europe",
          "World/Americas",
          "World/Asia",
          "World/Asia",
          "World/Africa",
          "World/Asia",
          "World/Asia",
          "World/Oceania",
          "World/Americas",
          "World/Asia",
          "World/Asia",
          "World/Asia",
          "World/Asia",
          "World/Africa",
          "World/Africa",
          "World/Americas",
          "World/Asia",
          "World/Europe",
          "World/Europe",
          "World/Africa",
          "World/Africa",
          "World/Asia",
          "World/Americas",
          "World/Oceania",
          "World/Europe",
          "World/Africa",
          "World/Europe",
          "World/Asia",
          "World/Asia",
          "World/Oceania",
          "World/Africa",
          "World/Africa",
          "World/Africa",
          "World/Africa",
          "World/Asia",
          "World/Africa",
          "World/Oceania",
          "World/Africa",
          "World/Oceania",
          "World/Africa",
          "World/Americas",
          "World/Europe",
          "World/Europe",
          "World/Asia",
          "World/Oceania",
          "World/Oceania",
          "World/Asia",
          "World/Americas",
          "World/Americas",
          "World/Asia",
          "World/Oceania",
          "World/Europe",
          "World/Asia",
          "World/Europe",
          "World/Americas",
          "World/Oceania",
          "World/Asia",
          "World/Africa",
          "World/Asia",
          "World/Africa",
          "World/Africa",
          "World/Asia",
          "World/Africa",
          "World/Americas",
          "World/Europe",
          "World/Africa",
          "World/Africa",
          "World/Americas",
          "World/Europe",
          "World/Europe",
          "World/Europe",
          "World/Africa",
          "World/Africa",
          "World/Asia",
          "World/Africa",
          "World/Asia",
          "World/Asia",
          "World/Asia",
          "World/Oceania",
          "World/Americas",
          "World/Africa",
          "World/Oceania",
          "World/Africa",
          "World/Africa",
          "World/Europe",
          "World/Americas",
          "World/Asia",
          "World/Europe",
          "World/Americas",
          "World/Americas",
          "World/Americas",
          "World/Asia",
          "World/Oceania",
          "World/Oceania",
          "World/Asia",
          "World/Africa",
          "World/Africa",
          "World",
          "World",
          "World",
          "World",
          "World",
          ""
         ],
         "type": "treemap",
         "values": [
          78747,
          912222,
          925124,
          97214,
          918524,
          43638,
          47683,
          659789,
          312296,
          219422,
          974767,
          147985,
          328756,
          193410,
          575221,
          1237684,
          800635,
          4382,
          124701,
          790386,
          75221,
          170619,
          149264,
          315133,
          18042,
          106262,
          422877,
          573110,
          424665,
          398816,
          543417,
          154509,
          476531,
          915343,
          31638,
          255209,
          22459,
          195979,
          206895,
          1508276,
          41275,
          840575,
          84835,
          211314,
          635227,
          928229,
          1005746,
          54254,
          149877,
          138440,
          1084046,
          164978,
          249563,
          51722,
          202120,
          513769,
          29955,
          411484,
          101814,
          343507,
          1455157,
          102569,
          716828,
          1276485,
          48238,
          579975,
          24407,
          303873,
          213110,
          779969,
          513203,
          347592,
          1498493,
          1184843,
          514910,
          310568,
          1116882,
          749063,
          373387,
          22408,
          1139353,
          478687,
          1527079,
          1372690,
          939114,
          660,
          104159,
          496200,
          665135,
          935532,
          985270,
          753849,
          453106,
          5362,
          1259619,
          150745,
          1013609,
          525581,
          328265,
          296340,
          1236756,
          221420,
          1346692,
          81663,
          692485,
          463389,
          977978,
          11940,
          542319,
          578350,
          232721,
          160871,
          1177911,
          44359,
          217940,
          123975,
          21104,
          708845,
          741630,
          843939,
          345171,
          259288,
          39728,
          1656687,
          596432,
          1180585,
          724607,
          697995,
          504546,
          774770,
          2134517,
          1059431,
          272863,
          42134,
          872786,
          602157,
          493728,
          1121290,
          830997,
          701747,
          425380,
          505820,
          303333,
          331853,
          56040,
          187434,
          923154,
          766154,
          353067,
          45683,
          903878,
          78578,
          215579,
          690794,
          857995,
          415053,
          29271,
          175892,
          303138,
          3349,
          563718,
          409176,
          695425,
          456371,
          759039,
          64,
          156021,
          610513,
          793231,
          551888,
          36329,
          14846,
          925297,
          1309316,
          226012,
          22312746,
          14523927,
          29072050,
          20512512,
          3157098,
          89578333
         ]
        }
       ],
       "layout": {
        "autosize": true,
        "coloraxis": {
         "cmid": 938755.8,
         "colorbar": {
          "title": {
           "text": "Trade Value (US$)"
          }
         },
         "colorscale": [
          [
           0,
           "rgb(103,0,31)"
          ],
          [
           0.1,
           "rgb(178,24,43)"
          ],
          [
           0.2,
           "rgb(214,96,77)"
          ],
          [
           0.3,
           "rgb(244,165,130)"
          ],
          [
           0.4,
           "rgb(253,219,199)"
          ],
          [
           0.5,
           "rgb(247,247,247)"
          ],
          [
           0.6,
           "rgb(209,229,240)"
          ],
          [
           0.7,
           "rgb(146,197,222)"
          ],
          [
           0.8,
           "rgb(67,147,195)"
          ],
          [
           0.9,
           "rgb(33,102,172)"
          ],
          [
           1,
           "rgb(5,48,97)"
          ]
         ]
        },
        "font": {
         "family": "verdana",
         "size": 12
        },
        "legend": {
         "tracegroupgap": 0
        },
        "margin": {
         "b": 25,
         "l": 25,
         "r": 25,
         "t": 50
        },
        "paper_bgcolor": "#e9f1f5",
        "plot_bgcolor": "#e9f1f5",
        "template": {
         "data": {
          "bar": [
           {
            "error_x": {
             "color": "#2a3f5f"
            },
            "error_y": {
             "color": "#2a3f5f"
            },
            "marker": {
             "line": {
              "color": "white",
              "width": 0.5
             },
             "pattern": {
              "fillmode": "overlay",
              "size": 10,
              "solidity": 0.2
             }
            },
            "type": "bar"
           }
          ],
          "barpolar": [
           {
            "marker": {
             "line": {
              "color": "white",
              "width": 0.5
             },
             "pattern": {
              "fillmode": "overlay",
              "size": 10,
              "solidity": 0.2
             }
            },
            "type": "barpolar"
           }
          ],
          "carpet": [
           {
            "aaxis": {
             "endlinecolor": "#2a3f5f",
             "gridcolor": "#C8D4E3",
             "linecolor": "#C8D4E3",
             "minorgridcolor": "#C8D4E3",
             "startlinecolor": "#2a3f5f"
            },
            "baxis": {
             "endlinecolor": "#2a3f5f",
             "gridcolor": "#C8D4E3",
             "linecolor": "#C8D4E3",
             "minorgridcolor": "#C8D4E3",
             "startlinecolor": "#2a3f5f"
            },
            "type": "carpet"
           }
          ],
          "choropleth": [
           {
            "colorbar": {
             "outlinewidth": 0,
             "ticks": ""
            },
            "type": "choropleth"
           }
          ],
          "contour": [
           {
            "colorbar": {
             "outlinewidth": 0,
             "ticks": ""
            },
            "colorscale": [
             [
              0,
              "#0d0887"
             ],
             [
              0.1111111111111111,
              "#46039f"
             ],
             [
              0.2222222222222222,
              "#7201a8"
             ],
             [
              0.3333333333333333,
              "#9c179e"
             ],
             [
              0.4444444444444444,
              "#bd3786"
             ],
             [
              0.5555555555555556,
              "#d8576b"
             ],
             [
              0.6666666666666666,
              "#ed7953"
             ],
             [
              0.7777777777777778,
              "#fb9f3a"
             ],
             [
              0.8888888888888888,
              "#fdca26"
             ],
             [
              1,
              "#f0f921"
             ]
            ],
            "type": "contour"
           }
          ],
          "contourcarpet": [
           {
            "colorbar": {
             "outlinewidth": 0,
             "ticks": ""
            },
            "type": "contourcarpet"
           }
          ],
          "heatmap": [
           {
            "colorbar": {
             "outlinewidth": 0,
             "ticks": ""
            },
            "colorscale": [
             [
              0,
              "#0d0887"
             ],
             [
              0.1111111111111111,
              "#46039f"
             ],
             [
              0.2222222222222222,
              "#7201a8"
             ],
             [
              0.3333333333333333,
              "#9c179e"
             ],
             [
              0.4444444444444444,
              "#bd3786"
             ],
             [
              0.5555555555555556,
              "#d8576b"
             ],
             [
              0.6666666666666666,
              "#ed7953"
             ],
             [
              0.7777777777777778,
              "#fb9f3a"
             ],
             [
              0.8888888888888888,
              "#fdca26"
             ],
             [
              1,
              "#f0f921"
             ]
            ],
            "type": "heatmap"
           }
          ],
          "heatmapgl": [
           {
            "colorbar": {
             "outlinewidth": 0,
             "ticks": ""
            },
            "colorscale": [
             [
              0,
              "#0d0887"
             ],
             [
              0.1111111111111111,
              "#46039f"
             ],
             [
              0.2222222222222222,
              "#7201a8"
             ],
             [
              0.3333333333333333,
              "#9c179e"
             ],
             [
              0.4444444444444444,
              "#bd3786"
             ],
             [
              0.5555555555555556,
              "#d8576b"
             ],
             [
              0.6666666666666666,
              "#ed7953"
             ],
             [
              0.7777777777777778,
              "#fb9f3a"
             ],
             [
              0.8888888888888888,
              "#fdca26"
             ],
             [
              1,
              "#f0f921"
             ]
            ],
            "type": "heatmapgl"
           }
          ],
          "histogram": [
           {
            "marker": {
             "pattern": {
              "fillmode": "overlay",
              "size": 10,
              "solidity": 0.2
             }
            },
            "type": "histogram"
           }
          ],
          "histogram2d": [
           {
            "colorbar": {
             "outlinewidth": 0,
             "ticks": ""
            },
            "colorscale": [
             [
              0,
              "#0d0887"
             ],
             [
              0.1111111111111111,
              "#46039f"
             ],
             [
              0.2222222222222222,
              "#7201a8"
             ],
             [
              0.3333333333333333,
              "#9c179e"
             ],
             [
              0.4444444444444444,
              "#bd3786"
             ],
             [
              0.5555555555555556,
              "#d8576b"
             ],
             [
              0.6666666666666666,
              "#ed7953"
             ],
             [
              0.7777777777777778,
              "#fb9f3a"
             ],
             [
              0.8888888888888888,
              "#fdca26"
             ],
             [
              1,
              "#f0f921"
             ]
            ],
            "type": "histogram2d"
           }
          ],
          "histogram2dcontour": [
           {
            "colorbar": {
             "outlinewidth": 0,
             "ticks": ""
            },
            "colorscale": [
             [
              0,
              "#0d0887"
             ],
             [
              0.1111111111111111,
              "#46039f"
             ],
             [
              0.2222222222222222,
              "#7201a8"
             ],
             [
              0.3333333333333333,
              "#9c179e"
             ],
             [
              0.4444444444444444,
              "#bd3786"
             ],
             [
              0.5555555555555556,
              "#d8576b"
             ],
             [
              0.6666666666666666,
              "#ed7953"
             ],
             [
              0.7777777777777778,
              "#fb9f3a"
             ],
             [
              0.8888888888888888,
              "#fdca26"
             ],
             [
              1,
              "#f0f921"
             ]
            ],
            "type": "histogram2dcontour"
           }
          ],
          "mesh3d": [
           {
            "colorbar": {
             "outlinewidth": 0,
             "ticks": ""
            },
            "type": "mesh3d"
           }
          ],
          "parcoords": [
           {
            "line": {
             "colorbar": {
              "outlinewidth": 0,
              "ticks": ""
             }
            },
            "type": "parcoords"
           }
          ],
          "pie": [
           {
            "automargin": true,
            "type": "pie"
           }
          ],
          "scatter": [
           {
            "fillpattern": {
             "fillmode": "overlay",
             "size": 10,
             "solidity": 0.2
            },
            "type": "scatter"
           }
          ],
          "scatter3d": [
           {
            "line": {
             "colorbar": {
              "outlinewidth": 0,
              "ticks": ""
             }
            },
            "marker": {
             "colorbar": {
              "outlinewidth": 0,
              "ticks": ""
             }
            },
            "type": "scatter3d"
           }
          ],
          "scattercarpet": [
           {
            "marker": {
             "colorbar": {
              "outlinewidth": 0,
              "ticks": ""
             }
            },
            "type": "scattercarpet"
           }
          ],
          "scattergeo": [
           {
            "marker": {
             "colorbar": {
              "outlinewidth": 0,
              "ticks": ""
             }
            },
            "type": "scattergeo"
           }
          ],
          "scattergl": [
           {
            "marker": {
             "colorbar": {
              "outlinewidth": 0,
              "ticks": ""
             }
            },
            "type": "scattergl"
           }
          ],
          "scattermapbox": [
           {
            "marker": {
             "colorbar": {
              "outlinewidth": 0,
              "ticks": ""
             }
            },
            "type": "scattermapbox"
           }
          ],
          "scatterpolar": [
           {
            "marker": {
             "colorbar": {
              "outlinewidth": 0,
              "ticks": ""
             }
            },
            "type": "scatterpolar"
           }
          ],
          "scatterpolargl": [
           {
            "marker": {
             "colorbar": {
              "outlinewidth": 0,
              "ticks": ""
             }
            },
            "type": "scatterpolargl"
           }
          ],
          "scatterternary": [
           {
            "marker": {
             "colorbar": {
              "outlinewidth": 0,
              "ticks": ""
             }
            },
            "type": "scatterternary"
           }
          ],
          "surface": [
           {
            "colorbar": {
             "outlinewidth": 0,
             "ticks": ""
            },
            "colorscale": [
             [
              0,
              "#0d0887"
             ],
             [
              0.1111111111111111,
              "#46039f"
             ],
             [
              0.2222222222222222,
              "#7201a8"
             ],
             [
              0.3333333333333333,
              "#9c179e"
             ],
             [
              0.4444444444444444,
              "#bd3786"
             ],
             [
              0.5555555555555556,
              "#d8576b"
             ],
             [
              0.6666666666666666,
              "#ed7953"
             ],
             [
              0.7777777777777778,
              "#fb9f3a"
             ],
             [
              0.8888888888888888,
              "#fdca26"
             ],
             [
              1,
              "#f0f921"
             ]
            ],
            "type": "surface"
           }
          ],
          "table": [
           {
            "cells": {
             "fill": {
              "color": "#EBF0F8"
             },
             "line": {
              "color": "white"
             }
            },
            "header": {
             "fill": {
              "color": "#C8D4E3"
             },
             "line": {
              "color": "white"
             }
            },
            "type": "table"
           }
          ]
         },
         "layout": {
          "annotationdefaults": {
           "arrowcolor": "#2a3f5f",
           "arrowhead": 0,
           "arrowwidth": 1
          },
          "autotypenumbers": "strict",
          "coloraxis": {
           "colorbar": {
            "outlinewidth": 0,
            "ticks": ""
           }
          },
          "colorscale": {
           "diverging": [
            [
             0,
             "#8e0152"
            ],
            [
             0.1,
             "#c51b7d"
            ],
            [
             0.2,
             "#de77ae"
            ],
            [
             0.3,
             "#f1b6da"
            ],
            [
             0.4,
             "#fde0ef"
            ],
            [
             0.5,
             "#f7f7f7"
            ],
            [
             0.6,
             "#e6f5d0"
            ],
            [
             0.7,
             "#b8e186"
            ],
            [
             0.8,
             "#7fbc41"
            ],
            [
             0.9,
             "#4d9221"
            ],
            [
             1,
             "#276419"
            ]
           ],
           "sequential": [
            [
             0,
             "#0d0887"
            ],
            [
             0.1111111111111111,
             "#46039f"
            ],
            [
             0.2222222222222222,
             "#7201a8"
            ],
            [
             0.3333333333333333,
             "#9c179e"
            ],
            [
             0.4444444444444444,
             "#bd3786"
            ],
            [
             0.5555555555555556,
             "#d8576b"
            ],
            [
             0.6666666666666666,
             "#ed7953"
            ],
            [
             0.7777777777777778,
             "#fb9f3a"
            ],
            [
             0.8888888888888888,
             "#fdca26"
            ],
            [
             1,
             "#f0f921"
            ]
           ],
           "sequentialminus": [
            [
             0,
             "#0d0887"
            ],
            [
             0.1111111111111111,
             "#46039f"
            ],
            [
             0.2222222222222222,
             "#7201a8"
            ],
            [
             0.3333333333333333,
             "#9c179e"
            ],
            [
             0.4444444444444444,
             "#bd3786"
            ],
            [
             0.5555555555555556,
             "#d8576b"
            ],
            [
             0.6666666666666666,
             "#ed7953"
            ],
            [
             0.7777777777777778,
             "#fb9f3a"
            ],
            [
             0.8888888888888888,
             "#fdca26"
            ],
            [
             1,
             "#f0f921"
            ]
           ]
          },
          "colorway": [
           "#636efa",
           "#EF553B",
           "#00cc96",
           "#ab63fa",
           "#FFA15A",
           "#19d3f3",
           "#FF6692",
           "#B6E880",
           "#FF97FF",
           "#FECB52"
          ],
          "font": {
           "color": "#2a3f5f"
          },
          "geo": {
           "bgcolor": "white",
           "lakecolor": "white",
           "landcolor": "white",
           "showlakes": true,
           "showland": true,
           "subunitcolor": "#C8D4E3"
          },
          "hoverlabel": {
           "align": "left"
          },
          "hovermode": "closest",
          "mapbox": {
           "style": "light"
          },
          "paper_bgcolor": "white",
          "plot_bgcolor": "white",
          "polar": {
           "angularaxis": {
            "gridcolor": "#EBF0F8",
            "linecolor": "#EBF0F8",
            "ticks": ""
           },
           "bgcolor": "white",
           "radialaxis": {
            "gridcolor": "#EBF0F8",
            "linecolor": "#EBF0F8",
            "ticks": ""
           }
          },
          "scene": {
           "xaxis": {
            "backgroundcolor": "white",
            "gridcolor": "#DFE8F3",
            "gridwidth": 2,
            "linecolor": "#EBF0F8",
            "showbackground": true,
            "ticks": "",
            "zerolinecolor": "#EBF0F8"
           },
           "yaxis": {
            "backgroundcolor": "white",
            "gridcolor": "#DFE8F3",
            "gridwidth": 2,
            "linecolor": "#EBF0F8",
            "showbackground": true,
            "ticks": "",
            "zerolinecolor": "#EBF0F8"
           },
           "zaxis": {
            "backgroundcolor": "white",
            "gridcolor": "#DFE8F3",
            "gridwidth": 2,
            "linecolor": "#EBF0F8",
            "showbackground": true,
            "ticks": "",
            "zerolinecolor": "#EBF0F8"
           }
          },
          "shapedefaults": {
           "line": {
            "color": "#2a3f5f"
           }
          },
          "ternary": {
           "aaxis": {
            "gridcolor": "#DFE8F3",
            "linecolor": "#A2B1C6",
            "ticks": ""
           },
           "baxis": {
            "gridcolor": "#DFE8F3",
            "linecolor": "#A2B1C6",
            "ticks": ""
           },
           "bgcolor": "white",
           "caxis": {
            "gridcolor": "#DFE8F3",
            "linecolor": "#A2B1C6",
            "ticks": ""
           }
          },
          "title": {
           "x": 0.05
          },
          "xaxis": {
           "automargin": true,
           "gridcolor": "#EBF0F8",
           "linecolor": "#EBF0F8",
           "ticks": "",
           "title": {
            "standoff": 15
           },
           "zerolinecolor": "#EBF0F8",
           "zerolinewidth": 2
          },
          "yaxis": {
           "automargin": true,
           "gridcolor": "#EBF0F8",
           "linecolor": "#EBF0F8",
           "ticks": "",
           "title": {
            "standoff": 15
           },
           "zerolinecolor": "#EBF0F8",
           "zerolinewidth": 2
          }
         }
        },
        "title": {
         "text": "<b>Top importers of Russian goods</b> <br><sup><i>Hover over blocks for more detail</i></sup>"
        }
       }
      },
      "image/png": "[encoded data removed]",
      "text/html": [
       "<div>                            <div id=\"126bc4c1-406a-4bbe-bc10-cd5e9bac1085\" class=\"plotly-graph-div\" style=\"height:525px; width:100%;\"></div>            <script type=\"text/javascript\">                require([\"plotly\"], function(Plotly) {                    window.PLOTLYENV=window.PLOTLYENV || {};                                    if (document.getElementById(\"126bc4c1-406a-4bbe-bc10-cd5e9bac1085\")) {                    Plotly.newPlot(                        \"126bc4c1-406a-4bbe-bc10-cd5e9bac1085\",                        [{\"branchvalues\":\"total\",\"customdata\":[[\"ABW\",78747.0],[\"AFG\",912222.0],[\"AGO\",925124.0],[\"AIA\",97214.0],[\"ALB\",918524.0],[\"AND\",43638.0],[\"ANT\",47683.0],[\"ARE\",659789.0],[\"ARG\",312296.0],[\"AUS\",219422.0],[\"AUT\",974767.0],[\"AZE\",147985.0],[\"BDI\",328756.0],[\"BEL\",193410.0],[\"BFA\",575221.0],[\"BGD\",1237684.0],[\"BGR\",800635.0],[\"BHS\",4382.0],[\"BIH\",124701.0],[\"BLZ\",790386.0],[\"BMU\",75221.0],[\"BOL\",170619.0],[\"BRB\",149264.0],[\"BRN\",315133.0],[\"BTN\",18042.0],[\"BWA\",106262.0],[\"CAF\",422877.0],[\"CAN\",573110.0],[\"CHE\",424665.0],[\"CHL\",398816.0],[\"CHN\",543417.0],[\"CIV\",154509.0],[\"CMR\",476531.0],[\"COG\",915343.0],[\"COK\",31638.0],[\"COL\",255209.0],[\"COM\",22459.0],[\"CPV\",195979.0],[\"CRI\",206895.0],[\"CUB\",1508276.0],[\"CYM\",41275.0],[\"CYP\",840575.0],[\"DEU\",84835.0],[\"DJI\",211314.0],[\"DNK\",635227.0],[\"DOM\",928229.0],[\"DZA\",1005746.0],[\"ECU\",54254.0],[\"ERI\",149877.0],[\"ESH\",138440.0],[\"ESP\",1084046.0],[\"EST\",164978.0],[\"ETH\",249563.0],[\"FJI\",51722.0],[\"FRA\",202120.0],[\"FRO\",513769.0],[\"FSM\",29955.0],[\"GAB\",411484.0],[\"GEO\",101814.0],[\"GHA\",343507.0],[\"GIN\",1455157.0],[\"GMB\",102569.0],[\"GNQ\",716828.0],[\"GRC\",1276485.0],[\"GRL\",48238.0],[\"GTM\",579975.0],[\"GUM\",24407.0],[\"GUY\",303873.0],[\"HND\",213110.0],[\"HRV\",779969.0],[\"HTI\",513203.0],[\"HUN\",347592.0],[\"IDN\",1498493.0],[\"IRL\",1184843.0],[\"IRN\",514910.0],[\"IRQ\",310568.0],[\"ISL\",1116882.0],[\"ISR\",749063.0],[\"ITA\",373387.0],[\"JAM\",22408.0],[\"JOR\",1139353.0],[\"KAZ\",478687.0],[\"KEN\",1527079.0],[\"KGZ\",1372690.0],[\"KHM\",939114.0],[\"KIR\",660.0],[\"KNA\",104159.0],[\"KOR\",496200.0],[\"KWT\",665135.0],[\"LAO\",935532.0],[\"LBN\",985270.0],[\"LBR\",753849.0],[\"LBY\",453106.0],[\"LCA\",5362.0],[\"LKA\",1259619.0],[\"LTU\",150745.0],[\"LUX\",1013609.0],[\"MAR\",525581.0],[\"MDG\",328265.0],[\"MDV\",296340.0],[\"MEX\",1236756.0],[\"MHL\",221420.0],[\"MKD\",1346692.0],[\"MLI\",81663.0],[\"MLT\",692485.0],[\"MMR\",463389.0],[\"MNG\",977978.0],[\"MNP\",11940.0],[\"MOZ\",542319.0],[\"MRT\",578350.0],[\"MUS\",232721.0],[\"MWI\",160871.0],[\"MYS\",1177911.0],[\"MYT\",44359.0],[\"NCL\",217940.0],[\"NER\",123975.0],[\"NFK\",21104.0],[\"NGA\",708845.0],[\"NIC\",741630.0],[\"NLD\",843939.0],[\"NOR\",345171.0],[\"NPL\",259288.0],[\"NRU\",39728.0],[\"NZL\",1656687.0],[\"PAK\",596432.0],[\"PAN\",1180585.0],[\"PER\",724607.0],[\"PHL\",697995.0],[\"PNG\",504546.0],[\"POL\",774770.0],[\"PRK\",2134517.0],[\"PRT\",1059431.0],[\"PRY\",272863.0],[\"PYF\",42134.0],[\"QAT\",872786.0],[\"RWA\",602157.0],[\"SAU\",493728.0],[\"SDN\",1121290.0],[\"SEN\",830997.0],[\"SGP\",701747.0],[\"SLE\",425380.0],[\"SLV\",505820.0],[\"SMR\",303333.0],[\"SOM\",331853.0],[\"STP\",56040.0],[\"SUR\",187434.0],[\"SVK\",923154.0],[\"SVN\",766154.0],[\"SWE\",353067.0],[\"SWZ\",45683.0],[\"SYC\",903878.0],[\"SYR\",78578.0],[\"TCD\",215579.0],[\"THA\",690794.0],[\"TJK\",857995.0],[\"TKM\",415053.0],[\"TON\",29271.0],[\"TTO\",175892.0],[\"TUN\",303138.0],[\"TUV\",3349.0],[\"TZA\",563718.0],[\"UGA\",409176.0],[\"UKR\",695425.0],[\"URY\",456371.0],[\"UZB\",759039.0],[\"VAT\",64.0],[\"VCT\",156021.0],[\"VEN\",610513.0],[\"VGB\",793231.0],[\"VNM\",551888.0],[\"VUT\",36329.0],[\"WSM\",14846.0],[\"YEM\",925297.0],[\"ZAF\",1309316.0],[\"ZWE\",226012.0],[\"(?)\",772619.3615021657],[\"(?)\",751476.7879482595],[\"(?)\",971910.22974988],[\"(?)\",866496.5969119725],[\"(?)\",999452.1745368689],[\"(?)\",863361.3072089319]],\"domain\":{\"x\":[0.0,1.0],\"y\":[0.0,1.0]},\"hovertemplate\":\"labels=%{label}<br>Trade Value (US$)_sum=%{value}<br>parent=%{parent}<br>id=%{id}<br>Partner ISO=%{customdata[0]}<br>Trade Value (US$)=%{color}<extra></extra>\",\"ids\":[\"World/Americas/ABW\",\"World/Asia/AFG\",\"World/Africa/AGO\",\"World/Americas/AIA\",\"World/Europe/ALB\",\"World/Europe/AND\",\"World/Americas/ANT\",\"World/Asia/ARE\",\"World/Americas/ARG\",\"World/Oceania/AUS\",\"World/Europe/AUT\",\"World/Asia/AZE\",\"World/Africa/BDI\",\"World/Europe/BEL\",\"World/Africa/BFA\",\"World/Asia/BGD\",\"World/Europe/BGR\",\"World/Americas/BHS\",\"World/Europe/BIH\",\"World/Americas/BLZ\",\"World/Americas/BMU\",\"World/Americas/BOL\",\"World/Americas/BRB\",\"World/Asia/BRN\",\"World/Asia/BTN\",\"World/Africa/BWA\",\"World/Africa/CAF\",\"World/Americas/CAN\",\"World/Europe/CHE\",\"World/Americas/CHL\",\"World/Asia/CHN\",\"World/Africa/CIV\",\"World/Africa/CMR\",\"World/Africa/COG\",\"World/Oceania/COK\",\"World/Americas/COL\",\"World/Africa/COM\",\"World/Africa/CPV\",\"World/Americas/CRI\",\"World/Americas/CUB\",\"World/Americas/CYM\",\"World/Asia/CYP\",\"World/Europe/DEU\",\"World/Africa/DJI\",\"World/Europe/DNK\",\"World/Americas/DOM\",\"World/Africa/DZA\",\"World/Americas/ECU\",\"World/Africa/ERI\",\"World/Africa/ESH\",\"World/Europe/ESP\",\"World/Europe/EST\",\"World/Africa/ETH\",\"World/Oceania/FJI\",\"World/Europe/FRA\",\"World/Europe/FRO\",\"World/Oceania/FSM\",\"World/Africa/GAB\",\"World/Asia/GEO\",\"World/Africa/GHA\",\"World/Africa/GIN\",\"World/Africa/GMB\",\"World/Africa/GNQ\",\"World/Europe/GRC\",\"World/Americas/GRL\",\"World/Americas/GTM\",\"World/Oceania/GUM\",\"World/Americas/GUY\",\"World/Americas/HND\",\"World/Europe/HRV\",\"World/Americas/HTI\",\"World/Europe/HUN\",\"World/Asia/IDN\",\"World/Europe/IRL\",\"World/Asia/IRN\",\"World/Asia/IRQ\",\"World/Europe/ISL\",\"World/Asia/ISR\",\"World/Europe/ITA\",\"World/Americas/JAM\",\"World/Asia/JOR\",\"World/Asia/KAZ\",\"World/Africa/KEN\",\"World/Asia/KGZ\",\"World/Asia/KHM\",\"World/Oceania/KIR\",\"World/Americas/KNA\",\"World/Asia/KOR\",\"World/Asia/KWT\",\"World/Asia/LAO\",\"World/Asia/LBN\",\"World/Africa/LBR\",\"World/Africa/LBY\",\"World/Americas/LCA\",\"World/Asia/LKA\",\"World/Europe/LTU\",\"World/Europe/LUX\",\"World/Africa/MAR\",\"World/Africa/MDG\",\"World/Asia/MDV\",\"World/Americas/MEX\",\"World/Oceania/MHL\",\"World/Europe/MKD\",\"World/Africa/MLI\",\"World/Europe/MLT\",\"World/Asia/MMR\",\"World/Asia/MNG\",\"World/Oceania/MNP\",\"World/Africa/MOZ\",\"World/Africa/MRT\",\"World/Africa/MUS\",\"World/Africa/MWI\",\"World/Asia/MYS\",\"World/Africa/MYT\",\"World/Oceania/NCL\",\"World/Africa/NER\",\"World/Oceania/NFK\",\"World/Africa/NGA\",\"World/Americas/NIC\",\"World/Europe/NLD\",\"World/Europe/NOR\",\"World/Asia/NPL\",\"World/Oceania/NRU\",\"World/Oceania/NZL\",\"World/Asia/PAK\",\"World/Americas/PAN\",\"World/Americas/PER\",\"World/Asia/PHL\",\"World/Oceania/PNG\",\"World/Europe/POL\",\"World/Asia/PRK\",\"World/Europe/PRT\",\"World/Americas/PRY\",\"World/Oceania/PYF\",\"World/Asia/QAT\",\"World/Africa/RWA\",\"World/Asia/SAU\",\"World/Africa/SDN\",\"World/Africa/SEN\",\"World/Asia/SGP\",\"World/Africa/SLE\",\"World/Americas/SLV\",\"World/Europe/SMR\",\"World/Africa/SOM\",\"World/Africa/STP\",\"World/Americas/SUR\",\"World/Europe/SVK\",\"World/Europe/SVN\",\"World/Europe/SWE\",\"World/Africa/SWZ\",\"World/Africa/SYC\",\"World/Asia/SYR\",\"World/Africa/TCD\",\"World/Asia/THA\",\"World/Asia/TJK\",\"World/Asia/TKM\",\"World/Oceania/TON\",\"World/Americas/TTO\",\"World/Africa/TUN\",\"World/Oceania/TUV\",\"World/Africa/TZA\",\"World/Africa/UGA\",\"World/Europe/UKR\",\"World/Americas/URY\",\"World/Asia/UZB\",\"World/Europe/VAT\",\"World/Americas/VCT\",\"World/Americas/VEN\",\"World/Americas/VGB\",\"World/Asia/VNM\",\"World/Oceania/VUT\",\"World/Oceania/WSM\",\"World/Asia/YEM\",\"World/Africa/ZAF\",\"World/Africa/ZWE\",\"World/Africa\",\"World/Americas\",\"World/Asia\",\"World/Europe\",\"World/Oceania\",\"World\"],\"labels\":[\"ABW\",\"AFG\",\"AGO\",\"AIA\",\"ALB\",\"AND\",\"ANT\",\"ARE\",\"ARG\",\"AUS\",\"AUT\",\"AZE\",\"BDI\",\"BEL\",\"BFA\",\"BGD\",\"BGR\",\"BHS\",\"BIH\",\"BLZ\",\"BMU\",\"BOL\",\"BRB\",\"BRN\",\"BTN\",\"BWA\",\"CAF\",\"CAN\",\"CHE\",\"CHL\",\"CHN\",\"CIV\",\"CMR\",\"COG\",\"COK\",\"COL\",\"COM\",\"CPV\",\"CRI\",\"CUB\",\"CYM\",\"CYP\",\"DEU\",\"DJI\",\"DNK\",\"DOM\",\"DZA\",\"ECU\",\"ERI\",\"ESH\",\"ESP\",\"EST\",\"ETH\",\"FJI\",\"FRA\",\"FRO\",\"FSM\",\"GAB\",\"GEO\",\"GHA\",\"GIN\",\"GMB\",\"GNQ\",\"GRC\",\"GRL\",\"GTM\",\"GUM\",\"GUY\",\"HND\",\"HRV\",\"HTI\",\"HUN\",\"IDN\",\"IRL\",\"IRN\",\"IRQ\",\"ISL\",\"ISR\",\"ITA\",\"JAM\",\"JOR\",\"KAZ\",\"KEN\",\"KGZ\",\"KHM\",\"KIR\",\"KNA\",\"KOR\",\"KWT\",\"LAO\",\"LBN\",\"LBR\",\"LBY\",\"LCA\",\"LKA\",\"LTU\",\"LUX\",\"MAR\",\"MDG\",\"MDV\",\"MEX\",\"MHL\",\"MKD\",\"MLI\",\"MLT\",\"MMR\",\"MNG\",\"MNP\",\"MOZ\",\"MRT\",\"MUS\",\"MWI\",\"MYS\",\"MYT\",\"NCL\",\"NER\",\"NFK\",\"NGA\",\"NIC\",\"NLD\",\"NOR\",\"NPL\",\"NRU\",\"NZL\",\"PAK\",\"PAN\",\"PER\",\"PHL\",\"PNG\",\"POL\",\"PRK\",\"PRT\",\"PRY\",\"PYF\",\"QAT\",\"RWA\",\"SAU\",\"SDN\",\"SEN\",\"SGP\",\"SLE\",\"SLV\",\"SMR\",\"SOM\",\"STP\",\"SUR\",\"SVK\",\"SVN\",\"SWE\",\"SWZ\",\"SYC\",\"SYR\",\"TCD\",\"THA\",\"TJK\",\"TKM\",\"TON\",\"TTO\",\"TUN\",\"TUV\",\"TZA\",\"UGA\",\"UKR\",\"URY\",\"UZB\",\"VAT\",\"VCT\",\"VEN\",\"VGB\",\"VNM\",\"VUT\",\"WSM\",\"YEM\",\"ZAF\",\"ZWE\",\"Africa\",\"Americas\",\"Asia\",\"Europe\",\"Oceania\",\"World\"],\"marker\":{\"coloraxis\":\"coloraxis\",\"colors\":[78747.0,912222.0,925124.0,97214.0,918524.0,43638.0,47683.0,659789.0,312296.0,219422.0,974767.0,147985.0,328756.0,193410.0,575221.0,1237684.0,800635.0,4382.0,124701.0,790386.0,75221.0,170619.0,149264.0,315133.0,18042.0,106262.0,422877.0,573110.0,424665.0,398816.0,543417.0,154509.0,476531.0,915343.0,31638.0,255209.0,22459.0,195979.0,206895.0,1508276.0,41275.0,840575.0,84835.0,211314.0,635227.0,928229.0,1005746.0,54254.0,149877.0,138440.0,1084046.0,164978.0,249563.0,51722.0,202120.0,513769.0,29955.0,411484.0,101814.0,343507.0,1455157.0,102569.0,716828.0,1276485.0,48238.0,579975.0,24407.0,303873.0,213110.0,779969.0,513203.0,347592.0,1498493.0,1184843.0,514910.0,310568.0,1116882.0,749063.0,373387.0,22408.0,1139353.0,478687.0,1527079.0,1372690.0,939114.0,660.0,104159.0,496200.0,665135.0,935532.0,985270.0,753849.0,453106.0,5362.0,1259619.0,150745.0,1013609.0,525581.0,328265.0,296340.0,1236756.0,221420.0,1346692.0,81663.0,692485.0,463389.0,977978.0,11940.0,542319.0,578350.0,232721.0,160871.0,1177911.0,44359.0,217940.0,123975.0,21104.0,708845.0,741630.0,843939.0,345171.0,259288.0,39728.0,1656687.0,596432.0,1180585.0,724607.0,697995.0,504546.0,774770.0,2134517.0,1059431.0,272863.0,42134.0,872786.0,602157.0,493728.0,1121290.0,830997.0,701747.0,425380.0,505820.0,303333.0,331853.0,56040.0,187434.0,923154.0,766154.0,353067.0,45683.0,903878.0,78578.0,215579.0,690794.0,857995.0,415053.0,29271.0,175892.0,303138.0,3349.0,563718.0,409176.0,695425.0,456371.0,759039.0,64.0,156021.0,610513.0,793231.0,551888.0,36329.0,14846.0,925297.0,1309316.0,226012.0,772619.3615021657,751476.7879482595,971910.22974988,866496.5969119725,999452.1745368689,863361.3072089319]},\"name\":\"\",\"parents\":[\"World/Americas\",\"World/Asia\",\"World/Africa\",\"World/Americas\",\"World/Europe\",\"World/Europe\",\"World/Americas\",\"World/Asia\",\"World/Americas\",\"World/Oceania\",\"World/Europe\",\"World/Asia\",\"World/Africa\",\"World/Europe\",\"World/Africa\",\"World/Asia\",\"World/Europe\",\"World/Americas\",\"World/Europe\",\"World/Americas\",\"World/Americas\",\"World/Americas\",\"World/Americas\",\"World/Asia\",\"World/Asia\",\"World/Africa\",\"World/Africa\",\"World/Americas\",\"World/Europe\",\"World/Americas\",\"World/Asia\",\"World/Africa\",\"World/Africa\",\"World/Africa\",\"World/Oceania\",\"World/Americas\",\"World/Africa\",\"World/Africa\",\"World/Americas\",\"World/Americas\",\"World/Americas\",\"World/Asia\",\"World/Europe\",\"World/Africa\",\"World/Europe\",\"World/Americas\",\"World/Africa\",\"World/Americas\",\"World/Africa\",\"World/Africa\",\"World/Europe\",\"World/Europe\",\"World/Africa\",\"World/Oceania\",\"World/Europe\",\"World/Europe\",\"World/Oceania\",\"World/Africa\",\"World/Asia\",\"World/Africa\",\"World/Africa\",\"World/Africa\",\"World/Africa\",\"World/Europe\",\"World/Americas\",\"World/Americas\",\"World/Oceania\",\"World/Americas\",\"World/Americas\",\"World/Europe\",\"World/Americas\",\"World/Europe\",\"World/Asia\",\"World/Europe\",\"World/Asia\",\"World/Asia\",\"World/Europe\",\"World/Asia\",\"World/Europe\",\"World/Americas\",\"World/Asia\",\"World/Asia\",\"World/Africa\",\"World/Asia\",\"World/Asia\",\"World/Oceania\",\"World/Americas\",\"World/Asia\",\"World/Asia\",\"World/Asia\",\"World/Asia\",\"World/Africa\",\"World/Africa\",\"World/Americas\",\"World/Asia\",\"World/Europe\",\"World/Europe\",\"World/Africa\",\"World/Africa\",\"World/Asia\",\"World/Americas\",\"World/Oceania\",\"World/Europe\",\"World/Africa\",\"World/Europe\",\"World/Asia\",\"World/Asia\",\"World/Oceania\",\"World/Africa\",\"World/Africa\",\"World/Africa\",\"World/Africa\",\"World/Asia\",\"World/Africa\",\"World/Oceania\",\"World/Africa\",\"World/Oceania\",\"World/Africa\",\"World/Americas\",\"World/Europe\",\"World/Europe\",\"World/Asia\",\"World/Oceania\",\"World/Oceania\",\"World/Asia\",\"World/Americas\",\"World/Americas\",\"World/Asia\",\"World/Oceania\",\"World/Europe\",\"World/Asia\",\"World/Europe\",\"World/Americas\",\"World/Oceania\",\"World/Asia\",\"World/Africa\",\"World/Asia\",\"World/Africa\",\"World/Africa\",\"World/Asia\",\"World/Africa\",\"World/Americas\",\"World/Europe\",\"World/Africa\",\"World/Africa\",\"World/Americas\",\"World/Europe\",\"World/Europe\",\"World/Europe\",\"World/Africa\",\"World/Africa\",\"World/Asia\",\"World/Africa\",\"World/Asia\",\"World/Asia\",\"World/Asia\",\"World/Oceania\",\"World/Americas\",\"World/Africa\",\"World/Oceania\",\"World/Africa\",\"World/Africa\",\"World/Europe\",\"World/Americas\",\"World/Asia\",\"World/Europe\",\"World/Americas\",\"World/Americas\",\"World/Americas\",\"World/Asia\",\"World/Oceania\",\"World/Oceania\",\"World/Asia\",\"World/Africa\",\"World/Africa\",\"World\",\"World\",\"World\",\"World\",\"World\",\"\"],\"values\":[78747,912222,925124,97214,918524,43638,47683,659789,312296,219422,974767,147985,328756,193410,575221,1237684,800635,4382,124701,790386,75221,170619,149264,315133,18042,106262,422877,573110,424665,398816,543417,154509,476531,915343,31638,255209,22459,195979,206895,1508276,41275,840575,84835,211314,635227,928229,1005746,54254,149877,138440,1084046,164978,249563,51722,202120,513769,29955,411484,101814,343507,1455157,102569,716828,1276485,48238,579975,24407,303873,213110,779969,513203,347592,1498493,1184843,514910,310568,1116882,749063,373387,22408,1139353,478687,1527079,1372690,939114,660,104159,496200,665135,935532,985270,753849,453106,5362,1259619,150745,1013609,525581,328265,296340,1236756,221420,1346692,81663,692485,463389,977978,11940,542319,578350,232721,160871,1177911,44359,217940,123975,21104,708845,741630,843939,345171,259288,39728,1656687,596432,1180585,724607,697995,504546,774770,2134517,1059431,272863,42134,872786,602157,493728,1121290,830997,701747,425380,505820,303333,331853,56040,187434,923154,766154,353067,45683,903878,78578,215579,690794,857995,415053,29271,175892,303138,3349,563718,409176,695425,456371,759039,64,156021,610513,793231,551888,36329,14846,925297,1309316,226012,22312746,14523927,29072050,20512512,3157098,89578333],\"type\":\"treemap\"}],                        {\"template\":{\"data\":{\"barpolar\":[{\"marker\":{\"line\":{\"color\":\"white\",\"width\":0.5},\"pattern\":{\"fillmode\":\"overlay\",\"size\":10,\"solidity\":0.2}},\"type\":\"barpolar\"}],\"bar\":[{\"error_x\":{\"color\":\"#2a3f5f\"},\"error_y\":{\"color\":\"#2a3f5f\"},\"marker\":{\"line\":{\"color\":\"white\",\"width\":0.5},\"pattern\":{\"fillmode\":\"overlay\",\"size\":10,\"solidity\":0.2}},\"type\":\"bar\"}],\"carpet\":[{\"aaxis\":{\"endlinecolor\":\"#2a3f5f\",\"gridcolor\":\"#C8D4E3\",\"linecolor\":\"#C8D4E3\",\"minorgridcolor\":\"#C8D4E3\",\"startlinecolor\":\"#2a3f5f\"},\"baxis\":{\"endlinecolor\":\"#2a3f5f\",\"gridcolor\":\"#C8D4E3\",\"linecolor\":\"#C8D4E3\",\"minorgridcolor\":\"#C8D4E3\",\"startlinecolor\":\"#2a3f5f\"},\"type\":\"carpet\"}],\"choropleth\":[{\"colorbar\":{\"outlinewidth\":0,\"ticks\":\"\"},\"type\":\"choropleth\"}],\"contourcarpet\":[{\"colorbar\":{\"outlinewidth\":0,\"ticks\":\"\"},\"type\":\"contourcarpet\"}],\"contour\":[{\"colorbar\":{\"outlinewidth\":0,\"ticks\":\"\"},\"colorscale\":[[0.0,\"#0d0887\"],[0.1111111111111111,\"#46039f\"],[0.2222222222222222,\"#7201a8\"],[0.3333333333333333,\"#9c179e\"],[0.4444444444444444,\"#bd3786\"],[0.5555555555555556,\"#d8576b\"],[0.6666666666666666,\"#ed7953\"],[0.7777777777777778,\"#fb9f3a\"],[0.8888888888888888,\"#fdca26\"],[1.0,\"#f0f921\"]],\"type\":\"contour\"}],\"heatmapgl\":[{\"colorbar\":{\"outlinewidth\":0,\"ticks\":\"\"},\"colorscale\":[[0.0,\"#0d0887\"],[0.1111111111111111,\"#46039f\"],[0.2222222222222222,\"#7201a8\"],[0.3333333333333333,\"#9c179e\"],[0.4444444444444444,\"#bd3786\"],[0.5555555555555556,\"#d8576b\"],[0.6666666666666666,\"#ed7953\"],[0.7777777777777778,\"#fb9f3a\"],[0.8888888888888888,\"#fdca26\"],[1.0,\"#f0f921\"]],\"type\":\"heatmapgl\"}],\"heatmap\":[{\"colorbar\":{\"outlinewidth\":0,\"ticks\":\"\"},\"colorscale\":[[0.0,\"#0d0887\"],[0.1111111111111111,\"#46039f\"],[0.2222222222222222,\"#7201a8\"],[0.3333333333333333,\"#9c179e\"],[0.4444444444444444,\"#bd3786\"],[0.5555555555555556,\"#d8576b\"],[0.6666666666666666,\"#ed7953\"],[0.7777777777777778,\"#fb9f3a\"],[0.8888888888888888,\"#fdca26\"],[1.0,\"#f0f921\"]],\"type\":\"heatmap\"}],\"histogram2dcontour\":[{\"colorbar\":{\"outlinewidth\":0,\"ticks\":\"\"},\"colorscale\":[[0.0,\"#0d0887\"],[0.1111111111111111,\"#46039f\"],[0.2222222222222222,\"#7201a8\"],[0.3333333333333333,\"#9c179e\"],[0.4444444444444444,\"#bd3786\"],[0.5555555555555556,\"#d8576b\"],[0.6666666666666666,\"#ed7953\"],[0.7777777777777778,\"#fb9f3a\"],[0.8888888888888888,\"#fdca26\"],[1.0,\"#f0f921\"]],\"type\":\"histogram2dcontour\"}],\"histogram2d\":[{\"colorbar\":{\"outlinewidth\":0,\"ticks\":\"\"},\"colorscale\":[[0.0,\"#0d0887\"],[0.1111111111111111,\"#46039f\"],[0.2222222222222222,\"#7201a8\"],[0.3333333333333333,\"#9c179e\"],[0.4444444444444444,\"#bd3786\"],[0.5555555555555556,\"#d8576b\"],[0.6666666666666666,\"#ed7953\"],[0.7777777777777778,\"#fb9f3a\"],[0.8888888888888888,\"#fdca26\"],[1.0,\"#f0f921\"]],\"type\":\"histogram2d\"}],\"histogram\":[{\"marker\":{\"pattern\":{\"fillmode\":\"overlay\",\"size\":10,\"solidity\":0.2}},\"type\":\"histogram\"}],\"mesh3d\":[{\"colorbar\":{\"outlinewidth\":0,\"ticks\":\"\"},\"type\":\"mesh3d\"}],\"parcoords\":[{\"line\":{\"colorbar\":{\"outlinewidth\":0,\"ticks\":\"\"}},\"type\":\"parcoords\"}],\"pie\":[{\"automargin\":true,\"type\":\"pie\"}],\"scatter3d\":[{\"line\":{\"colorbar\":{\"outlinewidth\":0,\"ticks\":\"\"}},\"marker\":{\"colorbar\":{\"outlinewidth\":0,\"ticks\":\"\"}},\"type\":\"scatter3d\"}],\"scattercarpet\":[{\"marker\":{\"colorbar\":{\"outlinewidth\":0,\"ticks\":\"\"}},\"type\":\"scattercarpet\"}],\"scattergeo\":[{\"marker\":{\"colorbar\":{\"outlinewidth\":0,\"ticks\":\"\"}},\"type\":\"scattergeo\"}],\"scattergl\":[{\"marker\":{\"colorbar\":{\"outlinewidth\":0,\"ticks\":\"\"}},\"type\":\"scattergl\"}],\"scattermapbox\":[{\"marker\":{\"colorbar\":{\"outlinewidth\":0,\"ticks\":\"\"}},\"type\":\"scattermapbox\"}],\"scatterpolargl\":[{\"marker\":{\"colorbar\":{\"outlinewidth\":0,\"ticks\":\"\"}},\"type\":\"scatterpolargl\"}],\"scatterpolar\":[{\"marker\":{\"colorbar\":{\"outlinewidth\":0,\"ticks\":\"\"}},\"type\":\"scatterpolar\"}],\"scatter\":[{\"fillpattern\":{\"fillmode\":\"overlay\",\"size\":10,\"solidity\":0.2},\"type\":\"scatter\"}],\"scatterternary\":[{\"marker\":{\"colorbar\":{\"outlinewidth\":0,\"ticks\":\"\"}},\"type\":\"scatterternary\"}],\"surface\":[{\"colorbar\":{\"outlinewidth\":0,\"ticks\":\"\"},\"colorscale\":[[0.0,\"#0d0887\"],[0.1111111111111111,\"#46039f\"],[0.2222222222222222,\"#7201a8\"],[0.3333333333333333,\"#9c179e\"],[0.4444444444444444,\"#bd3786\"],[0.5555555555555556,\"#d8576b\"],[0.6666666666666666,\"#ed7953\"],[0.7777777777777778,\"#fb9f3a\"],[0.8888888888888888,\"#fdca26\"],[1.0,\"#f0f921\"]],\"type\":\"surface\"}],\"table\":[{\"cells\":{\"fill\":{\"color\":\"#EBF0F8\"},\"line\":{\"color\":\"white\"}},\"header\":{\"fill\":{\"color\":\"#C8D4E3\"},\"line\":{\"color\":\"white\"}},\"type\":\"table\"}]},\"layout\":{\"annotationdefaults\":{\"arrowcolor\":\"#2a3f5f\",\"arrowhead\":0,\"arrowwidth\":1},\"autotypenumbers\":\"strict\",\"coloraxis\":{\"colorbar\":{\"outlinewidth\":0,\"ticks\":\"\"}},\"colorscale\":{\"diverging\":[[0,\"#8e0152\"],[0.1,\"#c51b7d\"],[0.2,\"#de77ae\"],[0.3,\"#f1b6da\"],[0.4,\"#fde0ef\"],[0.5,\"#f7f7f7\"],[0.6,\"#e6f5d0\"],[0.7,\"#b8e186\"],[0.8,\"#7fbc41\"],[0.9,\"#4d9221\"],[1,\"#276419\"]],\"sequential\":[[0.0,\"#0d0887\"],[0.1111111111111111,\"#46039f\"],[0.2222222222222222,\"#7201a8\"],[0.3333333333333333,\"#9c179e\"],[0.4444444444444444,\"#bd3786\"],[0.5555555555555556,\"#d8576b\"],[0.6666666666666666,\"#ed7953\"],[0.7777777777777778,\"#fb9f3a\"],[0.8888888888888888,\"#fdca26\"],[1.0,\"#f0f921\"]],\"sequentialminus\":[[0.0,\"#0d0887\"],[0.1111111111111111,\"#46039f\"],[0.2222222222222222,\"#7201a8\"],[0.3333333333333333,\"#9c179e\"],[0.4444444444444444,\"#bd3786\"],[0.5555555555555556,\"#d8576b\"],[0.6666666666666666,\"#ed7953\"],[0.7777777777777778,\"#fb9f3a\"],[0.8888888888888888,\"#fdca26\"],[1.0,\"#f0f921\"]]},\"colorway\":[\"#636efa\",\"#EF553B\",\"#00cc96\",\"#ab63fa\",\"#FFA15A\",\"#19d3f3\",\"#FF6692\",\"#B6E880\",\"#FF97FF\",\"#FECB52\"],\"font\":{\"color\":\"#2a3f5f\"},\"geo\":{\"bgcolor\":\"white\",\"lakecolor\":\"white\",\"landcolor\":\"white\",\"showlakes\":true,\"showland\":true,\"subunitcolor\":\"#C8D4E3\"},\"hoverlabel\":{\"align\":\"left\"},\"hovermode\":\"closest\",\"mapbox\":{\"style\":\"light\"},\"paper_bgcolor\":\"white\",\"plot_bgcolor\":\"white\",\"polar\":{\"angularaxis\":{\"gridcolor\":\"#EBF0F8\",\"linecolor\":\"#EBF0F8\",\"ticks\":\"\"},\"bgcolor\":\"white\",\"radialaxis\":{\"gridcolor\":\"#EBF0F8\",\"linecolor\":\"#EBF0F8\",\"ticks\":\"\"}},\"scene\":{\"xaxis\":{\"backgroundcolor\":\"white\",\"gridcolor\":\"#DFE8F3\",\"gridwidth\":2,\"linecolor\":\"#EBF0F8\",\"showbackground\":true,\"ticks\":\"\",\"zerolinecolor\":\"#EBF0F8\"},\"yaxis\":{\"backgroundcolor\":\"white\",\"gridcolor\":\"#DFE8F3\",\"gridwidth\":2,\"linecolor\":\"#EBF0F8\",\"showbackground\":true,\"ticks\":\"\",\"zerolinecolor\":\"#EBF0F8\"},\"zaxis\":{\"backgroundcolor\":\"white\",\"gridcolor\":\"#DFE8F3\",\"gridwidth\":2,\"linecolor\":\"#EBF0F8\",\"showbackground\":true,\"ticks\":\"\",\"zerolinecolor\":\"#EBF0F8\"}},\"shapedefaults\":{\"line\":{\"color\":\"#2a3f5f\"}},\"ternary\":{\"aaxis\":{\"gridcolor\":\"#DFE8F3\",\"linecolor\":\"#A2B1C6\",\"ticks\":\"\"},\"baxis\":{\"gridcolor\":\"#DFE8F3\",\"linecolor\":\"#A2B1C6\",\"ticks\":\"\"},\"bgcolor\":\"white\",\"caxis\":{\"gridcolor\":\"#DFE8F3\",\"linecolor\":\"#A2B1C6\",\"ticks\":\"\"}},\"title\":{\"x\":0.05},\"xaxis\":{\"automargin\":true,\"gridcolor\":\"#EBF0F8\",\"linecolor\":\"#EBF0F8\",\"ticks\":\"\",\"title\":{\"standoff\":15},\"zerolinecolor\":\"#EBF0F8\",\"zerolinewidth\":2},\"yaxis\":{\"automargin\":true,\"gridcolor\":\"#EBF0F8\",\"linecolor\":\"#EBF0F8\",\"ticks\":\"\",\"title\":{\"standoff\":15},\"zerolinecolor\":\"#EBF0F8\",\"zerolinewidth\":2}}},\"coloraxis\":{\"colorbar\":{\"title\":{\"text\":\"Trade Value (US$)\"}},\"colorscale\":[[0.0,\"rgb(103,0,31)\"],[0.1,\"rgb(178,24,43)\"],[0.2,\"rgb(214,96,77)\"],[0.3,\"rgb(244,165,130)\"],[0.4,\"rgb(253,219,199)\"],[0.5,\"rgb(247,247,247)\"],[0.6,\"rgb(209,229,240)\"],[0.7,\"rgb(146,197,222)\"],[0.8,\"rgb(67,147,195)\"],[0.9,\"rgb(33,102,172)\"],[1.0,\"rgb(5,48,97)\"]],\"cmid\":938755.8},\"legend\":{\"tracegroupgap\":0},\"margin\":{\"t\":50,\"l\":25,\"r\":25,\"b\":25},\"font\":{\"family\":\"verdana\",\"size\":12},\"paper_bgcolor\":\"#e9f1f5\",\"plot_bgcolor\":\"#e9f1f5\",\"title\":{\"text\":\"<b>Top importers of Russian goods</b> <br><sup><i>Hover over blocks for more detail</i></sup>\"}},                        {\"responsive\": true}                    ).then(function(){\n",
       "                            \n",
       "var gd = document.getElementById('126bc4c1-406a-4bbe-bc10-cd5e9bac1085');\n",
       "var x = new MutationObserver(function (mutations, observer) {{\n",
       "        var display = window.getComputedStyle(gd).display;\n",
       "        if (!display || display === 'none') {{\n",
       "            console.log([gd, 'removed!']);\n",
       "            Plotly.purge(gd);\n",
       "            observer.disconnect();\n",
       "        }}\n",
       "}});\n",
       "\n",
       "// Listen for the removal of the full notebook cells\n",
       "var notebookContainer = gd.closest('#notebook-container');\n",
       "if (notebookContainer) {{\n",
       "    x.observe(notebookContainer, {childList: true});\n",
       "}}\n",
       "\n",
       "// Listen for the clearing of the current output cell\n",
       "var outputEl = gd.closest('.output');\n",
       "if (outputEl) {{\n",
       "    x.observe(outputEl, {childList: true});\n",
       "}}\n",
       "\n",
       "                        })                };                });            </script>        </div>"
      ]
     },
     "metadata": {},
     "output_type": "display_data"
    }
   ],
   "source": [
    "# Tree map\n",
    "fig = px.treemap(total, path=[px.Constant('World'), 'Continent', 'Partner ISO'], values='Trade Value (US$)', color='Trade Value (US$)', hover_data=['Partner ISO'],\n",
    "                  color_continuous_scale='RdBu',color_continuous_midpoint=np.percentile(total['Trade Value (US$)'],85), template='plotly_white')\n",
    "fig.update_layout(font_family=\"verdana\", font_size=12, paper_bgcolor=\"#e9f1f5\",plot_bgcolor=\"#e9f1f5\",title='<b>Top importers of Russian goods</b> <br><sup><i>Hover over blocks for more detail</i></sup>',)\n",
    "fig.update_layout(margin = dict(t=50, l=25, r=25, b=25))\n",
    "fig.show()"
   ]
  },
  {
   "cell_type": "markdown",
   "id": "9899456b",
   "metadata": {
    "papermill": {
     "duration": 0.018856,
     "end_time": "2023-05-10T10:22:02.650916",
     "exception": false,
     "start_time": "2023-05-10T10:22:02.632060",
     "status": "completed"
    },
    "tags": []
   },
   "source": [
    "### <div style=\"font-family: Trebuchet MS; background-color: #87beda; color: #FFFFFF; padding: 12px; line-height: 1.5;\">IV. Top Russian trading partners of all time 🕰️</div>\n",
    "Russias highest importer of goods lie within the same continent, i.e <b>Asia</b>.  Highest being <span style=\"background-color: #87beda\">North-Korea</span> followed by New Zealand and Kenya  \n",
    "**.: Scale :.**  \n",
    "<span style=\"background-color: #87beda\">High t</span><span style=\"background-color: #f09b7a\">o Low</span>  \n",
    "🟦   >  🟥\n",
    "___"
   ]
  },
  {
   "cell_type": "code",
   "execution_count": 523,
   "id": "2d68b4e1",
   "metadata": {
    "papermill": {
     "duration": 0.149537,
     "end_time": "2023-05-10T10:22:02.819423",
     "exception": false,
     "start_time": "2023-05-10T10:22:02.669886",
     "status": "completed"
    },
    "tags": []
   },
   "outputs": [
    {
     "data": {
      "application/vnd.plotly.v1+json": {
       "config": {
        "plotlyServerURL": "https://plot.ly"
       },
       "data": [
        {
         "alignmentgroup": "True",
         "hovertemplate": "Country=%{x}<br>Trade Value (US$)=%{text}<br>Year=%{marker.color}<extra></extra>",
         "legendgroup": "",
         "marker": {
          "color": [
           2007,
           2007,
           2007,
           2007,
           2007,
           2007,
           2008,
           2008,
           2008,
           2008,
           2008,
           2008,
           2009,
           2009,
           2009,
           2009,
           2009,
           2009,
           2010,
           2010,
           2010,
           2010,
           2010,
           2010,
           2011,
           2011,
           2011,
           2011,
           2011,
           2011,
           2012,
           2012,
           2012,
           2012,
           2012,
           2012,
           2013,
           2013,
           2013,
           2013,
           2013,
           2013,
           2014,
           2014,
           2014,
           2014,
           2014,
           2014,
           2015,
           2015,
           2015,
           2015,
           2015,
           2015,
           2016,
           2016,
           2016,
           2016,
           2016,
           2016,
           2017,
           2017,
           2017,
           2017,
           2017,
           2017,
           2018,
           2018,
           2018,
           2018,
           2018,
           2018,
           2019,
           2019,
           2019,
           2019,
           2019,
           2019,
           2020,
           2020,
           2020,
           2020,
           2020,
           2020
          ],
          "coloraxis": "coloraxis",
          "pattern": {
           "shape": ""
          }
         },
         "name": "",
         "offsetgroup": "",
         "orientation": "v",
         "showlegend": false,
         "text": [
          105655,
          245564,
          82948,
          110213,
          65844,
          134827,
          115006,
          116458,
          318838,
          71201,
          213890,
          248418,
          17981,
          86735,
          155022,
          155451,
          108945,
          98740,
          42126,
          113610,
          147700,
          57150,
          81069,
          184036,
          49469,
          167605,
          319771,
          134046,
          99859,
          -105434,
          310501,
          -17470,
          146031,
          133321,
          81552,
          232276,
          208977,
          197624,
          35144,
          259151,
          56258,
          207269,
          25485,
          -42499,
          101171,
          159247,
          245701,
          106081,
          215844,
          51560,
          -75942,
          55374,
          46130,
          213436,
          125361,
          199982,
          23074,
          122966,
          229296,
          117002,
          86257,
          56323,
          1200,
          109997,
          30703,
          260620,
          199145,
          81943,
          128618,
          59726,
          217173,
          256274,
          27800,
          172989,
          111028,
          117742,
          40866,
          170252,
          -21331,
          24733,
          3890,
          -18506,
          139401,
          10720
         ],
         "textposition": "outside",
         "texttemplate": "%{text:.2s}",
         "type": "bar",
         "x": [
          "CUB",
          "GIN",
          "IDN",
          "KEN",
          "NZL",
          "PRK",
          "CUB",
          "GIN",
          "IDN",
          "KEN",
          "NZL",
          "PRK",
          "CUB",
          "GIN",
          "IDN",
          "KEN",
          "NZL",
          "PRK",
          "CUB",
          "GIN",
          "IDN",
          "KEN",
          "NZL",
          "PRK",
          "CUB",
          "GIN",
          "IDN",
          "KEN",
          "NZL",
          "PRK",
          "CUB",
          "GIN",
          "IDN",
          "KEN",
          "NZL",
          "PRK",
          "CUB",
          "GIN",
          "IDN",
          "KEN",
          "NZL",
          "PRK",
          "CUB",
          "GIN",
          "IDN",
          "KEN",
          "NZL",
          "PRK",
          "CUB",
          "GIN",
          "IDN",
          "KEN",
          "NZL",
          "PRK",
          "CUB",
          "GIN",
          "IDN",
          "KEN",
          "NZL",
          "PRK",
          "CUB",
          "GIN",
          "IDN",
          "KEN",
          "NZL",
          "PRK",
          "CUB",
          "GIN",
          "IDN",
          "KEN",
          "NZL",
          "PRK",
          "CUB",
          "GIN",
          "IDN",
          "KEN",
          "NZL",
          "PRK",
          "CUB",
          "GIN",
          "IDN",
          "KEN",
          "NZL",
          "PRK"
         ],
         "xaxis": "x",
         "y": [
          105655,
          245564,
          82948,
          110213,
          65844,
          134827,
          115006,
          116458,
          318838,
          71201,
          213890,
          248418,
          17981,
          86735,
          155022,
          155451,
          108945,
          98740,
          42126,
          113610,
          147700,
          57150,
          81069,
          184036,
          49469,
          167605,
          319771,
          134046,
          99859,
          -105434,
          310501,
          -17470,
          146031,
          133321,
          81552,
          232276,
          208977,
          197624,
          35144,
          259151,
          56258,
          207269,
          25485,
          -42499,
          101171,
          159247,
          245701,
          106081,
          215844,
          51560,
          -75942,
          55374,
          46130,
          213436,
          125361,
          199982,
          23074,
          122966,
          229296,
          117002,
          86257,
          56323,
          1200,
          109997,
          30703,
          260620,
          199145,
          81943,
          128618,
          59726,
          217173,
          256274,
          27800,
          172989,
          111028,
          117742,
          40866,
          170252,
          -21331,
          24733,
          3890,
          -18506,
          139401,
          10720
         ],
         "yaxis": "y"
        }
       ],
       "layout": {
        "autosize": true,
        "barmode": "relative",
        "coloraxis": {
         "colorbar": {
          "title": {
           "text": "Year"
          }
         },
         "colorscale": [
          [
           0,
           "rgb(103,0,31)"
          ],
          [
           0.1,
           "rgb(178,24,43)"
          ],
          [
           0.2,
           "rgb(214,96,77)"
          ],
          [
           0.3,
           "rgb(244,165,130)"
          ],
          [
           0.4,
           "rgb(253,219,199)"
          ],
          [
           0.5,
           "rgb(247,247,247)"
          ],
          [
           0.6,
           "rgb(209,229,240)"
          ],
          [
           0.7,
           "rgb(146,197,222)"
          ],
          [
           0.8,
           "rgb(67,147,195)"
          ],
          [
           0.9,
           "rgb(33,102,172)"
          ],
          [
           1,
           "rgb(5,48,97)"
          ]
         ]
        },
        "font": {
         "family": "verdana",
         "size": 12
        },
        "legend": {
         "tracegroupgap": 0
        },
        "margin": {
         "t": 60
        },
        "paper_bgcolor": "#e9f1f5",
        "plot_bgcolor": "#e9f1f5",
        "template": {
         "data": {
          "bar": [
           {
            "error_x": {
             "color": "#2a3f5f"
            },
            "error_y": {
             "color": "#2a3f5f"
            },
            "marker": {
             "line": {
              "color": "white",
              "width": 0.5
             },
             "pattern": {
              "fillmode": "overlay",
              "size": 10,
              "solidity": 0.2
             }
            },
            "type": "bar"
           }
          ],
          "barpolar": [
           {
            "marker": {
             "line": {
              "color": "white",
              "width": 0.5
             },
             "pattern": {
              "fillmode": "overlay",
              "size": 10,
              "solidity": 0.2
             }
            },
            "type": "barpolar"
           }
          ],
          "carpet": [
           {
            "aaxis": {
             "endlinecolor": "#2a3f5f",
             "gridcolor": "#C8D4E3",
             "linecolor": "#C8D4E3",
             "minorgridcolor": "#C8D4E3",
             "startlinecolor": "#2a3f5f"
            },
            "baxis": {
             "endlinecolor": "#2a3f5f",
             "gridcolor": "#C8D4E3",
             "linecolor": "#C8D4E3",
             "minorgridcolor": "#C8D4E3",
             "startlinecolor": "#2a3f5f"
            },
            "type": "carpet"
           }
          ],
          "choropleth": [
           {
            "colorbar": {
             "outlinewidth": 0,
             "ticks": ""
            },
            "type": "choropleth"
           }
          ],
          "contour": [
           {
            "colorbar": {
             "outlinewidth": 0,
             "ticks": ""
            },
            "colorscale": [
             [
              0,
              "#0d0887"
             ],
             [
              0.1111111111111111,
              "#46039f"
             ],
             [
              0.2222222222222222,
              "#7201a8"
             ],
             [
              0.3333333333333333,
              "#9c179e"
             ],
             [
              0.4444444444444444,
              "#bd3786"
             ],
             [
              0.5555555555555556,
              "#d8576b"
             ],
             [
              0.6666666666666666,
              "#ed7953"
             ],
             [
              0.7777777777777778,
              "#fb9f3a"
             ],
             [
              0.8888888888888888,
              "#fdca26"
             ],
             [
              1,
              "#f0f921"
             ]
            ],
            "type": "contour"
           }
          ],
          "contourcarpet": [
           {
            "colorbar": {
             "outlinewidth": 0,
             "ticks": ""
            },
            "type": "contourcarpet"
           }
          ],
          "heatmap": [
           {
            "colorbar": {
             "outlinewidth": 0,
             "ticks": ""
            },
            "colorscale": [
             [
              0,
              "#0d0887"
             ],
             [
              0.1111111111111111,
              "#46039f"
             ],
             [
              0.2222222222222222,
              "#7201a8"
             ],
             [
              0.3333333333333333,
              "#9c179e"
             ],
             [
              0.4444444444444444,
              "#bd3786"
             ],
             [
              0.5555555555555556,
              "#d8576b"
             ],
             [
              0.6666666666666666,
              "#ed7953"
             ],
             [
              0.7777777777777778,
              "#fb9f3a"
             ],
             [
              0.8888888888888888,
              "#fdca26"
             ],
             [
              1,
              "#f0f921"
             ]
            ],
            "type": "heatmap"
           }
          ],
          "heatmapgl": [
           {
            "colorbar": {
             "outlinewidth": 0,
             "ticks": ""
            },
            "colorscale": [
             [
              0,
              "#0d0887"
             ],
             [
              0.1111111111111111,
              "#46039f"
             ],
             [
              0.2222222222222222,
              "#7201a8"
             ],
             [
              0.3333333333333333,
              "#9c179e"
             ],
             [
              0.4444444444444444,
              "#bd3786"
             ],
             [
              0.5555555555555556,
              "#d8576b"
             ],
             [
              0.6666666666666666,
              "#ed7953"
             ],
             [
              0.7777777777777778,
              "#fb9f3a"
             ],
             [
              0.8888888888888888,
              "#fdca26"
             ],
             [
              1,
              "#f0f921"
             ]
            ],
            "type": "heatmapgl"
           }
          ],
          "histogram": [
           {
            "marker": {
             "pattern": {
              "fillmode": "overlay",
              "size": 10,
              "solidity": 0.2
             }
            },
            "type": "histogram"
           }
          ],
          "histogram2d": [
           {
            "colorbar": {
             "outlinewidth": 0,
             "ticks": ""
            },
            "colorscale": [
             [
              0,
              "#0d0887"
             ],
             [
              0.1111111111111111,
              "#46039f"
             ],
             [
              0.2222222222222222,
              "#7201a8"
             ],
             [
              0.3333333333333333,
              "#9c179e"
             ],
             [
              0.4444444444444444,
              "#bd3786"
             ],
             [
              0.5555555555555556,
              "#d8576b"
             ],
             [
              0.6666666666666666,
              "#ed7953"
             ],
             [
              0.7777777777777778,
              "#fb9f3a"
             ],
             [
              0.8888888888888888,
              "#fdca26"
             ],
             [
              1,
              "#f0f921"
             ]
            ],
            "type": "histogram2d"
           }
          ],
          "histogram2dcontour": [
           {
            "colorbar": {
             "outlinewidth": 0,
             "ticks": ""
            },
            "colorscale": [
             [
              0,
              "#0d0887"
             ],
             [
              0.1111111111111111,
              "#46039f"
             ],
             [
              0.2222222222222222,
              "#7201a8"
             ],
             [
              0.3333333333333333,
              "#9c179e"
             ],
             [
              0.4444444444444444,
              "#bd3786"
             ],
             [
              0.5555555555555556,
              "#d8576b"
             ],
             [
              0.6666666666666666,
              "#ed7953"
             ],
             [
              0.7777777777777778,
              "#fb9f3a"
             ],
             [
              0.8888888888888888,
              "#fdca26"
             ],
             [
              1,
              "#f0f921"
             ]
            ],
            "type": "histogram2dcontour"
           }
          ],
          "mesh3d": [
           {
            "colorbar": {
             "outlinewidth": 0,
             "ticks": ""
            },
            "type": "mesh3d"
           }
          ],
          "parcoords": [
           {
            "line": {
             "colorbar": {
              "outlinewidth": 0,
              "ticks": ""
             }
            },
            "type": "parcoords"
           }
          ],
          "pie": [
           {
            "automargin": true,
            "type": "pie"
           }
          ],
          "scatter": [
           {
            "fillpattern": {
             "fillmode": "overlay",
             "size": 10,
             "solidity": 0.2
            },
            "type": "scatter"
           }
          ],
          "scatter3d": [
           {
            "line": {
             "colorbar": {
              "outlinewidth": 0,
              "ticks": ""
             }
            },
            "marker": {
             "colorbar": {
              "outlinewidth": 0,
              "ticks": ""
             }
            },
            "type": "scatter3d"
           }
          ],
          "scattercarpet": [
           {
            "marker": {
             "colorbar": {
              "outlinewidth": 0,
              "ticks": ""
             }
            },
            "type": "scattercarpet"
           }
          ],
          "scattergeo": [
           {
            "marker": {
             "colorbar": {
              "outlinewidth": 0,
              "ticks": ""
             }
            },
            "type": "scattergeo"
           }
          ],
          "scattergl": [
           {
            "marker": {
             "colorbar": {
              "outlinewidth": 0,
              "ticks": ""
             }
            },
            "type": "scattergl"
           }
          ],
          "scattermapbox": [
           {
            "marker": {
             "colorbar": {
              "outlinewidth": 0,
              "ticks": ""
             }
            },
            "type": "scattermapbox"
           }
          ],
          "scatterpolar": [
           {
            "marker": {
             "colorbar": {
              "outlinewidth": 0,
              "ticks": ""
             }
            },
            "type": "scatterpolar"
           }
          ],
          "scatterpolargl": [
           {
            "marker": {
             "colorbar": {
              "outlinewidth": 0,
              "ticks": ""
             }
            },
            "type": "scatterpolargl"
           }
          ],
          "scatterternary": [
           {
            "marker": {
             "colorbar": {
              "outlinewidth": 0,
              "ticks": ""
             }
            },
            "type": "scatterternary"
           }
          ],
          "surface": [
           {
            "colorbar": {
             "outlinewidth": 0,
             "ticks": ""
            },
            "colorscale": [
             [
              0,
              "#0d0887"
             ],
             [
              0.1111111111111111,
              "#46039f"
             ],
             [
              0.2222222222222222,
              "#7201a8"
             ],
             [
              0.3333333333333333,
              "#9c179e"
             ],
             [
              0.4444444444444444,
              "#bd3786"
             ],
             [
              0.5555555555555556,
              "#d8576b"
             ],
             [
              0.6666666666666666,
              "#ed7953"
             ],
             [
              0.7777777777777778,
              "#fb9f3a"
             ],
             [
              0.8888888888888888,
              "#fdca26"
             ],
             [
              1,
              "#f0f921"
             ]
            ],
            "type": "surface"
           }
          ],
          "table": [
           {
            "cells": {
             "fill": {
              "color": "#EBF0F8"
             },
             "line": {
              "color": "white"
             }
            },
            "header": {
             "fill": {
              "color": "#C8D4E3"
             },
             "line": {
              "color": "white"
             }
            },
            "type": "table"
           }
          ]
         },
         "layout": {
          "annotationdefaults": {
           "arrowcolor": "#2a3f5f",
           "arrowhead": 0,
           "arrowwidth": 1
          },
          "autotypenumbers": "strict",
          "coloraxis": {
           "colorbar": {
            "outlinewidth": 0,
            "ticks": ""
           }
          },
          "colorscale": {
           "diverging": [
            [
             0,
             "#8e0152"
            ],
            [
             0.1,
             "#c51b7d"
            ],
            [
             0.2,
             "#de77ae"
            ],
            [
             0.3,
             "#f1b6da"
            ],
            [
             0.4,
             "#fde0ef"
            ],
            [
             0.5,
             "#f7f7f7"
            ],
            [
             0.6,
             "#e6f5d0"
            ],
            [
             0.7,
             "#b8e186"
            ],
            [
             0.8,
             "#7fbc41"
            ],
            [
             0.9,
             "#4d9221"
            ],
            [
             1,
             "#276419"
            ]
           ],
           "sequential": [
            [
             0,
             "#0d0887"
            ],
            [
             0.1111111111111111,
             "#46039f"
            ],
            [
             0.2222222222222222,
             "#7201a8"
            ],
            [
             0.3333333333333333,
             "#9c179e"
            ],
            [
             0.4444444444444444,
             "#bd3786"
            ],
            [
             0.5555555555555556,
             "#d8576b"
            ],
            [
             0.6666666666666666,
             "#ed7953"
            ],
            [
             0.7777777777777778,
             "#fb9f3a"
            ],
            [
             0.8888888888888888,
             "#fdca26"
            ],
            [
             1,
             "#f0f921"
            ]
           ],
           "sequentialminus": [
            [
             0,
             "#0d0887"
            ],
            [
             0.1111111111111111,
             "#46039f"
            ],
            [
             0.2222222222222222,
             "#7201a8"
            ],
            [
             0.3333333333333333,
             "#9c179e"
            ],
            [
             0.4444444444444444,
             "#bd3786"
            ],
            [
             0.5555555555555556,
             "#d8576b"
            ],
            [
             0.6666666666666666,
             "#ed7953"
            ],
            [
             0.7777777777777778,
             "#fb9f3a"
            ],
            [
             0.8888888888888888,
             "#fdca26"
            ],
            [
             1,
             "#f0f921"
            ]
           ]
          },
          "colorway": [
           "#636efa",
           "#EF553B",
           "#00cc96",
           "#ab63fa",
           "#FFA15A",
           "#19d3f3",
           "#FF6692",
           "#B6E880",
           "#FF97FF",
           "#FECB52"
          ],
          "font": {
           "color": "#2a3f5f"
          },
          "geo": {
           "bgcolor": "white",
           "lakecolor": "white",
           "landcolor": "white",
           "showlakes": true,
           "showland": true,
           "subunitcolor": "#C8D4E3"
          },
          "hoverlabel": {
           "align": "left"
          },
          "hovermode": "closest",
          "mapbox": {
           "style": "light"
          },
          "paper_bgcolor": "white",
          "plot_bgcolor": "white",
          "polar": {
           "angularaxis": {
            "gridcolor": "#EBF0F8",
            "linecolor": "#EBF0F8",
            "ticks": ""
           },
           "bgcolor": "white",
           "radialaxis": {
            "gridcolor": "#EBF0F8",
            "linecolor": "#EBF0F8",
            "ticks": ""
           }
          },
          "scene": {
           "xaxis": {
            "backgroundcolor": "white",
            "gridcolor": "#DFE8F3",
            "gridwidth": 2,
            "linecolor": "#EBF0F8",
            "showbackground": true,
            "ticks": "",
            "zerolinecolor": "#EBF0F8"
           },
           "yaxis": {
            "backgroundcolor": "white",
            "gridcolor": "#DFE8F3",
            "gridwidth": 2,
            "linecolor": "#EBF0F8",
            "showbackground": true,
            "ticks": "",
            "zerolinecolor": "#EBF0F8"
           },
           "zaxis": {
            "backgroundcolor": "white",
            "gridcolor": "#DFE8F3",
            "gridwidth": 2,
            "linecolor": "#EBF0F8",
            "showbackground": true,
            "ticks": "",
            "zerolinecolor": "#EBF0F8"
           }
          },
          "shapedefaults": {
           "line": {
            "color": "#2a3f5f"
           }
          },
          "ternary": {
           "aaxis": {
            "gridcolor": "#DFE8F3",
            "linecolor": "#A2B1C6",
            "ticks": ""
           },
           "baxis": {
            "gridcolor": "#DFE8F3",
            "linecolor": "#A2B1C6",
            "ticks": ""
           },
           "bgcolor": "white",
           "caxis": {
            "gridcolor": "#DFE8F3",
            "linecolor": "#A2B1C6",
            "ticks": ""
           }
          },
          "title": {
           "x": 0.05
          },
          "xaxis": {
           "automargin": true,
           "gridcolor": "#EBF0F8",
           "linecolor": "#EBF0F8",
           "ticks": "",
           "title": {
            "standoff": 15
           },
           "zerolinecolor": "#EBF0F8",
           "zerolinewidth": 2
          },
          "yaxis": {
           "automargin": true,
           "gridcolor": "#EBF0F8",
           "linecolor": "#EBF0F8",
           "ticks": "",
           "title": {
            "standoff": 15
           },
           "zerolinecolor": "#EBF0F8",
           "zerolinewidth": 2
          }
         }
        },
        "title": {
         "text": "Top trading partners overall<br><sup>Russias highest importer of goods lie within the same continent, i.e <b>Asia</b>. Highest being North-Korea followed by New Zealand and Kenya</sup>"
        },
        "uniformtext": {
         "minsize": 8,
         "mode": "hide"
        },
        "xaxis": {
         "anchor": "y",
         "autorange": true,
         "domain": [
          0,
          1
         ],
         "range": [
          -0.5,
          5.5
         ],
         "tickmode": "array",
         "ticktext": [
          "Cuba",
          "Guinea",
          "Indonesia",
          "Kenya",
          "New Zealand",
          "North Korea"
         ],
         "tickvals": [
          "CUB",
          "GIN",
          "IDN",
          "KEN",
          "NZL",
          "PRK"
         ],
         "title": {
          "text": "Country"
         },
         "type": "category"
        },
        "yaxis": {
         "anchor": "x",
         "domain": [
          0,
          1
         ],
         "range": [
          0,
          3500000
         ],
         "tickprefix": "$",
         "title": {
          "text": "Trade Value (US$)"
         },
         "type": "linear"
        }
       }
      },
      "image/png": "[encoded data removed]",
      "text/html": [
       "<div>                            <div id=\"b96eb09d-fd6e-4845-b334-936322df06b2\" class=\"plotly-graph-div\" style=\"height:525px; width:100%;\"></div>            <script type=\"text/javascript\">                require([\"plotly\"], function(Plotly) {                    window.PLOTLYENV=window.PLOTLYENV || {};                                    if (document.getElementById(\"b96eb09d-fd6e-4845-b334-936322df06b2\")) {                    Plotly.newPlot(                        \"b96eb09d-fd6e-4845-b334-936322df06b2\",                        [{\"alignmentgroup\":\"True\",\"hovertemplate\":\"Country=%{x}<br>Trade Value (US$)=%{text}<br>Year=%{marker.color}<extra></extra>\",\"legendgroup\":\"\",\"marker\":{\"color\":[2007,2007,2007,2007,2007,2007,2008,2008,2008,2008,2008,2008,2009,2009,2009,2009,2009,2009,2010,2010,2010,2010,2010,2010,2011,2011,2011,2011,2011,2011,2012,2012,2012,2012,2012,2012,2013,2013,2013,2013,2013,2013,2014,2014,2014,2014,2014,2014,2015,2015,2015,2015,2015,2015,2016,2016,2016,2016,2016,2016,2017,2017,2017,2017,2017,2017,2018,2018,2018,2018,2018,2018,2019,2019,2019,2019,2019,2019,2020,2020,2020,2020,2020,2020],\"coloraxis\":\"coloraxis\",\"pattern\":{\"shape\":\"\"}},\"name\":\"\",\"offsetgroup\":\"\",\"orientation\":\"v\",\"showlegend\":false,\"text\":[105655.0,245564.0,82948.0,110213.0,65844.0,134827.0,115006.0,116458.0,318838.0,71201.0,213890.0,248418.0,17981.0,86735.0,155022.0,155451.0,108945.0,98740.0,42126.0,113610.0,147700.0,57150.0,81069.0,184036.0,49469.0,167605.0,319771.0,134046.0,99859.0,-105434.0,310501.0,-17470.0,146031.0,133321.0,81552.0,232276.0,208977.0,197624.0,35144.0,259151.0,56258.0,207269.0,25485.0,-42499.0,101171.0,159247.0,245701.0,106081.0,215844.0,51560.0,-75942.0,55374.0,46130.0,213436.0,125361.0,199982.0,23074.0,122966.0,229296.0,117002.0,86257.0,56323.0,1200.0,109997.0,30703.0,260620.0,199145.0,81943.0,128618.0,59726.0,217173.0,256274.0,27800.0,172989.0,111028.0,117742.0,40866.0,170252.0,-21331.0,24733.0,3890.0,-18506.0,139401.0,10720.0],\"textposition\":\"outside\",\"x\":[\"CUB\",\"GIN\",\"IDN\",\"KEN\",\"NZL\",\"PRK\",\"CUB\",\"GIN\",\"IDN\",\"KEN\",\"NZL\",\"PRK\",\"CUB\",\"GIN\",\"IDN\",\"KEN\",\"NZL\",\"PRK\",\"CUB\",\"GIN\",\"IDN\",\"KEN\",\"NZL\",\"PRK\",\"CUB\",\"GIN\",\"IDN\",\"KEN\",\"NZL\",\"PRK\",\"CUB\",\"GIN\",\"IDN\",\"KEN\",\"NZL\",\"PRK\",\"CUB\",\"GIN\",\"IDN\",\"KEN\",\"NZL\",\"PRK\",\"CUB\",\"GIN\",\"IDN\",\"KEN\",\"NZL\",\"PRK\",\"CUB\",\"GIN\",\"IDN\",\"KEN\",\"NZL\",\"PRK\",\"CUB\",\"GIN\",\"IDN\",\"KEN\",\"NZL\",\"PRK\",\"CUB\",\"GIN\",\"IDN\",\"KEN\",\"NZL\",\"PRK\",\"CUB\",\"GIN\",\"IDN\",\"KEN\",\"NZL\",\"PRK\",\"CUB\",\"GIN\",\"IDN\",\"KEN\",\"NZL\",\"PRK\",\"CUB\",\"GIN\",\"IDN\",\"KEN\",\"NZL\",\"PRK\"],\"xaxis\":\"x\",\"y\":[105655,245564,82948,110213,65844,134827,115006,116458,318838,71201,213890,248418,17981,86735,155022,155451,108945,98740,42126,113610,147700,57150,81069,184036,49469,167605,319771,134046,99859,-105434,310501,-17470,146031,133321,81552,232276,208977,197624,35144,259151,56258,207269,25485,-42499,101171,159247,245701,106081,215844,51560,-75942,55374,46130,213436,125361,199982,23074,122966,229296,117002,86257,56323,1200,109997,30703,260620,199145,81943,128618,59726,217173,256274,27800,172989,111028,117742,40866,170252,-21331,24733,3890,-18506,139401,10720],\"yaxis\":\"y\",\"type\":\"bar\",\"texttemplate\":\"%{text:.2s}\"}],                        {\"template\":{\"data\":{\"barpolar\":[{\"marker\":{\"line\":{\"color\":\"white\",\"width\":0.5},\"pattern\":{\"fillmode\":\"overlay\",\"size\":10,\"solidity\":0.2}},\"type\":\"barpolar\"}],\"bar\":[{\"error_x\":{\"color\":\"#2a3f5f\"},\"error_y\":{\"color\":\"#2a3f5f\"},\"marker\":{\"line\":{\"color\":\"white\",\"width\":0.5},\"pattern\":{\"fillmode\":\"overlay\",\"size\":10,\"solidity\":0.2}},\"type\":\"bar\"}],\"carpet\":[{\"aaxis\":{\"endlinecolor\":\"#2a3f5f\",\"gridcolor\":\"#C8D4E3\",\"linecolor\":\"#C8D4E3\",\"minorgridcolor\":\"#C8D4E3\",\"startlinecolor\":\"#2a3f5f\"},\"baxis\":{\"endlinecolor\":\"#2a3f5f\",\"gridcolor\":\"#C8D4E3\",\"linecolor\":\"#C8D4E3\",\"minorgridcolor\":\"#C8D4E3\",\"startlinecolor\":\"#2a3f5f\"},\"type\":\"carpet\"}],\"choropleth\":[{\"colorbar\":{\"outlinewidth\":0,\"ticks\":\"\"},\"type\":\"choropleth\"}],\"contourcarpet\":[{\"colorbar\":{\"outlinewidth\":0,\"ticks\":\"\"},\"type\":\"contourcarpet\"}],\"contour\":[{\"colorbar\":{\"outlinewidth\":0,\"ticks\":\"\"},\"colorscale\":[[0.0,\"#0d0887\"],[0.1111111111111111,\"#46039f\"],[0.2222222222222222,\"#7201a8\"],[0.3333333333333333,\"#9c179e\"],[0.4444444444444444,\"#bd3786\"],[0.5555555555555556,\"#d8576b\"],[0.6666666666666666,\"#ed7953\"],[0.7777777777777778,\"#fb9f3a\"],[0.8888888888888888,\"#fdca26\"],[1.0,\"#f0f921\"]],\"type\":\"contour\"}],\"heatmapgl\":[{\"colorbar\":{\"outlinewidth\":0,\"ticks\":\"\"},\"colorscale\":[[0.0,\"#0d0887\"],[0.1111111111111111,\"#46039f\"],[0.2222222222222222,\"#7201a8\"],[0.3333333333333333,\"#9c179e\"],[0.4444444444444444,\"#bd3786\"],[0.5555555555555556,\"#d8576b\"],[0.6666666666666666,\"#ed7953\"],[0.7777777777777778,\"#fb9f3a\"],[0.8888888888888888,\"#fdca26\"],[1.0,\"#f0f921\"]],\"type\":\"heatmapgl\"}],\"heatmap\":[{\"colorbar\":{\"outlinewidth\":0,\"ticks\":\"\"},\"colorscale\":[[0.0,\"#0d0887\"],[0.1111111111111111,\"#46039f\"],[0.2222222222222222,\"#7201a8\"],[0.3333333333333333,\"#9c179e\"],[0.4444444444444444,\"#bd3786\"],[0.5555555555555556,\"#d8576b\"],[0.6666666666666666,\"#ed7953\"],[0.7777777777777778,\"#fb9f3a\"],[0.8888888888888888,\"#fdca26\"],[1.0,\"#f0f921\"]],\"type\":\"heatmap\"}],\"histogram2dcontour\":[{\"colorbar\":{\"outlinewidth\":0,\"ticks\":\"\"},\"colorscale\":[[0.0,\"#0d0887\"],[0.1111111111111111,\"#46039f\"],[0.2222222222222222,\"#7201a8\"],[0.3333333333333333,\"#9c179e\"],[0.4444444444444444,\"#bd3786\"],[0.5555555555555556,\"#d8576b\"],[0.6666666666666666,\"#ed7953\"],[0.7777777777777778,\"#fb9f3a\"],[0.8888888888888888,\"#fdca26\"],[1.0,\"#f0f921\"]],\"type\":\"histogram2dcontour\"}],\"histogram2d\":[{\"colorbar\":{\"outlinewidth\":0,\"ticks\":\"\"},\"colorscale\":[[0.0,\"#0d0887\"],[0.1111111111111111,\"#46039f\"],[0.2222222222222222,\"#7201a8\"],[0.3333333333333333,\"#9c179e\"],[0.4444444444444444,\"#bd3786\"],[0.5555555555555556,\"#d8576b\"],[0.6666666666666666,\"#ed7953\"],[0.7777777777777778,\"#fb9f3a\"],[0.8888888888888888,\"#fdca26\"],[1.0,\"#f0f921\"]],\"type\":\"histogram2d\"}],\"histogram\":[{\"marker\":{\"pattern\":{\"fillmode\":\"overlay\",\"size\":10,\"solidity\":0.2}},\"type\":\"histogram\"}],\"mesh3d\":[{\"colorbar\":{\"outlinewidth\":0,\"ticks\":\"\"},\"type\":\"mesh3d\"}],\"parcoords\":[{\"line\":{\"colorbar\":{\"outlinewidth\":0,\"ticks\":\"\"}},\"type\":\"parcoords\"}],\"pie\":[{\"automargin\":true,\"type\":\"pie\"}],\"scatter3d\":[{\"line\":{\"colorbar\":{\"outlinewidth\":0,\"ticks\":\"\"}},\"marker\":{\"colorbar\":{\"outlinewidth\":0,\"ticks\":\"\"}},\"type\":\"scatter3d\"}],\"scattercarpet\":[{\"marker\":{\"colorbar\":{\"outlinewidth\":0,\"ticks\":\"\"}},\"type\":\"scattercarpet\"}],\"scattergeo\":[{\"marker\":{\"colorbar\":{\"outlinewidth\":0,\"ticks\":\"\"}},\"type\":\"scattergeo\"}],\"scattergl\":[{\"marker\":{\"colorbar\":{\"outlinewidth\":0,\"ticks\":\"\"}},\"type\":\"scattergl\"}],\"scattermapbox\":[{\"marker\":{\"colorbar\":{\"outlinewidth\":0,\"ticks\":\"\"}},\"type\":\"scattermapbox\"}],\"scatterpolargl\":[{\"marker\":{\"colorbar\":{\"outlinewidth\":0,\"ticks\":\"\"}},\"type\":\"scatterpolargl\"}],\"scatterpolar\":[{\"marker\":{\"colorbar\":{\"outlinewidth\":0,\"ticks\":\"\"}},\"type\":\"scatterpolar\"}],\"scatter\":[{\"fillpattern\":{\"fillmode\":\"overlay\",\"size\":10,\"solidity\":0.2},\"type\":\"scatter\"}],\"scatterternary\":[{\"marker\":{\"colorbar\":{\"outlinewidth\":0,\"ticks\":\"\"}},\"type\":\"scatterternary\"}],\"surface\":[{\"colorbar\":{\"outlinewidth\":0,\"ticks\":\"\"},\"colorscale\":[[0.0,\"#0d0887\"],[0.1111111111111111,\"#46039f\"],[0.2222222222222222,\"#7201a8\"],[0.3333333333333333,\"#9c179e\"],[0.4444444444444444,\"#bd3786\"],[0.5555555555555556,\"#d8576b\"],[0.6666666666666666,\"#ed7953\"],[0.7777777777777778,\"#fb9f3a\"],[0.8888888888888888,\"#fdca26\"],[1.0,\"#f0f921\"]],\"type\":\"surface\"}],\"table\":[{\"cells\":{\"fill\":{\"color\":\"#EBF0F8\"},\"line\":{\"color\":\"white\"}},\"header\":{\"fill\":{\"color\":\"#C8D4E3\"},\"line\":{\"color\":\"white\"}},\"type\":\"table\"}]},\"layout\":{\"annotationdefaults\":{\"arrowcolor\":\"#2a3f5f\",\"arrowhead\":0,\"arrowwidth\":1},\"autotypenumbers\":\"strict\",\"coloraxis\":{\"colorbar\":{\"outlinewidth\":0,\"ticks\":\"\"}},\"colorscale\":{\"diverging\":[[0,\"#8e0152\"],[0.1,\"#c51b7d\"],[0.2,\"#de77ae\"],[0.3,\"#f1b6da\"],[0.4,\"#fde0ef\"],[0.5,\"#f7f7f7\"],[0.6,\"#e6f5d0\"],[0.7,\"#b8e186\"],[0.8,\"#7fbc41\"],[0.9,\"#4d9221\"],[1,\"#276419\"]],\"sequential\":[[0.0,\"#0d0887\"],[0.1111111111111111,\"#46039f\"],[0.2222222222222222,\"#7201a8\"],[0.3333333333333333,\"#9c179e\"],[0.4444444444444444,\"#bd3786\"],[0.5555555555555556,\"#d8576b\"],[0.6666666666666666,\"#ed7953\"],[0.7777777777777778,\"#fb9f3a\"],[0.8888888888888888,\"#fdca26\"],[1.0,\"#f0f921\"]],\"sequentialminus\":[[0.0,\"#0d0887\"],[0.1111111111111111,\"#46039f\"],[0.2222222222222222,\"#7201a8\"],[0.3333333333333333,\"#9c179e\"],[0.4444444444444444,\"#bd3786\"],[0.5555555555555556,\"#d8576b\"],[0.6666666666666666,\"#ed7953\"],[0.7777777777777778,\"#fb9f3a\"],[0.8888888888888888,\"#fdca26\"],[1.0,\"#f0f921\"]]},\"colorway\":[\"#636efa\",\"#EF553B\",\"#00cc96\",\"#ab63fa\",\"#FFA15A\",\"#19d3f3\",\"#FF6692\",\"#B6E880\",\"#FF97FF\",\"#FECB52\"],\"font\":{\"color\":\"#2a3f5f\"},\"geo\":{\"bgcolor\":\"white\",\"lakecolor\":\"white\",\"landcolor\":\"white\",\"showlakes\":true,\"showland\":true,\"subunitcolor\":\"#C8D4E3\"},\"hoverlabel\":{\"align\":\"left\"},\"hovermode\":\"closest\",\"mapbox\":{\"style\":\"light\"},\"paper_bgcolor\":\"white\",\"plot_bgcolor\":\"white\",\"polar\":{\"angularaxis\":{\"gridcolor\":\"#EBF0F8\",\"linecolor\":\"#EBF0F8\",\"ticks\":\"\"},\"bgcolor\":\"white\",\"radialaxis\":{\"gridcolor\":\"#EBF0F8\",\"linecolor\":\"#EBF0F8\",\"ticks\":\"\"}},\"scene\":{\"xaxis\":{\"backgroundcolor\":\"white\",\"gridcolor\":\"#DFE8F3\",\"gridwidth\":2,\"linecolor\":\"#EBF0F8\",\"showbackground\":true,\"ticks\":\"\",\"zerolinecolor\":\"#EBF0F8\"},\"yaxis\":{\"backgroundcolor\":\"white\",\"gridcolor\":\"#DFE8F3\",\"gridwidth\":2,\"linecolor\":\"#EBF0F8\",\"showbackground\":true,\"ticks\":\"\",\"zerolinecolor\":\"#EBF0F8\"},\"zaxis\":{\"backgroundcolor\":\"white\",\"gridcolor\":\"#DFE8F3\",\"gridwidth\":2,\"linecolor\":\"#EBF0F8\",\"showbackground\":true,\"ticks\":\"\",\"zerolinecolor\":\"#EBF0F8\"}},\"shapedefaults\":{\"line\":{\"color\":\"#2a3f5f\"}},\"ternary\":{\"aaxis\":{\"gridcolor\":\"#DFE8F3\",\"linecolor\":\"#A2B1C6\",\"ticks\":\"\"},\"baxis\":{\"gridcolor\":\"#DFE8F3\",\"linecolor\":\"#A2B1C6\",\"ticks\":\"\"},\"bgcolor\":\"white\",\"caxis\":{\"gridcolor\":\"#DFE8F3\",\"linecolor\":\"#A2B1C6\",\"ticks\":\"\"}},\"title\":{\"x\":0.05},\"xaxis\":{\"automargin\":true,\"gridcolor\":\"#EBF0F8\",\"linecolor\":\"#EBF0F8\",\"ticks\":\"\",\"title\":{\"standoff\":15},\"zerolinecolor\":\"#EBF0F8\",\"zerolinewidth\":2},\"yaxis\":{\"automargin\":true,\"gridcolor\":\"#EBF0F8\",\"linecolor\":\"#EBF0F8\",\"ticks\":\"\",\"title\":{\"standoff\":15},\"zerolinecolor\":\"#EBF0F8\",\"zerolinewidth\":2}}},\"xaxis\":{\"anchor\":\"y\",\"domain\":[0.0,1.0],\"title\":{\"text\":\"Country\"},\"tickmode\":\"array\",\"tickvals\":[\"CUB\",\"GIN\",\"IDN\",\"KEN\",\"NZL\",\"PRK\"],\"ticktext\":[\"Cuba\",\"Guinea\",\"Indonesia\",\"Kenya\",\"New Zealand\",\"North Korea\"]},\"yaxis\":{\"anchor\":\"x\",\"domain\":[0.0,1.0],\"title\":{\"text\":\"Trade Value (US$)\"},\"tickprefix\":\"$\",\"range\":[0,3500000]},\"coloraxis\":{\"colorbar\":{\"title\":{\"text\":\"Year\"}},\"colorscale\":[[0.0,\"rgb(103,0,31)\"],[0.1,\"rgb(178,24,43)\"],[0.2,\"rgb(214,96,77)\"],[0.3,\"rgb(244,165,130)\"],[0.4,\"rgb(253,219,199)\"],[0.5,\"rgb(247,247,247)\"],[0.6,\"rgb(209,229,240)\"],[0.7,\"rgb(146,197,222)\"],[0.8,\"rgb(67,147,195)\"],[0.9,\"rgb(33,102,172)\"],[1.0,\"rgb(5,48,97)\"]]},\"legend\":{\"tracegroupgap\":0},\"margin\":{\"t\":60},\"barmode\":\"relative\",\"font\":{\"family\":\"verdana\",\"size\":12},\"uniformtext\":{\"minsize\":8,\"mode\":\"hide\"},\"paper_bgcolor\":\"#e9f1f5\",\"plot_bgcolor\":\"#e9f1f5\",\"title\":{\"text\":\"Top trading partners overall<br><sup>Russias highest importer of goods lie within the same continent, i.e <b>Asia</b>. Highest being North-Korea followed by New Zealand and Kenya</sup>\"}},                        {\"responsive\": true}                    ).then(function(){\n",
       "                            \n",
       "var gd = document.getElementById('b96eb09d-fd6e-4845-b334-936322df06b2');\n",
       "var x = new MutationObserver(function (mutations, observer) {{\n",
       "        var display = window.getComputedStyle(gd).display;\n",
       "        if (!display || display === 'none') {{\n",
       "            console.log([gd, 'removed!']);\n",
       "            Plotly.purge(gd);\n",
       "            observer.disconnect();\n",
       "        }}\n",
       "}});\n",
       "\n",
       "// Listen for the removal of the full notebook cells\n",
       "var notebookContainer = gd.closest('#notebook-container');\n",
       "if (notebookContainer) {{\n",
       "    x.observe(notebookContainer, {childList: true});\n",
       "}}\n",
       "\n",
       "// Listen for the clearing of the current output cell\n",
       "var outputEl = gd.closest('.output');\n",
       "if (outputEl) {{\n",
       "    x.observe(outputEl, {childList: true});\n",
       "}}\n",
       "\n",
       "                        })                };                });            </script>        </div>"
      ]
     },
     "metadata": {},
     "output_type": "display_data"
    }
   ],
   "source": [
    "t5 = df1.groupby(['Year','Partner ISO']).agg({'Trade Value (US$)':'sum'}) ; t5.reset_index(inplace=True)\n",
    "t5 = t5[t5['Partner ISO'].isin(top5)]\n",
    "\n",
    "fig = px.bar(t5, x='Partner ISO', y='Trade Value (US$)', color='Year', text='Trade Value (US$)',template='plotly_white', color_continuous_scale='RdBu', labels={'Partner ISO':'Country'})\n",
    "fig.update_traces(texttemplate='%{text:.2s}', textposition='outside')\n",
    "fig.update_layout(font_family=\"verdana\",font_size=12,paper_bgcolor=\"#e9f1f5\",plot_bgcolor=\"#e9f1f5\",title='Top trading partners overall<br><sup>Russias highest importer of goods lie within the same continent, i.e <b>Asia</b>.'\n",
    "+' Highest being North-Korea followed by New Zealand and Kenya</sup>',uniformtext_minsize=8, uniformtext_mode='hide')\n",
    "fig.update_yaxes(tickprefix=\"$\")\n",
    "fig.update_layout(yaxis_range=[0,3500000],\n",
    "    xaxis = dict(\n",
    "        tickmode = 'array',\n",
    "        tickvals = ['CUB','GIN','IDN','KEN','NZL','PRK'],\n",
    "        ticktext = ['Cuba', 'Guinea', 'Indonesia', 'Kenya', 'New Zealand', 'North Korea']))\n",
    "fig.show()"
   ]
  },
  {
   "cell_type": "markdown",
   "id": "947ff20c",
   "metadata": {
    "papermill": {
     "duration": 0.022364,
     "end_time": "2023-05-10T10:22:02.863722",
     "exception": false,
     "start_time": "2023-05-10T10:22:02.841358",
     "status": "completed"
    },
    "tags": []
   },
   "source": [
    "### <div style=\"font-family: Trebuchet MS; background-color: #87beda; color: #FFFFFF; padding: 12px; line-height: 1.5;\">V. Trade Density spread throughout all Commodities | Kernel Density of Commodity Code w/ref Trade Value  </div>\n",
    "Across 100 Commodities of Aggregate level II, Most Frequently traded commodities lie between <span style=\"background-color: #87beda\">40 to 80</span>  \n",
    "Major contribution by **Chemicals - Medicinal & Pharmaceutical products - Iron & Steel - Machinery - Road Vehicles** commodities\n",
    "___"
   ]
  },
  {
   "cell_type": "code",
   "execution_count": 525,
   "id": "f3a1e48f",
   "metadata": {
    "papermill": {
     "duration": 0.820248,
     "end_time": "2023-05-10T10:22:03.703748",
     "exception": false,
     "start_time": "2023-05-10T10:22:02.883500",
     "status": "completed"
    },
    "tags": []
   },
   "outputs": [
    {
     "ename": "NotImplementedError",
     "evalue": "agg function failed [how->sum,dtype->int16]",
     "output_type": "error",
     "traceback": [
      "\u001b[1;31m---------------------------------------------------------------------------\u001b[0m",
      "\u001b[1;31mNotImplementedError\u001b[0m                       Traceback (most recent call last)",
      "File \u001b[1;32m~\\anaconda3\\Lib\\site-packages\\pandas\\core\\groupby\\groupby.py:1942\u001b[0m, in \u001b[0;36mGroupBy._agg_py_fallback\u001b[1;34m(self, how, values, ndim, alt)\u001b[0m\n\u001b[0;32m   1941\u001b[0m \u001b[38;5;28;01mtry\u001b[39;00m:\n\u001b[1;32m-> 1942\u001b[0m     res_values \u001b[38;5;241m=\u001b[39m \u001b[38;5;28mself\u001b[39m\u001b[38;5;241m.\u001b[39m_grouper\u001b[38;5;241m.\u001b[39magg_series(ser, alt, preserve_dtype\u001b[38;5;241m=\u001b[39m\u001b[38;5;28;01mTrue\u001b[39;00m)\n\u001b[0;32m   1943\u001b[0m \u001b[38;5;28;01mexcept\u001b[39;00m \u001b[38;5;167;01mException\u001b[39;00m \u001b[38;5;28;01mas\u001b[39;00m err:\n",
      "File \u001b[1;32m~\\anaconda3\\Lib\\site-packages\\pandas\\core\\groupby\\ops.py:864\u001b[0m, in \u001b[0;36mBaseGrouper.agg_series\u001b[1;34m(self, obj, func, preserve_dtype)\u001b[0m\n\u001b[0;32m    862\u001b[0m     preserve_dtype \u001b[38;5;241m=\u001b[39m \u001b[38;5;28;01mTrue\u001b[39;00m\n\u001b[1;32m--> 864\u001b[0m result \u001b[38;5;241m=\u001b[39m \u001b[38;5;28mself\u001b[39m\u001b[38;5;241m.\u001b[39m_aggregate_series_pure_python(obj, func)\n\u001b[0;32m    866\u001b[0m npvalues \u001b[38;5;241m=\u001b[39m lib\u001b[38;5;241m.\u001b[39mmaybe_convert_objects(result, try_float\u001b[38;5;241m=\u001b[39m\u001b[38;5;28;01mFalse\u001b[39;00m)\n",
      "File \u001b[1;32m~\\anaconda3\\Lib\\site-packages\\pandas\\core\\groupby\\ops.py:877\u001b[0m, in \u001b[0;36mBaseGrouper._aggregate_series_pure_python\u001b[1;34m(self, obj, func)\u001b[0m\n\u001b[0;32m    873\u001b[0m \u001b[38;5;129m@final\u001b[39m\n\u001b[0;32m    874\u001b[0m \u001b[38;5;28;01mdef\u001b[39;00m \u001b[38;5;21m_aggregate_series_pure_python\u001b[39m(\n\u001b[0;32m    875\u001b[0m     \u001b[38;5;28mself\u001b[39m, obj: Series, func: Callable\n\u001b[0;32m    876\u001b[0m ) \u001b[38;5;241m-\u001b[39m\u001b[38;5;241m>\u001b[39m npt\u001b[38;5;241m.\u001b[39mNDArray[np\u001b[38;5;241m.\u001b[39mobject_]:\n\u001b[1;32m--> 877\u001b[0m     _, _, ngroups \u001b[38;5;241m=\u001b[39m \u001b[38;5;28mself\u001b[39m\u001b[38;5;241m.\u001b[39mgroup_info\n\u001b[0;32m    879\u001b[0m     result \u001b[38;5;241m=\u001b[39m np\u001b[38;5;241m.\u001b[39mempty(ngroups, dtype\u001b[38;5;241m=\u001b[39m\u001b[38;5;124m\"\u001b[39m\u001b[38;5;124mO\u001b[39m\u001b[38;5;124m\"\u001b[39m)\n",
      "File \u001b[1;32mproperties.pyx:36\u001b[0m, in \u001b[0;36mpandas._libs.properties.CachedProperty.__get__\u001b[1;34m()\u001b[0m\n",
      "File \u001b[1;32m~\\anaconda3\\Lib\\site-packages\\pandas\\core\\groupby\\ops.py:745\u001b[0m, in \u001b[0;36mBaseGrouper.group_info\u001b[1;34m(self)\u001b[0m\n\u001b[0;32m    743\u001b[0m \u001b[38;5;129m@cache_readonly\u001b[39m\n\u001b[0;32m    744\u001b[0m \u001b[38;5;28;01mdef\u001b[39;00m \u001b[38;5;21mgroup_info\u001b[39m(\u001b[38;5;28mself\u001b[39m) \u001b[38;5;241m-\u001b[39m\u001b[38;5;241m>\u001b[39m \u001b[38;5;28mtuple\u001b[39m[npt\u001b[38;5;241m.\u001b[39mNDArray[np\u001b[38;5;241m.\u001b[39mintp], npt\u001b[38;5;241m.\u001b[39mNDArray[np\u001b[38;5;241m.\u001b[39mintp], \u001b[38;5;28mint\u001b[39m]:\n\u001b[1;32m--> 745\u001b[0m     comp_ids, obs_group_ids \u001b[38;5;241m=\u001b[39m \u001b[38;5;28mself\u001b[39m\u001b[38;5;241m.\u001b[39m_get_compressed_codes()\n\u001b[0;32m    747\u001b[0m     ngroups \u001b[38;5;241m=\u001b[39m \u001b[38;5;28mlen\u001b[39m(obs_group_ids)\n",
      "File \u001b[1;32m~\\anaconda3\\Lib\\site-packages\\pandas\\core\\groupby\\ops.py:769\u001b[0m, in \u001b[0;36mBaseGrouper._get_compressed_codes\u001b[1;34m(self)\u001b[0m\n\u001b[0;32m    768\u001b[0m ping \u001b[38;5;241m=\u001b[39m \u001b[38;5;28mself\u001b[39m\u001b[38;5;241m.\u001b[39mgroupings[\u001b[38;5;241m0\u001b[39m]\n\u001b[1;32m--> 769\u001b[0m \u001b[38;5;28;01mreturn\u001b[39;00m ping\u001b[38;5;241m.\u001b[39mcodes, np\u001b[38;5;241m.\u001b[39marange(\u001b[38;5;28mlen\u001b[39m(ping\u001b[38;5;241m.\u001b[39m_group_index), dtype\u001b[38;5;241m=\u001b[39mnp\u001b[38;5;241m.\u001b[39mintp)\n",
      "File \u001b[1;32mproperties.pyx:36\u001b[0m, in \u001b[0;36mpandas._libs.properties.CachedProperty.__get__\u001b[1;34m()\u001b[0m\n",
      "File \u001b[1;32m~\\anaconda3\\Lib\\site-packages\\pandas\\core\\groupby\\grouper.py:765\u001b[0m, in \u001b[0;36mGrouping._group_index\u001b[1;34m(self)\u001b[0m\n\u001b[0;32m    762\u001b[0m             uniques \u001b[38;5;241m=\u001b[39m Categorical\u001b[38;5;241m.\u001b[39mfrom_codes(\n\u001b[0;32m    763\u001b[0m                 new_codes, uniques\u001b[38;5;241m.\u001b[39mcategories, validate\u001b[38;5;241m=\u001b[39m\u001b[38;5;28;01mFalse\u001b[39;00m\n\u001b[0;32m    764\u001b[0m             )\n\u001b[1;32m--> 765\u001b[0m \u001b[38;5;28;01mreturn\u001b[39;00m Index\u001b[38;5;241m.\u001b[39m_with_infer(uniques, name\u001b[38;5;241m=\u001b[39m\u001b[38;5;28mself\u001b[39m\u001b[38;5;241m.\u001b[39mname)\n",
      "File \u001b[1;32m~\\anaconda3\\Lib\\site-packages\\pandas\\core\\indexes\\base.py:680\u001b[0m, in \u001b[0;36mIndex._with_infer\u001b[1;34m(cls, *args, **kwargs)\u001b[0m\n\u001b[0;32m    676\u001b[0m \u001b[38;5;250m\u001b[39m\u001b[38;5;124;03m\"\"\"\u001b[39;00m\n\u001b[0;32m    677\u001b[0m \u001b[38;5;124;03mConstructor that uses the 1.0.x behavior inferring numeric dtypes\u001b[39;00m\n\u001b[0;32m    678\u001b[0m \u001b[38;5;124;03mfor ndarray[object] inputs.\u001b[39;00m\n\u001b[0;32m    679\u001b[0m \u001b[38;5;124;03m\"\"\"\u001b[39;00m\n\u001b[1;32m--> 680\u001b[0m result \u001b[38;5;241m=\u001b[39m \u001b[38;5;28mcls\u001b[39m(\u001b[38;5;241m*\u001b[39margs, \u001b[38;5;241m*\u001b[39m\u001b[38;5;241m*\u001b[39mkwargs)\n\u001b[0;32m    682\u001b[0m \u001b[38;5;28;01mif\u001b[39;00m result\u001b[38;5;241m.\u001b[39mdtype \u001b[38;5;241m==\u001b[39m _dtype_obj \u001b[38;5;129;01mand\u001b[39;00m \u001b[38;5;129;01mnot\u001b[39;00m result\u001b[38;5;241m.\u001b[39m_is_multi:\n\u001b[0;32m    683\u001b[0m     \u001b[38;5;66;03m# error: Argument 1 to \"maybe_convert_objects\" has incompatible type\u001b[39;00m\n\u001b[0;32m    684\u001b[0m     \u001b[38;5;66;03m# \"Union[ExtensionArray, ndarray[Any, Any]]\"; expected\u001b[39;00m\n\u001b[0;32m    685\u001b[0m     \u001b[38;5;66;03m# \"ndarray[Any, Any]\"\u001b[39;00m\n",
      "File \u001b[1;32m~\\anaconda3\\Lib\\site-packages\\pandas\\core\\indexes\\base.py:576\u001b[0m, in \u001b[0;36mIndex.__new__\u001b[1;34m(cls, data, dtype, copy, name, tupleize_cols)\u001b[0m\n\u001b[0;32m    574\u001b[0m klass \u001b[38;5;241m=\u001b[39m \u001b[38;5;28mcls\u001b[39m\u001b[38;5;241m.\u001b[39m_dtype_to_subclass(arr\u001b[38;5;241m.\u001b[39mdtype)\n\u001b[1;32m--> 576\u001b[0m arr \u001b[38;5;241m=\u001b[39m klass\u001b[38;5;241m.\u001b[39m_ensure_array(arr, arr\u001b[38;5;241m.\u001b[39mdtype, copy\u001b[38;5;241m=\u001b[39m\u001b[38;5;28;01mFalse\u001b[39;00m)\n\u001b[0;32m    577\u001b[0m result \u001b[38;5;241m=\u001b[39m klass\u001b[38;5;241m.\u001b[39m_simple_new(arr, name, refs\u001b[38;5;241m=\u001b[39mrefs)\n",
      "File \u001b[1;32m~\\anaconda3\\Lib\\site-packages\\pandas\\core\\indexes\\base.py:601\u001b[0m, in \u001b[0;36mIndex._ensure_array\u001b[1;34m(cls, data, dtype, copy)\u001b[0m\n\u001b[0;32m    599\u001b[0m \u001b[38;5;28;01melif\u001b[39;00m dtype \u001b[38;5;241m==\u001b[39m np\u001b[38;5;241m.\u001b[39mfloat16:\n\u001b[0;32m    600\u001b[0m     \u001b[38;5;66;03m# float16 not supported (no indexing engine)\u001b[39;00m\n\u001b[1;32m--> 601\u001b[0m     \u001b[38;5;28;01mraise\u001b[39;00m \u001b[38;5;167;01mNotImplementedError\u001b[39;00m(\u001b[38;5;124m\"\u001b[39m\u001b[38;5;124mfloat16 indexes are not supported\u001b[39m\u001b[38;5;124m\"\u001b[39m)\n\u001b[0;32m    603\u001b[0m \u001b[38;5;28;01mif\u001b[39;00m copy:\n\u001b[0;32m    604\u001b[0m     \u001b[38;5;66;03m# asarray_tuplesafe does not always copy underlying data,\u001b[39;00m\n\u001b[0;32m    605\u001b[0m     \u001b[38;5;66;03m#  so need to make sure that this happens\u001b[39;00m\n",
      "\u001b[1;31mNotImplementedError\u001b[0m: float16 indexes are not supported",
      "\nThe above exception was the direct cause of the following exception:\n",
      "\u001b[1;31mNotImplementedError\u001b[0m                       Traceback (most recent call last)",
      "Cell \u001b[1;32mIn[525], line 4\u001b[0m\n\u001b[0;32m      1\u001b[0m \u001b[38;5;66;03m# KDE for all commodities\u001b[39;00m\n\u001b[0;32m      3\u001b[0m tt \u001b[38;5;241m=\u001b[39m df1\u001b[38;5;241m.\u001b[39mcopy()\n\u001b[1;32m----> 4\u001b[0m tt \u001b[38;5;241m=\u001b[39m tt\u001b[38;5;241m.\u001b[39mgroupby([\u001b[38;5;124m'\u001b[39m\u001b[38;5;124mCommodity Code\u001b[39m\u001b[38;5;124m'\u001b[39m,])\u001b[38;5;241m.\u001b[39magg({\u001b[38;5;124m'\u001b[39m\u001b[38;5;124mTrade Value (US$)\u001b[39m\u001b[38;5;124m'\u001b[39m:\u001b[38;5;124m'\u001b[39m\u001b[38;5;124msum\u001b[39m\u001b[38;5;124m'\u001b[39m}) ; tt\u001b[38;5;241m.\u001b[39mreset_index(inplace\u001b[38;5;241m=\u001b[39m\u001b[38;5;28;01mTrue\u001b[39;00m)\n\u001b[0;32m      5\u001b[0m sns\u001b[38;5;241m.\u001b[39mjointplot(data\u001b[38;5;241m=\u001b[39mtt, x\u001b[38;5;241m=\u001b[39m\u001b[38;5;124m'\u001b[39m\u001b[38;5;124mCommodity Code\u001b[39m\u001b[38;5;124m'\u001b[39m, y\u001b[38;5;241m=\u001b[39m\u001b[38;5;124m'\u001b[39m\u001b[38;5;124mTrade Value (US$)\u001b[39m\u001b[38;5;124m'\u001b[39m, kind\u001b[38;5;241m=\u001b[39m\u001b[38;5;124m'\u001b[39m\u001b[38;5;124mkde\u001b[39m\u001b[38;5;124m'\u001b[39m,  cmap\u001b[38;5;241m=\u001b[39m\u001b[38;5;124m'\u001b[39m\u001b[38;5;124mBlues\u001b[39m\u001b[38;5;124m'\u001b[39m, shade\u001b[38;5;241m=\u001b[39m\u001b[38;5;28;01mTrue\u001b[39;00m, thresh\u001b[38;5;241m=\u001b[39m\u001b[38;5;241m0\u001b[39m, height\u001b[38;5;241m=\u001b[39m\u001b[38;5;241m10\u001b[39m, fill\u001b[38;5;241m=\u001b[39m\u001b[38;5;28;01mTrue\u001b[39;00m)\n",
      "File \u001b[1;32m~\\anaconda3\\Lib\\site-packages\\pandas\\core\\groupby\\generic.py:1432\u001b[0m, in \u001b[0;36mDataFrameGroupBy.aggregate\u001b[1;34m(self, func, engine, engine_kwargs, *args, **kwargs)\u001b[0m\n\u001b[0;32m   1429\u001b[0m     kwargs[\u001b[38;5;124m\"\u001b[39m\u001b[38;5;124mengine_kwargs\u001b[39m\u001b[38;5;124m\"\u001b[39m] \u001b[38;5;241m=\u001b[39m engine_kwargs\n\u001b[0;32m   1431\u001b[0m op \u001b[38;5;241m=\u001b[39m GroupByApply(\u001b[38;5;28mself\u001b[39m, func, args\u001b[38;5;241m=\u001b[39margs, kwargs\u001b[38;5;241m=\u001b[39mkwargs)\n\u001b[1;32m-> 1432\u001b[0m result \u001b[38;5;241m=\u001b[39m op\u001b[38;5;241m.\u001b[39magg()\n\u001b[0;32m   1433\u001b[0m \u001b[38;5;28;01mif\u001b[39;00m \u001b[38;5;129;01mnot\u001b[39;00m is_dict_like(func) \u001b[38;5;129;01mand\u001b[39;00m result \u001b[38;5;129;01mis\u001b[39;00m \u001b[38;5;129;01mnot\u001b[39;00m \u001b[38;5;28;01mNone\u001b[39;00m:\n\u001b[0;32m   1434\u001b[0m     \u001b[38;5;66;03m# GH #52849\u001b[39;00m\n\u001b[0;32m   1435\u001b[0m     \u001b[38;5;28;01mif\u001b[39;00m \u001b[38;5;129;01mnot\u001b[39;00m \u001b[38;5;28mself\u001b[39m\u001b[38;5;241m.\u001b[39mas_index \u001b[38;5;129;01mand\u001b[39;00m is_list_like(func):\n",
      "File \u001b[1;32m~\\anaconda3\\Lib\\site-packages\\pandas\\core\\apply.py:190\u001b[0m, in \u001b[0;36mApply.agg\u001b[1;34m(self)\u001b[0m\n\u001b[0;32m    187\u001b[0m     \u001b[38;5;28;01mreturn\u001b[39;00m \u001b[38;5;28mself\u001b[39m\u001b[38;5;241m.\u001b[39mapply_str()\n\u001b[0;32m    189\u001b[0m \u001b[38;5;28;01mif\u001b[39;00m is_dict_like(func):\n\u001b[1;32m--> 190\u001b[0m     \u001b[38;5;28;01mreturn\u001b[39;00m \u001b[38;5;28mself\u001b[39m\u001b[38;5;241m.\u001b[39magg_dict_like()\n\u001b[0;32m    191\u001b[0m \u001b[38;5;28;01melif\u001b[39;00m is_list_like(func):\n\u001b[0;32m    192\u001b[0m     \u001b[38;5;66;03m# we require a list, but not a 'str'\u001b[39;00m\n\u001b[0;32m    193\u001b[0m     \u001b[38;5;28;01mreturn\u001b[39;00m \u001b[38;5;28mself\u001b[39m\u001b[38;5;241m.\u001b[39magg_list_like()\n",
      "File \u001b[1;32m~\\anaconda3\\Lib\\site-packages\\pandas\\core\\apply.py:423\u001b[0m, in \u001b[0;36mApply.agg_dict_like\u001b[1;34m(self)\u001b[0m\n\u001b[0;32m    415\u001b[0m \u001b[38;5;28;01mdef\u001b[39;00m \u001b[38;5;21magg_dict_like\u001b[39m(\u001b[38;5;28mself\u001b[39m) \u001b[38;5;241m-\u001b[39m\u001b[38;5;241m>\u001b[39m DataFrame \u001b[38;5;241m|\u001b[39m Series:\n\u001b[0;32m    416\u001b[0m \u001b[38;5;250m    \u001b[39m\u001b[38;5;124;03m\"\"\"\u001b[39;00m\n\u001b[0;32m    417\u001b[0m \u001b[38;5;124;03m    Compute aggregation in the case of a dict-like argument.\u001b[39;00m\n\u001b[0;32m    418\u001b[0m \n\u001b[1;32m   (...)\u001b[0m\n\u001b[0;32m    421\u001b[0m \u001b[38;5;124;03m    Result of aggregation.\u001b[39;00m\n\u001b[0;32m    422\u001b[0m \u001b[38;5;124;03m    \"\"\"\u001b[39;00m\n\u001b[1;32m--> 423\u001b[0m     \u001b[38;5;28;01mreturn\u001b[39;00m \u001b[38;5;28mself\u001b[39m\u001b[38;5;241m.\u001b[39magg_or_apply_dict_like(op_name\u001b[38;5;241m=\u001b[39m\u001b[38;5;124m\"\u001b[39m\u001b[38;5;124magg\u001b[39m\u001b[38;5;124m\"\u001b[39m)\n",
      "File \u001b[1;32m~\\anaconda3\\Lib\\site-packages\\pandas\\core\\apply.py:1608\u001b[0m, in \u001b[0;36mGroupByApply.agg_or_apply_dict_like\u001b[1;34m(self, op_name)\u001b[0m\n\u001b[0;32m   1603\u001b[0m     kwargs\u001b[38;5;241m.\u001b[39mupdate({\u001b[38;5;124m\"\u001b[39m\u001b[38;5;124mengine\u001b[39m\u001b[38;5;124m\"\u001b[39m: engine, \u001b[38;5;124m\"\u001b[39m\u001b[38;5;124mengine_kwargs\u001b[39m\u001b[38;5;124m\"\u001b[39m: engine_kwargs})\n\u001b[0;32m   1605\u001b[0m \u001b[38;5;28;01mwith\u001b[39;00m com\u001b[38;5;241m.\u001b[39mtemp_setattr(\n\u001b[0;32m   1606\u001b[0m     obj, \u001b[38;5;124m\"\u001b[39m\u001b[38;5;124mas_index\u001b[39m\u001b[38;5;124m\"\u001b[39m, \u001b[38;5;28;01mTrue\u001b[39;00m, condition\u001b[38;5;241m=\u001b[39m\u001b[38;5;28mhasattr\u001b[39m(obj, \u001b[38;5;124m\"\u001b[39m\u001b[38;5;124mas_index\u001b[39m\u001b[38;5;124m\"\u001b[39m)\n\u001b[0;32m   1607\u001b[0m ):\n\u001b[1;32m-> 1608\u001b[0m     result_index, result_data \u001b[38;5;241m=\u001b[39m \u001b[38;5;28mself\u001b[39m\u001b[38;5;241m.\u001b[39mcompute_dict_like(\n\u001b[0;32m   1609\u001b[0m         op_name, selected_obj, selection, kwargs\n\u001b[0;32m   1610\u001b[0m     )\n\u001b[0;32m   1611\u001b[0m result \u001b[38;5;241m=\u001b[39m \u001b[38;5;28mself\u001b[39m\u001b[38;5;241m.\u001b[39mwrap_results_dict_like(selected_obj, result_index, result_data)\n\u001b[0;32m   1612\u001b[0m \u001b[38;5;28;01mreturn\u001b[39;00m result\n",
      "File \u001b[1;32m~\\anaconda3\\Lib\\site-packages\\pandas\\core\\apply.py:496\u001b[0m, in \u001b[0;36mApply.compute_dict_like\u001b[1;34m(self, op_name, selected_obj, selection, kwargs)\u001b[0m\n\u001b[0;32m    493\u001b[0m         results \u001b[38;5;241m+\u001b[39m\u001b[38;5;241m=\u001b[39m key_data\n\u001b[0;32m    494\u001b[0m \u001b[38;5;28;01melse\u001b[39;00m:\n\u001b[0;32m    495\u001b[0m     \u001b[38;5;66;03m# key used for column selection and output\u001b[39;00m\n\u001b[1;32m--> 496\u001b[0m     results \u001b[38;5;241m=\u001b[39m [\n\u001b[0;32m    497\u001b[0m         \u001b[38;5;28mgetattr\u001b[39m(obj\u001b[38;5;241m.\u001b[39m_gotitem(key, ndim\u001b[38;5;241m=\u001b[39m\u001b[38;5;241m1\u001b[39m), op_name)(how, \u001b[38;5;241m*\u001b[39m\u001b[38;5;241m*\u001b[39mkwargs)\n\u001b[0;32m    498\u001b[0m         \u001b[38;5;28;01mfor\u001b[39;00m key, how \u001b[38;5;129;01min\u001b[39;00m func\u001b[38;5;241m.\u001b[39mitems()\n\u001b[0;32m    499\u001b[0m     ]\n\u001b[0;32m    500\u001b[0m     keys \u001b[38;5;241m=\u001b[39m \u001b[38;5;28mlist\u001b[39m(func\u001b[38;5;241m.\u001b[39mkeys())\n\u001b[0;32m    502\u001b[0m \u001b[38;5;28;01mreturn\u001b[39;00m keys, results\n",
      "File \u001b[1;32m~\\anaconda3\\Lib\\site-packages\\pandas\\core\\apply.py:497\u001b[0m, in \u001b[0;36m<listcomp>\u001b[1;34m(.0)\u001b[0m\n\u001b[0;32m    493\u001b[0m         results \u001b[38;5;241m+\u001b[39m\u001b[38;5;241m=\u001b[39m key_data\n\u001b[0;32m    494\u001b[0m \u001b[38;5;28;01melse\u001b[39;00m:\n\u001b[0;32m    495\u001b[0m     \u001b[38;5;66;03m# key used for column selection and output\u001b[39;00m\n\u001b[0;32m    496\u001b[0m     results \u001b[38;5;241m=\u001b[39m [\n\u001b[1;32m--> 497\u001b[0m         \u001b[38;5;28mgetattr\u001b[39m(obj\u001b[38;5;241m.\u001b[39m_gotitem(key, ndim\u001b[38;5;241m=\u001b[39m\u001b[38;5;241m1\u001b[39m), op_name)(how, \u001b[38;5;241m*\u001b[39m\u001b[38;5;241m*\u001b[39mkwargs)\n\u001b[0;32m    498\u001b[0m         \u001b[38;5;28;01mfor\u001b[39;00m key, how \u001b[38;5;129;01min\u001b[39;00m func\u001b[38;5;241m.\u001b[39mitems()\n\u001b[0;32m    499\u001b[0m     ]\n\u001b[0;32m    500\u001b[0m     keys \u001b[38;5;241m=\u001b[39m \u001b[38;5;28mlist\u001b[39m(func\u001b[38;5;241m.\u001b[39mkeys())\n\u001b[0;32m    502\u001b[0m \u001b[38;5;28;01mreturn\u001b[39;00m keys, results\n",
      "File \u001b[1;32m~\\anaconda3\\Lib\\site-packages\\pandas\\core\\groupby\\generic.py:249\u001b[0m, in \u001b[0;36mSeriesGroupBy.aggregate\u001b[1;34m(self, func, engine, engine_kwargs, *args, **kwargs)\u001b[0m\n\u001b[0;32m    247\u001b[0m     \u001b[38;5;28;01mif\u001b[39;00m engine_kwargs \u001b[38;5;129;01mis\u001b[39;00m \u001b[38;5;129;01mnot\u001b[39;00m \u001b[38;5;28;01mNone\u001b[39;00m:\n\u001b[0;32m    248\u001b[0m         kwargs[\u001b[38;5;124m\"\u001b[39m\u001b[38;5;124mengine_kwargs\u001b[39m\u001b[38;5;124m\"\u001b[39m] \u001b[38;5;241m=\u001b[39m engine_kwargs\n\u001b[1;32m--> 249\u001b[0m     \u001b[38;5;28;01mreturn\u001b[39;00m \u001b[38;5;28mgetattr\u001b[39m(\u001b[38;5;28mself\u001b[39m, func)(\u001b[38;5;241m*\u001b[39margs, \u001b[38;5;241m*\u001b[39m\u001b[38;5;241m*\u001b[39mkwargs)\n\u001b[0;32m    251\u001b[0m \u001b[38;5;28;01melif\u001b[39;00m \u001b[38;5;28misinstance\u001b[39m(func, abc\u001b[38;5;241m.\u001b[39mIterable):\n\u001b[0;32m    252\u001b[0m     \u001b[38;5;66;03m# Catch instances of lists / tuples\u001b[39;00m\n\u001b[0;32m    253\u001b[0m     \u001b[38;5;66;03m# but not the class list / tuple itself.\u001b[39;00m\n\u001b[0;32m    254\u001b[0m     func \u001b[38;5;241m=\u001b[39m maybe_mangle_lambdas(func)\n",
      "File \u001b[1;32m~\\anaconda3\\Lib\\site-packages\\pandas\\core\\groupby\\groupby.py:3146\u001b[0m, in \u001b[0;36mGroupBy.sum\u001b[1;34m(self, numeric_only, min_count, engine, engine_kwargs)\u001b[0m\n\u001b[0;32m   3141\u001b[0m \u001b[38;5;28;01melse\u001b[39;00m:\n\u001b[0;32m   3142\u001b[0m     \u001b[38;5;66;03m# If we are grouping on categoricals we want unobserved categories to\u001b[39;00m\n\u001b[0;32m   3143\u001b[0m     \u001b[38;5;66;03m# return zero, rather than the default of NaN which the reindexing in\u001b[39;00m\n\u001b[0;32m   3144\u001b[0m     \u001b[38;5;66;03m# _agg_general() returns. GH #31422\u001b[39;00m\n\u001b[0;32m   3145\u001b[0m     \u001b[38;5;28;01mwith\u001b[39;00m com\u001b[38;5;241m.\u001b[39mtemp_setattr(\u001b[38;5;28mself\u001b[39m, \u001b[38;5;124m\"\u001b[39m\u001b[38;5;124mobserved\u001b[39m\u001b[38;5;124m\"\u001b[39m, \u001b[38;5;28;01mTrue\u001b[39;00m):\n\u001b[1;32m-> 3146\u001b[0m         result \u001b[38;5;241m=\u001b[39m \u001b[38;5;28mself\u001b[39m\u001b[38;5;241m.\u001b[39m_agg_general(\n\u001b[0;32m   3147\u001b[0m             numeric_only\u001b[38;5;241m=\u001b[39mnumeric_only,\n\u001b[0;32m   3148\u001b[0m             min_count\u001b[38;5;241m=\u001b[39mmin_count,\n\u001b[0;32m   3149\u001b[0m             alias\u001b[38;5;241m=\u001b[39m\u001b[38;5;124m\"\u001b[39m\u001b[38;5;124msum\u001b[39m\u001b[38;5;124m\"\u001b[39m,\n\u001b[0;32m   3150\u001b[0m             npfunc\u001b[38;5;241m=\u001b[39mnp\u001b[38;5;241m.\u001b[39msum,\n\u001b[0;32m   3151\u001b[0m         )\n\u001b[0;32m   3153\u001b[0m     \u001b[38;5;28;01mreturn\u001b[39;00m \u001b[38;5;28mself\u001b[39m\u001b[38;5;241m.\u001b[39m_reindex_output(result, fill_value\u001b[38;5;241m=\u001b[39m\u001b[38;5;241m0\u001b[39m)\n",
      "File \u001b[1;32m~\\anaconda3\\Lib\\site-packages\\pandas\\core\\groupby\\groupby.py:1906\u001b[0m, in \u001b[0;36mGroupBy._agg_general\u001b[1;34m(self, numeric_only, min_count, alias, npfunc, **kwargs)\u001b[0m\n\u001b[0;32m   1896\u001b[0m \u001b[38;5;129m@final\u001b[39m\n\u001b[0;32m   1897\u001b[0m \u001b[38;5;28;01mdef\u001b[39;00m \u001b[38;5;21m_agg_general\u001b[39m(\n\u001b[0;32m   1898\u001b[0m     \u001b[38;5;28mself\u001b[39m,\n\u001b[1;32m   (...)\u001b[0m\n\u001b[0;32m   1904\u001b[0m     \u001b[38;5;241m*\u001b[39m\u001b[38;5;241m*\u001b[39mkwargs,\n\u001b[0;32m   1905\u001b[0m ):\n\u001b[1;32m-> 1906\u001b[0m     result \u001b[38;5;241m=\u001b[39m \u001b[38;5;28mself\u001b[39m\u001b[38;5;241m.\u001b[39m_cython_agg_general(\n\u001b[0;32m   1907\u001b[0m         how\u001b[38;5;241m=\u001b[39malias,\n\u001b[0;32m   1908\u001b[0m         alt\u001b[38;5;241m=\u001b[39mnpfunc,\n\u001b[0;32m   1909\u001b[0m         numeric_only\u001b[38;5;241m=\u001b[39mnumeric_only,\n\u001b[0;32m   1910\u001b[0m         min_count\u001b[38;5;241m=\u001b[39mmin_count,\n\u001b[0;32m   1911\u001b[0m         \u001b[38;5;241m*\u001b[39m\u001b[38;5;241m*\u001b[39mkwargs,\n\u001b[0;32m   1912\u001b[0m     )\n\u001b[0;32m   1913\u001b[0m     \u001b[38;5;28;01mreturn\u001b[39;00m result\u001b[38;5;241m.\u001b[39m__finalize__(\u001b[38;5;28mself\u001b[39m\u001b[38;5;241m.\u001b[39mobj, method\u001b[38;5;241m=\u001b[39m\u001b[38;5;124m\"\u001b[39m\u001b[38;5;124mgroupby\u001b[39m\u001b[38;5;124m\"\u001b[39m)\n",
      "File \u001b[1;32m~\\anaconda3\\Lib\\site-packages\\pandas\\core\\groupby\\groupby.py:1998\u001b[0m, in \u001b[0;36mGroupBy._cython_agg_general\u001b[1;34m(self, how, alt, numeric_only, min_count, **kwargs)\u001b[0m\n\u001b[0;32m   1995\u001b[0m     result \u001b[38;5;241m=\u001b[39m \u001b[38;5;28mself\u001b[39m\u001b[38;5;241m.\u001b[39m_agg_py_fallback(how, values, ndim\u001b[38;5;241m=\u001b[39mdata\u001b[38;5;241m.\u001b[39mndim, alt\u001b[38;5;241m=\u001b[39malt)\n\u001b[0;32m   1996\u001b[0m     \u001b[38;5;28;01mreturn\u001b[39;00m result\n\u001b[1;32m-> 1998\u001b[0m new_mgr \u001b[38;5;241m=\u001b[39m data\u001b[38;5;241m.\u001b[39mgrouped_reduce(array_func)\n\u001b[0;32m   1999\u001b[0m res \u001b[38;5;241m=\u001b[39m \u001b[38;5;28mself\u001b[39m\u001b[38;5;241m.\u001b[39m_wrap_agged_manager(new_mgr)\n\u001b[0;32m   2000\u001b[0m \u001b[38;5;28;01mif\u001b[39;00m how \u001b[38;5;129;01min\u001b[39;00m [\u001b[38;5;124m\"\u001b[39m\u001b[38;5;124midxmin\u001b[39m\u001b[38;5;124m\"\u001b[39m, \u001b[38;5;124m\"\u001b[39m\u001b[38;5;124midxmax\u001b[39m\u001b[38;5;124m\"\u001b[39m]:\n",
      "File \u001b[1;32m~\\anaconda3\\Lib\\site-packages\\pandas\\core\\internals\\base.py:367\u001b[0m, in \u001b[0;36mSingleDataManager.grouped_reduce\u001b[1;34m(self, func)\u001b[0m\n\u001b[0;32m    365\u001b[0m \u001b[38;5;28;01mdef\u001b[39;00m \u001b[38;5;21mgrouped_reduce\u001b[39m(\u001b[38;5;28mself\u001b[39m, func):\n\u001b[0;32m    366\u001b[0m     arr \u001b[38;5;241m=\u001b[39m \u001b[38;5;28mself\u001b[39m\u001b[38;5;241m.\u001b[39marray\n\u001b[1;32m--> 367\u001b[0m     res \u001b[38;5;241m=\u001b[39m func(arr)\n\u001b[0;32m    368\u001b[0m     index \u001b[38;5;241m=\u001b[39m default_index(\u001b[38;5;28mlen\u001b[39m(res))\n\u001b[0;32m    370\u001b[0m     mgr \u001b[38;5;241m=\u001b[39m \u001b[38;5;28mtype\u001b[39m(\u001b[38;5;28mself\u001b[39m)\u001b[38;5;241m.\u001b[39mfrom_array(res, index)\n",
      "File \u001b[1;32m~\\anaconda3\\Lib\\site-packages\\pandas\\core\\groupby\\groupby.py:1995\u001b[0m, in \u001b[0;36mGroupBy._cython_agg_general.<locals>.array_func\u001b[1;34m(values)\u001b[0m\n\u001b[0;32m   1992\u001b[0m     \u001b[38;5;28;01mreturn\u001b[39;00m result\n\u001b[0;32m   1994\u001b[0m \u001b[38;5;28;01massert\u001b[39;00m alt \u001b[38;5;129;01mis\u001b[39;00m \u001b[38;5;129;01mnot\u001b[39;00m \u001b[38;5;28;01mNone\u001b[39;00m\n\u001b[1;32m-> 1995\u001b[0m result \u001b[38;5;241m=\u001b[39m \u001b[38;5;28mself\u001b[39m\u001b[38;5;241m.\u001b[39m_agg_py_fallback(how, values, ndim\u001b[38;5;241m=\u001b[39mdata\u001b[38;5;241m.\u001b[39mndim, alt\u001b[38;5;241m=\u001b[39malt)\n\u001b[0;32m   1996\u001b[0m \u001b[38;5;28;01mreturn\u001b[39;00m result\n",
      "File \u001b[1;32m~\\anaconda3\\Lib\\site-packages\\pandas\\core\\groupby\\groupby.py:1946\u001b[0m, in \u001b[0;36mGroupBy._agg_py_fallback\u001b[1;34m(self, how, values, ndim, alt)\u001b[0m\n\u001b[0;32m   1944\u001b[0m     msg \u001b[38;5;241m=\u001b[39m \u001b[38;5;124mf\u001b[39m\u001b[38;5;124m\"\u001b[39m\u001b[38;5;124magg function failed [how->\u001b[39m\u001b[38;5;132;01m{\u001b[39;00mhow\u001b[38;5;132;01m}\u001b[39;00m\u001b[38;5;124m,dtype->\u001b[39m\u001b[38;5;132;01m{\u001b[39;00mser\u001b[38;5;241m.\u001b[39mdtype\u001b[38;5;132;01m}\u001b[39;00m\u001b[38;5;124m]\u001b[39m\u001b[38;5;124m\"\u001b[39m\n\u001b[0;32m   1945\u001b[0m     \u001b[38;5;66;03m# preserve the kind of exception that raised\u001b[39;00m\n\u001b[1;32m-> 1946\u001b[0m     \u001b[38;5;28;01mraise\u001b[39;00m \u001b[38;5;28mtype\u001b[39m(err)(msg) \u001b[38;5;28;01mfrom\u001b[39;00m \u001b[38;5;21;01merr\u001b[39;00m\n\u001b[0;32m   1948\u001b[0m \u001b[38;5;28;01mif\u001b[39;00m ser\u001b[38;5;241m.\u001b[39mdtype \u001b[38;5;241m==\u001b[39m \u001b[38;5;28mobject\u001b[39m:\n\u001b[0;32m   1949\u001b[0m     res_values \u001b[38;5;241m=\u001b[39m res_values\u001b[38;5;241m.\u001b[39mastype(\u001b[38;5;28mobject\u001b[39m, copy\u001b[38;5;241m=\u001b[39m\u001b[38;5;28;01mFalse\u001b[39;00m)\n",
      "\u001b[1;31mNotImplementedError\u001b[0m: agg function failed [how->sum,dtype->int16]"
     ]
    }
   ],
   "source": [
    "# KDE for all commodities\n",
    "\n",
    "tt = df1.copy()\n",
    "tt = tt.groupby(['Commodity Code',]).agg({'Trade Value (US$)':'sum'}) ; tt.reset_index(inplace=True)\n",
    "sns.jointplot(data=tt, x='Commodity Code', y='Trade Value (US$)', kind='kde',  cmap='Blues', shade=True, thresh=0, height=10, fill=True)"
   ]
  },
  {
   "cell_type": "markdown",
   "id": "66c4afe4",
   "metadata": {
    "papermill": {
     "duration": 0.020192,
     "end_time": "2023-05-10T10:22:03.744770",
     "exception": false,
     "start_time": "2023-05-10T10:22:03.724578",
     "status": "completed"
    },
    "tags": []
   },
   "source": [
    "### <div style=\"font-family: Trebuchet MS; background-color: #87beda; color: #FFFFFF; padding: 12px; line-height: 1.5;\">VI. Trade Density for overall Top-5 Commodities</div>\n",
    " \n",
    "<table style=\"width:50%\">\n",
    "    <style>\n",
    "table, th, td {\n",
    "  border:1px solid black;\n",
    "}\n",
    "</style> \n",
    "  <tr>\n",
    "    <th>Country</th>\n",
    "    <th>Highest</th>\n",
    "  </tr>\n",
    "  <tr>\n",
    "    <td>India</td>\n",
    "    <td>Footwear</td>\n",
    "  </tr>\n",
    "  <tr>\n",
    "    <td>USA</td>\n",
    "    <td>Beverages</td>\n",
    "  </tr>\n",
    "    <tr>\n",
    "    <td>China</td>\n",
    "    <td>Dyeing, Tanning and Coloring meterials</td>\n",
    "  </tr>\n",
    "    <tr>\n",
    "    <td>Japan</td>\n",
    "    <td>Specialized Machinery</td>\n",
    "  </tr>\n",
    "    <tr>\n",
    "    <td>Saudi Arabia</td>\n",
    "    <td>Specialized Machinery</td>\n",
    "  </tr>\n",
    "    <tr>\n",
    "    <td>Germany</td>\n",
    "    <td>Specialized Machinery</td>\n",
    "  </tr>\n",
    "</table>  \n",
    "\n",
    "\n",
    "___"
   ]
  },
  {
   "cell_type": "code",
   "execution_count": null,
   "id": "74b41388",
   "metadata": {
    "papermill": {
     "duration": 2.601821,
     "end_time": "2023-05-10T10:22:06.367090",
     "exception": false,
     "start_time": "2023-05-10T10:22:03.765269",
     "status": "completed"
    },
    "tags": []
   },
   "outputs": [],
   "source": [
    "top_com = df1.copy() ; tc = top_com\n",
    "top_com = top_com.groupby(['Commodity Code']).agg({'Trade Value (US$)':'sum'}) ; top_com.reset_index(inplace=True)\n",
    "top_com.sort_values(by='Trade Value (US$)', inplace=True, ascending=False)\n",
    "top_com = top_com['Commodity Code'].head(5)\n",
    "\n",
    "fig, ax = plt.subplots(3,2,figsize=(18,17))\n",
    "countries = ['IND','USA','CHN','JPN','SAU','DEU']\n",
    "f6_pallet = ['#67001f','#d6604d', '#9fcce2', '#4393c3','#053061']\n",
    "fig.suptitle('Density of Top-5 Commodities amongst different Countries')\n",
    "labels=['Footwear','Beverages','Dyeing, Tanning and Coloring meterials','Specialized Machinery','Telco,Sound recording/reproducing Equipment']\n",
    "fig.patch.set_facecolor('#e9f1f5')\n",
    "count = 0\n",
    "for i in range(3):\n",
    "    for j in range(2):\n",
    "        f6 = df[(df['Partner ISO'] == countries[count]) & (df['Commodity Code'].isin(top_com))]\n",
    "        f6 = f6.groupby(['Year','Commodity Code']).agg({'Trade Value (US$)':'sum'}) ;f6.reset_index(inplace=True)\n",
    "        a = sns.kdeplot(data=f6, ax=ax[i,j], x='Trade Value (US$)', hue='Commodity Code', fill=True, alpha=0.4, palette = f6_pallet, legend=False,)\n",
    "        a.set(xticklabels=[],yticklabels=[])\n",
    "        ax[i,j].set_title(countries[count]) ; count = count + 1\n",
    "fig.legend([ax], labels=labels, loc='upper left', ncol=5, mode='expand',borderaxespad=4,)"
   ]
  },
  {
   "cell_type": "markdown",
   "id": "173b18d5",
   "metadata": {
    "papermill": {
     "duration": 0.027707,
     "end_time": "2023-05-10T10:22:06.424819",
     "exception": false,
     "start_time": "2023-05-10T10:22:06.397112",
     "status": "completed"
    },
    "tags": []
   },
   "source": [
    "<a id=\"1\"></a>\n",
    "<div style=\"padding:20px;\n",
    "            color:white;\n",
    "            margin:10;\n",
    "            font-size:170%;\n",
    "            text-align:left;\n",
    "            display:fill;\n",
    "            border-radius:5px;\n",
    "            background-color:#294B8E;\n",
    "            overflow:hidden;\n",
    "            font-weight:700\">4.1 <span style='color:#CDA63A'>|</span> Top importers of popular commodities</div>"
   ]
  },
  {
   "cell_type": "markdown",
   "id": "d1204077",
   "metadata": {
    "papermill": {
     "duration": 0.027884,
     "end_time": "2023-05-10T10:22:06.480573",
     "exception": false,
     "start_time": "2023-05-10T10:22:06.452689",
     "status": "completed"
    },
    "tags": []
   },
   "source": [
    "### <div style=\"font-family: Trebuchet MS; background-color: #87beda; color: #FFFFFF; padding: 12px; line-height: 1.5;\">VII (A) Top 10 Countries importing Organic, In-Organic Chemicals 🧪 & Pharmaceutical materials 💊 💉</div>\n",
    "**Top 10** Countries have a <span style=\"background-color: #87beda\">mean import value of 80,000 USD</span> whereas the overall mean import value for the  <span style=\"background-color: #f09b7a\">world lies around 2000 USD</span>\n",
    "___"
   ]
  },
  {
   "cell_type": "code",
   "execution_count": null,
   "id": "0b205920",
   "metadata": {
    "papermill": {
     "duration": 0.382003,
     "end_time": "2023-05-10T10:22:06.890209",
     "exception": false,
     "start_time": "2023-05-10T10:22:06.508206",
     "status": "completed"
    },
    "tags": []
   },
   "outputs": [],
   "source": [
    "five = df[df['Commodity Code'].isin([51,52, 54])] ; f2 = five\n",
    "five = five.groupby(['Partner ISO']).agg({'Trade Value (US$)':'sum'}) ; five.reset_index(inplace=True)\n",
    "po = five.sort_values(by='Trade Value (US$)', ascending=False).head(10)\n",
    "\n",
    "po = po['Partner ISO']\n",
    "f2 = f2[f2['Partner ISO'].isin(po)]\n",
    "\n",
    "f2 = f2.groupby(['Partner ISO','Commodity Code']).agg({'Trade Value (US$)':'sum'}) ; f2.reset_index(inplace=True)\n",
    "avg = np.mean(f2['Trade Value (US$)'])\n",
    "\n",
    "fig = px.histogram(f2, x='Partner ISO', y='Trade Value (US$)', barmode='group', color='Commodity Code', text_auto='Trade Value (US$)',template='plotly_white',  color_discrete_sequence=cmap_chem)\n",
    "fig.update_traces(textposition='outside')\n",
    "fig.update_yaxes(tickprefix=\"$\", showgrid=True)\n",
    "fig.update_layout(font_family=\"verdana\",font_size=12,paper_bgcolor=\"#e9f1f5\",plot_bgcolor=\"#e9f1f5\",\n",
    "                    title='Top 10 Countries importing Organic, In-Organic & Pharmaceutical materials <br><sup>Mean import value of $80,000'\n",
    "                    +' | Highest Importers of Organic and In-Organic chemicals - Pharmaceuticals</sup>')\n",
    "fig.update_layout(uniformtext_minsize=5, uniformtext_mode='hide', showlegend=False)\n",
    "fig.add_shape(\n",
    "    type='line', line_color='salmon', line_width=1, opacity=1, line_dash='dot',\n",
    "    x0=0, x1=1, xref='paper', y0=avg, y1=avg, yref='y')\n",
    "fig.add_annotation(text='<i>avg '+str(avg)[:2]+'k', x='AGO', y=80000,)\n",
    "\n",
    "fig.add_annotation(text='Pharmaceuticals', x='YEM', y=174000, arrowhead=1, showarrow=True)\n",
    "fig.add_annotation(text='Organic Chemicals', x='DOM', y=160000, arrowhead=1, showarrow=True)\n",
    "fig.add_annotation(text='In-organic Chemicals', x='LBN', y=135000, arrowhead=1, showarrow=True)\n",
    "fig.update_layout(yaxis_range=[0,250000],\n",
    "    xaxis = dict(\n",
    "        tickmode = 'array',\n",
    "        tickvals = ['AGO','ARE','CHE','DOM','EGY','GTM','IRN','LBN','SGP','YEM'],\n",
    "        ticktext = ['Angola','United Arab Emirates','Switzerland','Dominican Republic','Egypt','Guatemala','Iran','Lebanon','Singapore','Yemen']))\n",
    "fig.show()"
   ]
  },
  {
   "cell_type": "markdown",
   "id": "da086e35",
   "metadata": {
    "papermill": {
     "duration": 0.027893,
     "end_time": "2023-05-10T10:22:06.947646",
     "exception": false,
     "start_time": "2023-05-10T10:22:06.919753",
     "status": "completed"
    },
    "tags": []
   },
   "source": [
    "### <div style=\"font-family: Trebuchet MS; background-color: #87beda; color: #FFFFFF; padding: 12px; line-height: 1.5;\">VII (B) Electricity  🔌 💡</div>\n",
    "**Kazakisthan** and **China** have been highest importers of Russian Electricity\n",
    "___"
   ]
  },
  {
   "cell_type": "code",
   "execution_count": null,
   "id": "cf156362",
   "metadata": {
    "papermill": {
     "duration": 0.125175,
     "end_time": "2023-05-10T10:22:07.100924",
     "exception": false,
     "start_time": "2023-05-10T10:22:06.975749",
     "status": "completed"
    },
    "tags": []
   },
   "outputs": [],
   "source": [
    "# 35\tELECTRIC CURRENT\n",
    "ec = df1[df1['Commodity Code'].isin([35])]\n",
    "ec = ec.groupby(['Partner ISO']).agg({'Trade Value (US$)':'sum'}) ; ec.reset_index(inplace=True)\n",
    "fig = px.bar(ec, y='Partner ISO', x='Trade Value (US$)', text='Trade Value (US$)',template='plotly_white',color_continuous_scale=cmap_ec, color='Trade Value (US$)')\n",
    "fig.update_traces(texttemplate='%{text:.2s}', textposition='outside')\n",
    "fig.update_layout(uniformtext_minsize=8, uniformtext_mode='hide',xaxis_range=[-95000,100000],)\n",
    "fig.update_layout(font_family=\"verdana\",font_size=12,paper_bgcolor=\"#e9f1f5\",plot_bgcolor=\"#e9f1f5\",\n",
    "                    title='Top Importers of electricity<br><sup>Majority of the trade is being done with neighbouring countries and Islands | </sup>')\n",
    "fig.add_annotation(text='Highest Importer of Electric Current', x=70000, y='LTU', arrowhead=1, showarrow=True)\n",
    "fig.add_annotation(text='Lowest Importer of Electric Current', x=13000, y='MNG', arrowhead=1, showarrow=False)\n",
    "fig.add_shape(\n",
    "    type='line', line_color='salmon', line_width=1, opacity=1, line_dash='dot',\n",
    "    x0=36650, x1=36650, xref='x', y0='AZE', y1='UKR', yref='y', )\n",
    "fig.add_annotation(text='mean 36K', x='42000', y='FIN',showarrow=False)\n",
    "\n",
    "fig.show()"
   ]
  },
  {
   "cell_type": "markdown",
   "id": "6628e715",
   "metadata": {
    "papermill": {
     "duration": 0.029358,
     "end_time": "2023-05-10T10:22:07.159524",
     "exception": false,
     "start_time": "2023-05-10T10:22:07.130166",
     "status": "completed"
    },
    "tags": []
   },
   "source": [
    "<a id=\"1\"></a>\n",
    "<div style=\"padding:20px;\n",
    "            color:white;\n",
    "            margin:10;\n",
    "            font-size:170%;\n",
    "            text-align:left;\n",
    "            display:fill;\n",
    "            border-radius:5px;\n",
    "            background-color:#294B8E;\n",
    "            overflow:hidden;\n",
    "            font-weight:700\">4.2 <span style='color:#CDA63A'>|</span> World Distribution</div>"
   ]
  },
  {
   "cell_type": "markdown",
   "id": "2574add9",
   "metadata": {
    "papermill": {
     "duration": 0.028847,
     "end_time": "2023-05-10T10:22:07.217540",
     "exception": false,
     "start_time": "2023-05-10T10:22:07.188693",
     "status": "completed"
    },
    "tags": []
   },
   "source": [
    "# <div style=\"font-family: Trebuchet MS; background-color: #d6604d; color: #FFFFFF; padding: 12px; line-height: 1.5;\"> World Distribution 🗺️</div>\n",
    "### <div style=\"font-family: Trebuchet MS; background-color: #87beda; color: #FFFFFF; padding: 12px; line-height: 1.5;\">Distribution of Popular russian commodities on World Map</div>\n",
    "\n",
    "<ol>\n",
    "  <li>Apparels 👚 👓 </li>\n",
    "  <li>Energy ⛽ 🛢️</li>\n",
    "  <li>Beverages 🍺 ☕ 🍾</li>\n",
    "</ol>   \n",
    "\n",
    "\n",
    "**.: Scale :.**  \n",
    "<span style=\"background-color: #87beda\">High t</span><span style=\"background-color: #f09b7a\">o Low</span>  \n",
    "🟦   >  🟥\n",
    "\n",
    "___"
   ]
  },
  {
   "cell_type": "code",
   "execution_count": null,
   "id": "9185ad80",
   "metadata": {
    "papermill": {
     "duration": 0.594131,
     "end_time": "2023-05-10T10:22:07.841065",
     "exception": false,
     "start_time": "2023-05-10T10:22:07.246934",
     "status": "completed"
    },
    "tags": []
   },
   "outputs": [],
   "source": [
    "# 83\tTRAVEL GOODS, HANDBAGS AND SIMILAR CONTAINERS\n",
    "# 84\tARTICLES OF APPAREL AND CLOTHING ACCESSORIES\n",
    "# 85\tFOOTWEAR\n",
    "one = df[df['Commodity Code'].isin([83,84,85])]\n",
    "one = one.groupby(['Partner ISO']).agg({'Trade Value (US$)':'sum'}) ; one.reset_index(inplace=True)\n",
    "# 32\tCOAL, COKE AND BRIQUETTES\n",
    "# 33\tPETROLEUM, PETROLEUM PRODUCTS AND RELATED MATERIALS\n",
    "# 34\tGAS, NATURAL AND MANUFACTURED\n",
    "two = df[df['Commodity Code'].isin([32,33,34])]\n",
    "two = two.groupby(['Partner ISO']).agg({'Trade Value (US$)':'sum'}) ; two.reset_index(inplace=True)\n",
    "# 11\tBEVERAGES\n",
    "# 12\tTOBACCO AND TOBACCO MANUFACTURES\n",
    "three = df[df['Commodity Code'].isin([11,12])]\n",
    "three = three.groupby(['Partner ISO']).agg({'Trade Value (US$)':'sum'}) ; three.reset_index(inplace=True)"
   ]
  },
  {
   "cell_type": "code",
   "execution_count": null,
   "id": "b6d4183a",
   "metadata": {
    "papermill": {
     "duration": 0.327646,
     "end_time": "2023-05-10T10:22:08.201428",
     "exception": false,
     "start_time": "2023-05-10T10:22:07.873782",
     "status": "completed"
    },
    "tags": []
   },
   "outputs": [],
   "source": [
    "Title = ['Top Importers of Fashionable Threads & Apparel<br><sup>Travel Goods, Footwear, Clothing apparel</sup>',\n",
    "        'Top Importers of Energy materials<br><sup>Coal, Briquettes, Gas, Fuel</sup>',\n",
    "        'Top Importers of Beverages<br><sup>Beverages, Tobacco, Tobacco manufactures</sup>',]\n",
    "for x,y in zip([one,two,three],Title) :\n",
    "    fig = px.choropleth(x,locations='Partner ISO', locationmode='ISO-3',color='Trade Value (US$)', color_continuous_scale='RdBu', color_continuous_midpoint=np.average(x['Trade Value (US$)']))\n",
    "    fig.update_layout(font_family=\"verdana\",font_size=12,title=y,paper_bgcolor=\"#e9f1f5\",plot_bgcolor=\"#e9f1f5\")\n",
    "    fig.update_layout(\n",
    "    autosize=False,\n",
    "    width=1200,\n",
    "    height=600,\n",
    "    template= 'plotly',\n",
    ") ; fig.show()"
   ]
  },
  {
   "cell_type": "markdown",
   "id": "143a7fcb",
   "metadata": {
    "papermill": {
     "duration": 0.029951,
     "end_time": "2023-05-10T10:22:08.262096",
     "exception": false,
     "start_time": "2023-05-10T10:22:08.232145",
     "status": "completed"
    },
    "tags": []
   },
   "source": [
    "<a id=\"1\"></a>\n",
    "<div style=\"padding:20px;\n",
    "            color:white;\n",
    "            margin:10;\n",
    "            font-size:170%;\n",
    "            text-align:left;\n",
    "            display:fill;\n",
    "            border-radius:5px;\n",
    "            background-color:#294B8E;\n",
    "            overflow:hidden;\n",
    "            font-weight:700\">5 <span style='color:#CDA63A'>|</span> Conclusions</div>"
   ]
  },
  {
   "cell_type": "markdown",
   "id": "817f49fe",
   "metadata": {
    "papermill": {
     "duration": 0.029189,
     "end_time": "2023-05-10T10:22:08.321046",
     "exception": false,
     "start_time": "2023-05-10T10:22:08.291857",
     "status": "completed"
    },
    "tags": []
   },
   "source": [
    "# <div style=\"font-family: Trebuchet MS; color: #FFFFFF;\"></div>\n",
    "> *  For Organic/In-Organic Chemicals 🧪 & Pharmaceutical materials 💊 💉, **Top 10** Countries have a <span style=\"background-color: #87beda\">mean import value of 80,000 USD</span> whereas the overall mean import value for the  <span style=\"background-color: #f09b7a\">world lies around 2000 USD</span>  \n",
    "> * The KDE Density for Top-5 valuable commodities being traded shows us that the World has a taste for Specialized machinery from Russia  \n",
    "> * Across 100 Commodities of Aggregate level II, Most Frequently traded commodities lie between <span style=\"background-color: #87beda\">40 to 80</span>,  Major contribution by **Chemicals - Medicinal & Pharmaceutical products - Iron & Steel - Machinery - Road Vehicles** commodities  \n",
    "> * Russias highest importer of goods lie within the same continent, i.e <b>Asia</b>.  Highest being <span style=\"background-color: #87beda\">North-Korea</span> followed by New Zealand and Kenya  \n",
    "> * We can conclude that majority of exports are with neighbouring nations or nations within land reach ( transport methods not requiring Sea / Air methods ). A study by worldbank suggests 90% of the worlds cargo is \n",
    "Russia is able to maintain a **stable** trade value overall, The trade volumes have been in a **range** of <span style=\"background-color: #32CD32\">5-8 Million USD</span>. Having a stable Trade <span style=\"background-color: #32CD32\">ensures financial security</span> and helps the nations citizens choose from a variety of options.  \n",
    "> * **Kazakisthan** and **China** have been highest importers of Russian Electricity  "
   ]
  },
  {
   "cell_type": "code",
   "execution_count": null,
   "id": "df576d72",
   "metadata": {
    "papermill": {
     "duration": 0.028969,
     "end_time": "2023-05-10T10:22:08.379337",
     "exception": false,
     "start_time": "2023-05-10T10:22:08.350368",
     "status": "completed"
    },
    "tags": []
   },
   "outputs": [],
   "source": [
    "import joblib\n",
    "\n",
    "# Save the model to a file\n",
    "joblib.dump(russian-trade, 'russian-trade.pkl')\n"
   ]
  },
  {
   "cell_type": "code",
   "execution_count": null,
   "id": "10d5ce18-a213-4eb1-9a61-376fea92d3ad",
   "metadata": {},
   "outputs": [],
   "source": []
  },
  {
   "cell_type": "code",
   "execution_count": null,
   "id": "602bc399-a372-48cd-b2c9-73a3ca3a7a79",
   "metadata": {},
   "outputs": [],
   "source": []
  },
  {
   "cell_type": "code",
   "execution_count": null,
   "id": "e6cc0be2-1d70-4f89-98e0-c62422346890",
   "metadata": {},
   "outputs": [],
   "source": []
  },
  {
   "cell_type": "code",
   "execution_count": null,
   "id": "4ad041d4-ed80-41fa-b3f4-56aa98487463",
   "metadata": {},
   "outputs": [],
   "source": []
  }
 ],
 "metadata": {
  "kernelspec": {
   "display_name": "Python 3 (ipykernel)",
   "language": "python",
   "name": "python3"
  },
  "language_info": {
   "codemirror_mode": {
    "name": "ipython",
    "version": 3
   },
   "file_extension": ".py",
   "mimetype": "text/x-python",
   "name": "python",
   "nbconvert_exporter": "python",
   "pygments_lexer": "ipython3",
   "version": "3.11.7"
  },
  "papermill": {
   "default_parameters": {},
   "duration": 56.367771,
   "end_time": "2023-05-10T10:22:09.932388",
   "environment_variables": {},
   "exception": null,
   "input_path": "__notebook__.ipynb",
   "output_path": "__notebook__.ipynb",
   "parameters": {},
   "start_time": "2023-05-10T10:21:13.564617",
   "version": "2.4.0"
  }
 },
 "nbformat": 4,
 "nbformat_minor": 5
}
